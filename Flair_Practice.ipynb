{
  "nbformat": 4,
  "nbformat_minor": 0,
  "metadata": {
    "kernelspec": {
      "name": "python3",
      "display_name": "Python 3"
    },
    "language_info": {
      "codemirror_mode": {
        "name": "ipython",
        "version": 3
      },
      "file_extension": ".py",
      "mimetype": "text/x-python",
      "name": "python",
      "nbconvert_exporter": "python",
      "pygments_lexer": "ipython3",
      "version": "3.6.4"
    },
    "colab": {
      "name": "Flair Practice.ipynb",
      "version": "0.3.2",
      "provenance": [],
      "include_colab_link": true
    },
    "accelerator": "GPU"
  },
  "cells": [
    {
      "cell_type": "markdown",
      "metadata": {
        "id": "view-in-github",
        "colab_type": "text"
      },
      "source": [
        "<a href=\"https://colab.research.google.com/github/navneetkrc/Flair_SOTA_NLP/blob/master/Flair_Practice.ipynb\" target=\"_parent\"><img src=\"https://colab.research.google.com/assets/colab-badge.svg\" alt=\"Open In Colab\"/></a>"
      ]
    },
    {
      "cell_type": "code",
      "metadata": {
        "id": "bjGmWyXyLh2-",
        "colab_type": "code",
        "colab": {}
      },
      "source": [
        "!pip install flair"
      ],
      "execution_count": 0,
      "outputs": []
    },
    {
      "cell_type": "code",
      "metadata": {
        "id": "ZHCt_lVnGNVA",
        "colab_type": "code",
        "colab": {}
      },
      "source": [
        "from flair.data import Sentence\n",
        "from flair.models import SequenceTagger"
      ],
      "execution_count": 0,
      "outputs": []
    },
    {
      "cell_type": "code",
      "metadata": {
        "id": "Ik54Kcz1GNVE",
        "colab_type": "code",
        "colab": {}
      },
      "source": [
        "sentence = Sentence('I love Berlin .')"
      ],
      "execution_count": 0,
      "outputs": []
    },
    {
      "cell_type": "code",
      "metadata": {
        "id": "xCM-_KOxGNVH",
        "colab_type": "code",
        "colab": {
          "base_uri": "https://localhost:8080/",
          "height": 122
        },
        "outputId": "2e9aef6a-97d5-45c4-de08-22608865c2c5"
      },
      "source": [
        "tagger = SequenceTagger.load('ner')"
      ],
      "execution_count": 6,
      "outputs": [
        {
          "output_type": "stream",
          "text": [
            "2019-09-03 13:31:07,179 https://s3.eu-central-1.amazonaws.com/alan-nlp/resources/models-v0.4/NER-conll03-english/en-ner-conll03-v0.4.pt not found in cache, downloading to /tmp/tmpm5m689yh\n"
          ],
          "name": "stdout"
        },
        {
          "output_type": "stream",
          "text": [
            "100%|██████████| 432197603/432197603 [00:47<00:00, 9133855.65B/s] "
          ],
          "name": "stderr"
        },
        {
          "output_type": "stream",
          "text": [
            "2019-09-03 13:31:55,629 copying /tmp/tmpm5m689yh to cache at /root/.flair/models/en-ner-conll03-v0.4.pt\n"
          ],
          "name": "stdout"
        },
        {
          "output_type": "stream",
          "text": [
            "\n"
          ],
          "name": "stderr"
        },
        {
          "output_type": "stream",
          "text": [
            "2019-09-03 13:31:58,702 removing temp file /tmp/tmpm5m689yh\n",
            "2019-09-03 13:31:58,758 loading file /root/.flair/models/en-ner-conll03-v0.4.pt\n"
          ],
          "name": "stdout"
        }
      ]
    },
    {
      "cell_type": "code",
      "metadata": {
        "id": "PVpzv9zGGNVI",
        "colab_type": "code",
        "colab": {
          "base_uri": "https://localhost:8080/",
          "height": 34
        },
        "outputId": "d333dad1-de79-4e4e-be48-6146c133b7cc"
      },
      "source": [
        "tagger.predict(sentence)"
      ],
      "execution_count": 7,
      "outputs": [
        {
          "output_type": "execute_result",
          "data": {
            "text/plain": [
              "[Sentence: \"I love Berlin .\" - 4 Tokens]"
            ]
          },
          "metadata": {
            "tags": []
          },
          "execution_count": 7
        }
      ]
    },
    {
      "cell_type": "code",
      "metadata": {
        "id": "hYmHoeP0GNVL",
        "colab_type": "code",
        "colab": {
          "base_uri": "https://localhost:8080/",
          "height": 34
        },
        "outputId": "d1765864-ec84-4e4e-ff33-6017a9c2ab3d"
      },
      "source": [
        "print(sentence)"
      ],
      "execution_count": 8,
      "outputs": [
        {
          "output_type": "stream",
          "text": [
            "Sentence: \"I love Berlin .\" - 4 Tokens\n"
          ],
          "name": "stdout"
        }
      ]
    },
    {
      "cell_type": "code",
      "metadata": {
        "id": "KLdREJfBGNVN",
        "colab_type": "code",
        "colab": {
          "base_uri": "https://localhost:8080/",
          "height": 34
        },
        "outputId": "5bcf0a2e-b342-40a7-9483-1a3a378c3fad"
      },
      "source": [
        "for entity in sentence.get_spans('ner'):\n",
        "    print(entity)"
      ],
      "execution_count": 9,
      "outputs": [
        {
          "output_type": "stream",
          "text": [
            "LOC-span [3]: \"Berlin\"\n"
          ],
          "name": "stdout"
        }
      ]
    },
    {
      "cell_type": "code",
      "metadata": {
        "id": "pXBMCFgNGNVV",
        "colab_type": "code",
        "colab": {
          "base_uri": "https://localhost:8080/",
          "height": 34
        },
        "outputId": "bc728e77-ada2-4cf2-954a-20ea002a0c69"
      },
      "source": [
        "sentence = Sentence('The grass is green .')\n",
        "print(sentence)"
      ],
      "execution_count": 10,
      "outputs": [
        {
          "output_type": "stream",
          "text": [
            "Sentence: \"The grass is green .\" - 5 Tokens\n"
          ],
          "name": "stdout"
        }
      ]
    },
    {
      "cell_type": "code",
      "metadata": {
        "id": "HBFqKogdGNVX",
        "colab_type": "code",
        "colab": {
          "base_uri": "https://localhost:8080/",
          "height": 34
        },
        "outputId": "44a5fdec-c02b-4e46-c946-e0a59008087b"
      },
      "source": [
        "print(sentence.get_token(4))"
      ],
      "execution_count": 11,
      "outputs": [
        {
          "output_type": "stream",
          "text": [
            "Token: 4 green\n"
          ],
          "name": "stdout"
        }
      ]
    },
    {
      "cell_type": "code",
      "metadata": {
        "id": "fBN6zHflGNVZ",
        "colab_type": "code",
        "colab": {
          "base_uri": "https://localhost:8080/",
          "height": 34
        },
        "outputId": "06ad5879-5159-4794-abc1-94a7ae383301"
      },
      "source": [
        "print(sentence[3])"
      ],
      "execution_count": 12,
      "outputs": [
        {
          "output_type": "stream",
          "text": [
            "Token: 4 green\n"
          ],
          "name": "stdout"
        }
      ]
    },
    {
      "cell_type": "code",
      "metadata": {
        "id": "4ism9eBCGNVc",
        "colab_type": "code",
        "colab": {
          "base_uri": "https://localhost:8080/",
          "height": 102
        },
        "outputId": "a8ca9f20-1e3d-47a1-c2ff-6fdc4b2cda2e"
      },
      "source": [
        "for token in sentence:\n",
        "    print(token)"
      ],
      "execution_count": 13,
      "outputs": [
        {
          "output_type": "stream",
          "text": [
            "Token: 1 The\n",
            "Token: 2 grass\n",
            "Token: 3 is\n",
            "Token: 4 green\n",
            "Token: 5 .\n"
          ],
          "name": "stdout"
        }
      ]
    },
    {
      "cell_type": "code",
      "metadata": {
        "id": "n1IqEu9IGNVe",
        "colab_type": "code",
        "colab": {
          "base_uri": "https://localhost:8080/",
          "height": 34
        },
        "outputId": "47abb98a-58aa-4bef-d502-beb08adc6989"
      },
      "source": [
        "sentence = Sentence('The grass is green.', use_tokenizer = True)\n",
        "print(sentence)"
      ],
      "execution_count": 14,
      "outputs": [
        {
          "output_type": "stream",
          "text": [
            "Sentence: \"The grass is green .\" - 5 Tokens\n"
          ],
          "name": "stdout"
        }
      ]
    },
    {
      "cell_type": "code",
      "metadata": {
        "id": "XeA-QQF2GNVg",
        "colab_type": "code",
        "colab": {}
      },
      "source": [
        "sentence[3].add_tag('ner', 'color')"
      ],
      "execution_count": 0,
      "outputs": []
    },
    {
      "cell_type": "code",
      "metadata": {
        "id": "gqTVzO0fGNVk",
        "colab_type": "code",
        "colab": {
          "base_uri": "https://localhost:8080/",
          "height": 34
        },
        "outputId": "4a75bb6f-818e-46a0-9a34-98af2c418e0e"
      },
      "source": [
        "print(sentence.to_tagged_string())"
      ],
      "execution_count": 16,
      "outputs": [
        {
          "output_type": "stream",
          "text": [
            "The grass is green <color> .\n"
          ],
          "name": "stdout"
        }
      ]
    },
    {
      "cell_type": "code",
      "metadata": {
        "id": "pLzSB20lGNVl",
        "colab_type": "code",
        "colab": {}
      },
      "source": [
        "from flair.data import Label"
      ],
      "execution_count": 0,
      "outputs": []
    },
    {
      "cell_type": "code",
      "metadata": {
        "id": "Dq5b2iO4GNVo",
        "colab_type": "code",
        "colab": {}
      },
      "source": [
        "tag: Label = sentence[3].get_tag('ner')"
      ],
      "execution_count": 0,
      "outputs": []
    },
    {
      "cell_type": "code",
      "metadata": {
        "id": "N2WKlnnNGNVq",
        "colab_type": "code",
        "colab": {
          "base_uri": "https://localhost:8080/",
          "height": 34
        },
        "outputId": "9885e0e5-f881-4d8d-92d0-3dcbdbd807b1"
      },
      "source": [
        "print(f'\"{sentence[3]}\" is tagged as \"{tag.value}\" with confidence score \"{tag.score}\"')"
      ],
      "execution_count": 19,
      "outputs": [
        {
          "output_type": "stream",
          "text": [
            "\"Token: 4 green\" is tagged as \"color\" with confidence score \"1.0\"\n"
          ],
          "name": "stdout"
        }
      ]
    },
    {
      "cell_type": "code",
      "metadata": {
        "id": "oBeZ9SDNGNVu",
        "colab_type": "code",
        "colab": {}
      },
      "source": [
        "sentence = Sentence('France is the current World Cup winner.')"
      ],
      "execution_count": 0,
      "outputs": []
    },
    {
      "cell_type": "code",
      "metadata": {
        "id": "vP8uvJC3GNVw",
        "colab_type": "code",
        "colab": {}
      },
      "source": [
        "sentence.add_label('sports')"
      ],
      "execution_count": 0,
      "outputs": []
    },
    {
      "cell_type": "code",
      "metadata": {
        "id": "JmQbw8kfGNVx",
        "colab_type": "code",
        "colab": {}
      },
      "source": [
        "sentence.add_labels(['sports', 'world cup'])"
      ],
      "execution_count": 0,
      "outputs": []
    },
    {
      "cell_type": "code",
      "metadata": {
        "id": "GcNiAU47GNVz",
        "colab_type": "code",
        "colab": {
          "base_uri": "https://localhost:8080/",
          "height": 54
        },
        "outputId": "5e383c41-25ae-4193-8665-f51617f53aed"
      },
      "source": [
        "print(sentence)"
      ],
      "execution_count": 23,
      "outputs": [
        {
          "output_type": "stream",
          "text": [
            "Sentence: \"France is the current World Cup winner.\" - 7 Tokens - Labels: [sports (1.0), sports (1.0), world cup (1.0)] \n"
          ],
          "name": "stdout"
        }
      ]
    },
    {
      "cell_type": "code",
      "metadata": {
        "id": "vgdcKcbSGNV2",
        "colab_type": "code",
        "colab": {
          "base_uri": "https://localhost:8080/",
          "height": 68
        },
        "outputId": "6f52b84f-37e6-414b-9da0-eebd08ec991d"
      },
      "source": [
        "for label in sentence.labels:\n",
        "    print(label)"
      ],
      "execution_count": 24,
      "outputs": [
        {
          "output_type": "stream",
          "text": [
            "sports (1.0)\n",
            "sports (1.0)\n",
            "world cup (1.0)\n"
          ],
          "name": "stdout"
        }
      ]
    },
    {
      "cell_type": "code",
      "metadata": {
        "id": "8KXBz0fvGNV5",
        "colab_type": "code",
        "colab": {
          "base_uri": "https://localhost:8080/",
          "height": 68
        },
        "outputId": "c2afc667-b7be-429e-f704-504ffbf5b3ab"
      },
      "source": [
        "sentence = Sentence('France is the current World Cup winner', labels=['sports', 'world cup'])\n",
        "print(sentence)\n",
        "for label in sentence.labels:\n",
        "    print(label)"
      ],
      "execution_count": 25,
      "outputs": [
        {
          "output_type": "stream",
          "text": [
            "Sentence: \"France is the current World Cup winner\" - 7 Tokens - Labels: [sports (1.0), world cup (1.0)] \n",
            "sports (1.0)\n",
            "world cup (1.0)\n"
          ],
          "name": "stdout"
        }
      ]
    },
    {
      "cell_type": "code",
      "metadata": {
        "id": "M_CFdx2_GNWD",
        "colab_type": "code",
        "colab": {}
      },
      "source": [
        "from flair.models import SequenceTagger"
      ],
      "execution_count": 0,
      "outputs": []
    },
    {
      "cell_type": "code",
      "metadata": {
        "id": "X2CNcHGuGNWE",
        "colab_type": "code",
        "colab": {
          "base_uri": "https://localhost:8080/",
          "height": 34
        },
        "outputId": "e8e05c13-9274-4060-8f5c-793ccd4c781a"
      },
      "source": [
        "tagger = SequenceTagger.load('ner')"
      ],
      "execution_count": 27,
      "outputs": [
        {
          "output_type": "stream",
          "text": [
            "2019-09-03 13:32:06,954 loading file /root/.flair/models/en-ner-conll03-v0.4.pt\n"
          ],
          "name": "stdout"
        }
      ]
    },
    {
      "cell_type": "code",
      "metadata": {
        "id": "LO2leDZsGNWG",
        "colab_type": "code",
        "colab": {}
      },
      "source": [
        "sentence = Sentence('George Washington went to Washington .')"
      ],
      "execution_count": 0,
      "outputs": []
    },
    {
      "cell_type": "code",
      "metadata": {
        "id": "8HV_oEatGNWI",
        "colab_type": "code",
        "colab": {
          "base_uri": "https://localhost:8080/",
          "height": 34
        },
        "outputId": "a6f9048d-2b6a-4057-ef55-32cd79049ce3"
      },
      "source": [
        "tagger.predict(sentence)"
      ],
      "execution_count": 29,
      "outputs": [
        {
          "output_type": "execute_result",
          "data": {
            "text/plain": [
              "[Sentence: \"George Washington went to Washington .\" - 6 Tokens]"
            ]
          },
          "metadata": {
            "tags": []
          },
          "execution_count": 29
        }
      ]
    },
    {
      "cell_type": "code",
      "metadata": {
        "id": "ZYo9lTnXGNWK",
        "colab_type": "code",
        "colab": {
          "base_uri": "https://localhost:8080/",
          "height": 34
        },
        "outputId": "65b43a3a-b29c-42af-f524-e833cb01d4a7"
      },
      "source": [
        "print(sentence.to_tagged_string())"
      ],
      "execution_count": 30,
      "outputs": [
        {
          "output_type": "stream",
          "text": [
            "George <B-PER> Washington <E-PER> went to Washington <S-LOC> .\n"
          ],
          "name": "stdout"
        }
      ]
    },
    {
      "cell_type": "code",
      "metadata": {
        "id": "9E_kKQ1jGNWQ",
        "colab_type": "code",
        "colab": {
          "base_uri": "https://localhost:8080/",
          "height": 51
        },
        "outputId": "a05756d6-ee62-4720-d85a-4e0857575a05"
      },
      "source": [
        "for entity in sentence.get_spans('ner'):\n",
        "    print(entity)"
      ],
      "execution_count": 31,
      "outputs": [
        {
          "output_type": "stream",
          "text": [
            "PER-span [1,2]: \"George Washington\"\n",
            "LOC-span [5]: \"Washington\"\n"
          ],
          "name": "stdout"
        }
      ]
    },
    {
      "cell_type": "code",
      "metadata": {
        "id": "a5ahf6-xGNWb",
        "colab_type": "code",
        "colab": {
          "base_uri": "https://localhost:8080/",
          "height": 54
        },
        "outputId": "6b91905b-5695-4d5a-8822-46e75643c0e8"
      },
      "source": [
        "print(sentence.to_dict(tag_type='ner'))"
      ],
      "execution_count": 32,
      "outputs": [
        {
          "output_type": "stream",
          "text": [
            "{'text': 'George Washington went to Washington .', 'labels': [], 'entities': [{'text': 'George Washington', 'start_pos': 0, 'end_pos': 17, 'type': 'PER', 'confidence': 0.9967881441116333}, {'text': 'Washington', 'start_pos': 26, 'end_pos': 36, 'type': 'LOC', 'confidence': 0.9993712306022644}]}\n"
          ],
          "name": "stdout"
        }
      ]
    },
    {
      "cell_type": "code",
      "metadata": {
        "id": "pkgddy0TGNWd",
        "colab_type": "code",
        "colab": {
          "base_uri": "https://localhost:8080/",
          "height": 122
        },
        "outputId": "e58a064e-629c-4a5c-a93b-76e6808576e5"
      },
      "source": [
        "tagger = SequenceTagger.load('frame')"
      ],
      "execution_count": 33,
      "outputs": [
        {
          "output_type": "stream",
          "text": [
            "2019-09-03 13:32:09,966 https://s3.eu-central-1.amazonaws.com/alan-nlp/resources/models-v0.4/release-frame-1/en-frame-ontonotes-v0.4.pt not found in cache, downloading to /tmp/tmp597sssws\n"
          ],
          "name": "stdout"
        },
        {
          "output_type": "stream",
          "text": [
            "100%|██████████| 290521503/290521503 [00:28<00:00, 12349259.63B/s]"
          ],
          "name": "stderr"
        },
        {
          "output_type": "stream",
          "text": [
            "2019-09-03 13:32:39,810 copying /tmp/tmp597sssws to cache at /root/.flair/models/en-frame-ontonotes-v0.4.pt\n"
          ],
          "name": "stdout"
        },
        {
          "output_type": "stream",
          "text": [
            "\n"
          ],
          "name": "stderr"
        },
        {
          "output_type": "stream",
          "text": [
            "2019-09-03 13:32:40,547 removing temp file /tmp/tmp597sssws\n",
            "2019-09-03 13:32:40,587 loading file /root/.flair/models/en-frame-ontonotes-v0.4.pt\n"
          ],
          "name": "stdout"
        }
      ]
    },
    {
      "cell_type": "code",
      "metadata": {
        "id": "ShssMLrXGNWg",
        "colab_type": "code",
        "colab": {}
      },
      "source": [
        "sentence_1 = Sentence('George returned to Berlin to return his hat .')\n",
        "sentence_2 = Sentence('He had a look at different hats .')"
      ],
      "execution_count": 0,
      "outputs": []
    },
    {
      "cell_type": "code",
      "metadata": {
        "id": "4iT8RziqGNWh",
        "colab_type": "code",
        "colab": {
          "base_uri": "https://localhost:8080/",
          "height": 34
        },
        "outputId": "b88df142-f088-4257-f476-44b81df6a2a0"
      },
      "source": [
        "tagger.predict(sentence_1)"
      ],
      "execution_count": 35,
      "outputs": [
        {
          "output_type": "execute_result",
          "data": {
            "text/plain": [
              "[Sentence: \"George returned to Berlin to return his hat .\" - 9 Tokens]"
            ]
          },
          "metadata": {
            "tags": []
          },
          "execution_count": 35
        }
      ]
    },
    {
      "cell_type": "code",
      "metadata": {
        "id": "s_gCy8yXGNWj",
        "colab_type": "code",
        "colab": {
          "base_uri": "https://localhost:8080/",
          "height": 34
        },
        "outputId": "4b01a323-f65c-44f5-f1ac-c05ae6922f88"
      },
      "source": [
        "tagger.predict(sentence_2)"
      ],
      "execution_count": 36,
      "outputs": [
        {
          "output_type": "execute_result",
          "data": {
            "text/plain": [
              "[Sentence: \"He had a look at different hats .\" - 8 Tokens]"
            ]
          },
          "metadata": {
            "tags": []
          },
          "execution_count": 36
        }
      ]
    },
    {
      "cell_type": "code",
      "metadata": {
        "id": "aibs4ZjMGNWu",
        "colab_type": "code",
        "colab": {
          "base_uri": "https://localhost:8080/",
          "height": 51
        },
        "outputId": "5a9b7160-d90e-4139-ea85-cdaa52ec6cea"
      },
      "source": [
        "print(sentence_1.to_tagged_string())\n",
        "print(sentence_2.to_tagged_string())"
      ],
      "execution_count": 37,
      "outputs": [
        {
          "output_type": "stream",
          "text": [
            "George <_> returned <return.01> to <_> Berlin <_> to <_> return <return.02> his <_> hat <_> . <_>\n",
            "He <_> had <have.03> a <_> look <look.01> at <_> different <_> hats <_> . <_>\n"
          ],
          "name": "stdout"
        }
      ]
    },
    {
      "cell_type": "code",
      "metadata": {
        "id": "VuKkrngsGNWv",
        "colab_type": "code",
        "colab": {}
      },
      "source": [
        "text = 'This is a sentence. This is another sentence. I love Berlin.'"
      ],
      "execution_count": 0,
      "outputs": []
    },
    {
      "cell_type": "code",
      "metadata": {
        "id": "hO3oMsvtGNWx",
        "colab_type": "code",
        "colab": {}
      },
      "source": [
        "from segtok.segmenter import split_single"
      ],
      "execution_count": 0,
      "outputs": []
    },
    {
      "cell_type": "code",
      "metadata": {
        "id": "6gc3aZ81GNWz",
        "colab_type": "code",
        "colab": {}
      },
      "source": [
        "sentences = [Sentence(sent, use_tokenizer=True) for sent in split_single(text)]"
      ],
      "execution_count": 0,
      "outputs": []
    },
    {
      "cell_type": "code",
      "metadata": {
        "id": "J2428O2LGNW2",
        "colab_type": "code",
        "colab": {
          "base_uri": "https://localhost:8080/",
          "height": 68
        },
        "outputId": "e41bff04-4c7a-4828-9747-1952c4c4676c"
      },
      "source": [
        "sentences"
      ],
      "execution_count": 41,
      "outputs": [
        {
          "output_type": "execute_result",
          "data": {
            "text/plain": [
              "[Sentence: \"This is a sentence .\" - 5 Tokens,\n",
              " Sentence: \"This is another sentence .\" - 5 Tokens,\n",
              " Sentence: \"I love Berlin .\" - 4 Tokens]"
            ]
          },
          "metadata": {
            "tags": []
          },
          "execution_count": 41
        }
      ]
    },
    {
      "cell_type": "code",
      "metadata": {
        "id": "G5KJDkeRGNW5",
        "colab_type": "code",
        "colab": {
          "base_uri": "https://localhost:8080/",
          "height": 85
        },
        "outputId": "87ba2b7c-ae14-4edd-8f2c-281267cc3760"
      },
      "source": [
        "tagger: SequenceTagger = SequenceTagger.load('ner')\n",
        "tagger.predict(sentences)"
      ],
      "execution_count": 42,
      "outputs": [
        {
          "output_type": "stream",
          "text": [
            "2019-09-03 13:32:42,543 loading file /root/.flair/models/en-ner-conll03-v0.4.pt\n"
          ],
          "name": "stdout"
        },
        {
          "output_type": "execute_result",
          "data": {
            "text/plain": [
              "[Sentence: \"This is a sentence .\" - 5 Tokens,\n",
              " Sentence: \"This is another sentence .\" - 5 Tokens,\n",
              " Sentence: \"I love Berlin .\" - 4 Tokens]"
            ]
          },
          "metadata": {
            "tags": []
          },
          "execution_count": 42
        }
      ]
    },
    {
      "cell_type": "code",
      "metadata": {
        "id": "QtC48gK4GNXO",
        "colab_type": "code",
        "colab": {
          "base_uri": "https://localhost:8080/",
          "height": 207
        },
        "outputId": "5d60be53-5e7b-4a98-f683-6b582d237a22"
      },
      "source": [
        "from flair.embeddings import WordEmbeddings\n",
        "\n",
        "# init embedding\n",
        "glove_embedding = WordEmbeddings('glove')"
      ],
      "execution_count": 43,
      "outputs": [
        {
          "output_type": "stream",
          "text": [
            "2019-09-03 13:32:45,288 https://s3.eu-central-1.amazonaws.com/alan-nlp/resources/embeddings/glove.gensim.vectors.npy not found in cache, downloading to /tmp/tmp4_0fqrmr\n"
          ],
          "name": "stdout"
        },
        {
          "output_type": "stream",
          "text": [
            "100%|██████████| 160000128/160000128 [00:16<00:00, 9439319.13B/s]"
          ],
          "name": "stderr"
        },
        {
          "output_type": "stream",
          "text": [
            "2019-09-03 13:33:03,387 copying /tmp/tmp4_0fqrmr to cache at /root/.flair/embeddings/glove.gensim.vectors.npy\n"
          ],
          "name": "stdout"
        },
        {
          "output_type": "stream",
          "text": [
            "\n"
          ],
          "name": "stderr"
        },
        {
          "output_type": "stream",
          "text": [
            "2019-09-03 13:33:03,897 removing temp file /tmp/tmp4_0fqrmr\n",
            "2019-09-03 13:33:05,009 https://s3.eu-central-1.amazonaws.com/alan-nlp/resources/embeddings/glove.gensim not found in cache, downloading to /tmp/tmpmvzlilsq\n"
          ],
          "name": "stdout"
        },
        {
          "output_type": "stream",
          "text": [
            "100%|██████████| 21494764/21494764 [00:04<00:00, 4660496.44B/s]"
          ],
          "name": "stderr"
        },
        {
          "output_type": "stream",
          "text": [
            "2019-09-03 13:33:10,775 copying /tmp/tmpmvzlilsq to cache at /root/.flair/embeddings/glove.gensim\n",
            "2019-09-03 13:33:10,805 removing temp file /tmp/tmpmvzlilsq\n"
          ],
          "name": "stdout"
        },
        {
          "output_type": "stream",
          "text": [
            "\n",
            "/usr/local/lib/python3.6/dist-packages/smart_open/smart_open_lib.py:398: UserWarning: This function is deprecated, use smart_open.open instead. See the migration notes for details: https://github.com/RaRe-Technologies/smart_open/blob/master/README.rst#migrating-to-the-new-open-function\n",
            "  'See the migration notes for details: %s' % _MIGRATION_NOTES_URL\n"
          ],
          "name": "stderr"
        }
      ]
    },
    {
      "cell_type": "code",
      "metadata": {
        "id": "IbEzCdH7GNXT",
        "colab_type": "code",
        "colab": {}
      },
      "source": [
        "sentence = Sentence('The grass is green .')"
      ],
      "execution_count": 0,
      "outputs": []
    },
    {
      "cell_type": "code",
      "metadata": {
        "id": "ZtTi1xe0GNXW",
        "colab_type": "code",
        "colab": {
          "base_uri": "https://localhost:8080/",
          "height": 34
        },
        "outputId": "849d7510-d22f-49d4-f808-8e98c40c6b9d"
      },
      "source": [
        "glove_embedding.embed(sentence)"
      ],
      "execution_count": 45,
      "outputs": [
        {
          "output_type": "execute_result",
          "data": {
            "text/plain": [
              "[Sentence: \"The grass is green .\" - 5 Tokens]"
            ]
          },
          "metadata": {
            "tags": []
          },
          "execution_count": 45
        }
      ]
    },
    {
      "cell_type": "code",
      "metadata": {
        "id": "NLfERoBiGNXY",
        "colab_type": "code",
        "colab": {
          "base_uri": "https://localhost:8080/",
          "height": 1000
        },
        "outputId": "2b71bced-323d-49cc-9d6b-5824daaf1a93"
      },
      "source": [
        "for token in sentence:\n",
        "    print(token)\n",
        "    print(token.embedding)"
      ],
      "execution_count": 46,
      "outputs": [
        {
          "output_type": "stream",
          "text": [
            "Token: 1 The\n",
            "tensor([-0.0382, -0.2449,  0.7281, -0.3996,  0.0832,  0.0440, -0.3914,  0.3344,\n",
            "        -0.5755,  0.0875,  0.2879, -0.0673,  0.3091, -0.2638, -0.1323, -0.2076,\n",
            "         0.3340, -0.3385, -0.3174, -0.4834,  0.1464, -0.3730,  0.3458,  0.0520,\n",
            "         0.4495, -0.4697,  0.0263, -0.5415, -0.1552, -0.1411, -0.0397,  0.2828,\n",
            "         0.1439,  0.2346, -0.3102,  0.0862,  0.2040,  0.5262,  0.1716, -0.0824,\n",
            "        -0.7179, -0.4153,  0.2033, -0.1276,  0.4137,  0.5519,  0.5791, -0.3348,\n",
            "        -0.3656, -0.5486, -0.0629,  0.2658,  0.3020,  0.9977, -0.8048, -3.0243,\n",
            "         0.0125, -0.3694,  2.2167,  0.7220, -0.2498,  0.9214,  0.0345,  0.4674,\n",
            "         1.1079, -0.1936, -0.0746,  0.2335, -0.0521, -0.2204,  0.0572, -0.1581,\n",
            "        -0.3080, -0.4162,  0.3797,  0.1501, -0.5321, -0.2055, -1.2526,  0.0716,\n",
            "         0.7056,  0.4974, -0.4206,  0.2615, -1.5380, -0.3022, -0.0734, -0.2831,\n",
            "         0.3710, -0.2522,  0.0162, -0.0171, -0.3898,  0.8742, -0.7257, -0.5106,\n",
            "        -0.5203, -0.1459,  0.8278,  0.2706], device='cuda:0')\n",
            "Token: 2 grass\n",
            "tensor([-0.8135,  0.9404, -0.2405, -0.1350,  0.0557,  0.3363,  0.0802, -0.1015,\n",
            "        -0.5478, -0.3537,  0.0734,  0.2587,  0.1987, -0.1433,  0.2507,  0.4281,\n",
            "         0.1950,  0.5346,  0.7424,  0.0578, -0.3178,  0.9436,  0.8145, -0.0824,\n",
            "         0.6166,  0.7284, -0.3262, -1.3641,  0.1232,  0.5373, -0.5123,  0.0246,\n",
            "         1.0822, -0.2296,  0.6039,  0.5541, -0.9610,  0.4803,  0.0022,  0.5591,\n",
            "        -0.1637, -0.8468,  0.0741, -0.6216,  0.0260, -0.5162, -0.0525, -0.1418,\n",
            "        -0.0161, -0.4972, -0.5534, -0.4037,  0.5096,  1.0276, -0.0840, -1.1179,\n",
            "         0.3226,  0.4928,  0.9488,  0.2040,  0.5388,  0.8397, -0.0689,  0.3136,\n",
            "         1.0450, -0.2267, -0.0896, -0.6427,  0.6443, -1.1001, -0.0096,  0.2668,\n",
            "        -0.3230, -0.6065,  0.0479, -0.1664,  0.8571,  0.2335,  0.2539,  1.2546,\n",
            "         0.5472, -0.1980, -0.7186,  0.2076, -0.2587, -0.3650,  0.0834,  0.6932,\n",
            "         0.1574,  1.0931,  0.0913, -1.3773, -0.2717,  0.7071,  0.1872, -0.3307,\n",
            "        -0.2836,  0.1030,  1.2228,  0.8374], device='cuda:0')\n",
            "Token: 3 is\n",
            "tensor([-0.5426,  0.4148,  1.0322, -0.4024,  0.4669,  0.2182, -0.0749,  0.4733,\n",
            "         0.0810, -0.2208, -0.1281, -0.1144,  0.5089,  0.1157,  0.0282, -0.3628,\n",
            "         0.4382,  0.0475,  0.2028,  0.4986, -0.1007,  0.1327,  0.1697,  0.1165,\n",
            "         0.3135,  0.2571,  0.0928, -0.5683, -0.5297, -0.0515, -0.6733,  0.9253,\n",
            "         0.2693,  0.2273,  0.6636,  0.2622,  0.1972,  0.2609,  0.1877, -0.3454,\n",
            "        -0.4263,  0.1398,  0.5634, -0.5691,  0.1240, -0.1289,  0.7248, -0.2610,\n",
            "        -0.2631, -0.4360,  0.0789, -0.8415,  0.5160,  1.3997, -0.7646, -3.1453,\n",
            "        -0.2920, -0.3125,  1.5129,  0.5243,  0.2146,  0.4245, -0.0884, -0.1780,\n",
            "         1.1876,  0.1058,  0.7657,  0.2191,  0.3582, -0.1164,  0.0933, -0.6248,\n",
            "        -0.2190,  0.2180,  0.7406, -0.4374,  0.1434,  0.1472, -1.1605, -0.0505,\n",
            "         0.1268, -0.0144, -0.9868, -0.0913, -1.2054, -0.1197,  0.0478, -0.5400,\n",
            "         0.5246, -0.7096, -0.3253, -0.1346, -0.4131,  0.3343, -0.0072,  0.3225,\n",
            "        -0.0442, -1.2969,  0.7622,  0.4635], device='cuda:0')\n",
            "Token: 4 green\n",
            "tensor([-6.7907e-01,  3.4908e-01, -2.3984e-01, -9.9652e-01,  7.3782e-01,\n",
            "        -6.5911e-04,  2.8010e-01,  1.7287e-02, -3.6063e-01,  3.6955e-02,\n",
            "        -4.0395e-01,  2.4092e-02,  2.8958e-01,  4.0497e-01,  6.9992e-01,\n",
            "         2.5269e-01,  8.0350e-01,  4.9370e-02,  1.5562e-01, -6.3286e-03,\n",
            "        -2.9414e-01,  1.4728e-01,  1.8977e-01, -5.1791e-01,  3.6986e-01,\n",
            "         7.4582e-01,  8.2689e-02, -7.2601e-01, -4.0939e-01, -9.7822e-02,\n",
            "        -1.4096e-01,  7.1121e-01,  6.1933e-01, -2.5014e-01,  4.2250e-01,\n",
            "         4.8458e-01, -5.1915e-01,  7.7125e-01,  3.6685e-01,  4.9652e-01,\n",
            "        -4.1298e-02, -1.4683e+00,  2.0038e-01,  1.8591e-01,  4.9860e-02,\n",
            "        -1.7523e-01, -3.5528e-01,  9.4153e-01, -1.1898e-01, -5.1903e-01,\n",
            "        -1.1887e-02, -3.9186e-01, -1.7479e-01,  9.3451e-01, -5.8931e-01,\n",
            "        -2.7701e+00,  3.4522e-01,  8.6533e-01,  1.0808e+00, -1.0291e-01,\n",
            "        -9.1220e-02,  5.5092e-01, -3.9473e-01,  5.3676e-01,  1.0383e+00,\n",
            "        -4.0658e-01,  2.4590e-01, -2.6797e-01, -2.6036e-01, -1.4151e-01,\n",
            "        -1.2022e-01,  1.6234e-01, -7.4320e-01, -6.4728e-01,  4.7133e-02,\n",
            "         5.1642e-01,  1.9898e-01,  2.3919e-01,  1.2550e-01,  2.2471e-01,\n",
            "         8.2613e-01,  7.8328e-02, -5.7020e-01,  2.3934e-02, -1.5410e-01,\n",
            "        -2.5739e-01,  4.1262e-01, -4.6967e-01,  8.7914e-01,  7.2629e-01,\n",
            "         5.3862e-02, -1.1575e+00, -4.7835e-01,  2.0139e-01, -1.0051e+00,\n",
            "         1.1515e-01, -9.6609e-01,  1.2960e-01,  1.8388e-01, -3.0383e-02],\n",
            "       device='cuda:0')\n",
            "Token: 5 .\n",
            "tensor([-0.3398,  0.2094,  0.4635, -0.6479, -0.3838,  0.0380,  0.1713,  0.1598,\n",
            "         0.4662, -0.0192,  0.4148, -0.3435,  0.2687,  0.0446,  0.4213, -0.4103,\n",
            "         0.1546,  0.0222, -0.6465,  0.2526,  0.0431, -0.1945,  0.4652,  0.4565,\n",
            "         0.6859,  0.0913,  0.2188, -0.7035,  0.1679, -0.3508, -0.1263,  0.6638,\n",
            "        -0.2582,  0.0365, -0.1361,  0.4025,  0.1429,  0.3813, -0.1228, -0.4589,\n",
            "        -0.2528, -0.3043, -0.1121, -0.2618, -0.2248, -0.4455,  0.2991, -0.8561,\n",
            "        -0.1450, -0.4909,  0.0083, -0.1749,  0.2752,  1.4401, -0.2124, -2.8435,\n",
            "        -0.2796, -0.4572,  1.6386,  0.7881, -0.5526,  0.6500,  0.0864,  0.3901,\n",
            "         1.0632, -0.3538,  0.4833,  0.3460,  0.8417,  0.0987, -0.2421, -0.2705,\n",
            "         0.0453, -0.4015,  0.1139,  0.0062,  0.0367,  0.0185, -1.0213, -0.2081,\n",
            "         0.6407, -0.0688, -0.5864,  0.3348, -1.1432, -0.1148, -0.2509, -0.4591,\n",
            "        -0.0968, -0.1795, -0.0634, -0.6741, -0.0689,  0.5360, -0.8777,  0.3180,\n",
            "        -0.3924, -0.2339,  0.4730, -0.0288], device='cuda:0')\n"
          ],
          "name": "stdout"
        }
      ]
    },
    {
      "cell_type": "code",
      "metadata": {
        "id": "vShqMtuoGNXZ",
        "colab_type": "code",
        "colab": {
          "base_uri": "https://localhost:8080/",
          "height": 122
        },
        "outputId": "dfae787a-93f8-4840-d38d-d01a1055cb5c"
      },
      "source": [
        "from flair.embeddings import CharacterEmbeddings\n",
        "\n",
        "# init embedding\n",
        "embedding = CharacterEmbeddings()\n",
        "\n",
        "# create a sentence\n",
        "sentence = Sentence('The grass is green .')\n",
        "\n",
        "# embed words in sentence\n",
        "embedding.embed(sentence)"
      ],
      "execution_count": 47,
      "outputs": [
        {
          "output_type": "stream",
          "text": [
            "2019-09-03 13:33:13,502 https://s3.eu-central-1.amazonaws.com/alan-nlp/resources/models/common_characters not found in cache, downloading to /tmp/tmpzt_4osyo\n"
          ],
          "name": "stdout"
        },
        {
          "output_type": "stream",
          "text": [
            "100%|██████████| 2887/2887 [00:00<00:00, 1340524.26B/s]"
          ],
          "name": "stderr"
        },
        {
          "output_type": "stream",
          "text": [
            "2019-09-03 13:33:14,581 copying /tmp/tmpzt_4osyo to cache at /root/.flair/datasets/common_characters\n",
            "2019-09-03 13:33:14,583 removing temp file /tmp/tmpzt_4osyo\n"
          ],
          "name": "stdout"
        },
        {
          "output_type": "stream",
          "text": [
            "\n"
          ],
          "name": "stderr"
        },
        {
          "output_type": "execute_result",
          "data": {
            "text/plain": [
              "[Sentence: \"The grass is green .\" - 5 Tokens]"
            ]
          },
          "metadata": {
            "tags": []
          },
          "execution_count": 47
        }
      ]
    },
    {
      "cell_type": "code",
      "metadata": {
        "id": "i3nQAx0dGNXc",
        "colab_type": "code",
        "colab": {
          "base_uri": "https://localhost:8080/",
          "height": 71
        },
        "outputId": "77ddec19-16f6-4634-e914-d2bc80f20407"
      },
      "source": [
        "from flair.embeddings import WordEmbeddings, CharacterEmbeddings\n",
        "\n",
        "glove_embedding = WordEmbeddings('glove')\n",
        "character_embeddings = CharacterEmbeddings()"
      ],
      "execution_count": 48,
      "outputs": [
        {
          "output_type": "stream",
          "text": [
            "/usr/local/lib/python3.6/dist-packages/smart_open/smart_open_lib.py:398: UserWarning: This function is deprecated, use smart_open.open instead. See the migration notes for details: https://github.com/RaRe-Technologies/smart_open/blob/master/README.rst#migrating-to-the-new-open-function\n",
            "  'See the migration notes for details: %s' % _MIGRATION_NOTES_URL\n"
          ],
          "name": "stderr"
        }
      ]
    },
    {
      "cell_type": "code",
      "metadata": {
        "id": "ukgoQpFWGNXe",
        "colab_type": "code",
        "colab": {}
      },
      "source": [
        "from flair.embeddings import StackedEmbeddings\n",
        "\n",
        "stacked_embeddings = StackedEmbeddings(\n",
        "    embeddings = [glove_embedding, character_embeddings])"
      ],
      "execution_count": 0,
      "outputs": []
    },
    {
      "cell_type": "code",
      "metadata": {
        "id": "9Xyd6yO-GNXi",
        "colab_type": "code",
        "colab": {}
      },
      "source": [
        "sentence = Sentence('The grass is green .')\n",
        "stacked_embeddings.embed(sentence)"
      ],
      "execution_count": 0,
      "outputs": []
    },
    {
      "cell_type": "code",
      "metadata": {
        "id": "muS3CRBwGNXo",
        "colab_type": "code",
        "colab": {
          "base_uri": "https://localhost:8080/",
          "height": 136
        },
        "outputId": "47e6ea69-3a58-42ff-d115-4b8605b92a49"
      },
      "source": [
        "stacked_embeddings"
      ],
      "execution_count": 51,
      "outputs": [
        {
          "output_type": "execute_result",
          "data": {
            "text/plain": [
              "StackedEmbeddings(\n",
              "  (list_embedding_0): WordEmbeddings('glove')\n",
              "  (list_embedding_1): CharacterEmbeddings(\n",
              "    (char_embedding): Embedding(275, 25)\n",
              "    (char_rnn): LSTM(25, 25, bidirectional=True)\n",
              "  )\n",
              ")"
            ]
          },
          "metadata": {
            "tags": []
          },
          "execution_count": 51
        }
      ]
    },
    {
      "cell_type": "code",
      "metadata": {
        "scrolled": false,
        "id": "mUnaOWgdGNXy",
        "colab_type": "code",
        "colab": {
          "base_uri": "https://localhost:8080/",
          "height": 1000
        },
        "outputId": "7b47ad26-b667-4c5b-82d7-48bdf5e0d636"
      },
      "source": [
        "for token in sentence:\n",
        "    print(token)\n",
        "    print(token.embedding)"
      ],
      "execution_count": 52,
      "outputs": [
        {
          "output_type": "stream",
          "text": [
            "Token: 1 The\n",
            "tensor([-3.8194e-02, -2.4487e-01,  7.2812e-01, -3.9961e-01,  8.3172e-02,\n",
            "         4.3953e-02, -3.9141e-01,  3.3440e-01, -5.7545e-01,  8.7459e-02,\n",
            "         2.8787e-01, -6.7310e-02,  3.0906e-01, -2.6384e-01, -1.3231e-01,\n",
            "        -2.0757e-01,  3.3395e-01, -3.3848e-01, -3.1743e-01, -4.8336e-01,\n",
            "         1.4640e-01, -3.7304e-01,  3.4577e-01,  5.2041e-02,  4.4946e-01,\n",
            "        -4.6971e-01,  2.6280e-02, -5.4155e-01, -1.5518e-01, -1.4107e-01,\n",
            "        -3.9722e-02,  2.8277e-01,  1.4393e-01,  2.3464e-01, -3.1021e-01,\n",
            "         8.6173e-02,  2.0397e-01,  5.2624e-01,  1.7164e-01, -8.2378e-02,\n",
            "        -7.1787e-01, -4.1531e-01,  2.0335e-01, -1.2763e-01,  4.1367e-01,\n",
            "         5.5187e-01,  5.7908e-01, -3.3477e-01, -3.6559e-01, -5.4857e-01,\n",
            "        -6.2892e-02,  2.6584e-01,  3.0205e-01,  9.9775e-01, -8.0481e-01,\n",
            "        -3.0243e+00,  1.2540e-02, -3.6942e-01,  2.2167e+00,  7.2201e-01,\n",
            "        -2.4978e-01,  9.2136e-01,  3.4514e-02,  4.6745e-01,  1.1079e+00,\n",
            "        -1.9358e-01, -7.4575e-02,  2.3353e-01, -5.2062e-02, -2.2044e-01,\n",
            "         5.7162e-02, -1.5806e-01, -3.0798e-01, -4.1625e-01,  3.7972e-01,\n",
            "         1.5006e-01, -5.3212e-01, -2.0550e-01, -1.2526e+00,  7.1624e-02,\n",
            "         7.0565e-01,  4.9744e-01, -4.2063e-01,  2.6148e-01, -1.5380e+00,\n",
            "        -3.0223e-01, -7.3438e-02, -2.8312e-01,  3.7104e-01, -2.5217e-01,\n",
            "         1.6215e-02, -1.7099e-02, -3.8984e-01,  8.7424e-01, -7.2569e-01,\n",
            "        -5.1058e-01, -5.2028e-01, -1.4590e-01,  8.2780e-01,  2.7062e-01,\n",
            "         2.0712e-01, -3.2058e-01,  3.6952e-01,  8.2604e-02,  3.4881e-02,\n",
            "        -1.1285e-01,  2.7967e-01,  1.5038e-01,  1.1830e-01,  8.7058e-02,\n",
            "        -5.8989e-02,  1.4007e-01,  1.5009e-01,  1.6426e-01,  6.3739e-02,\n",
            "        -1.8557e-01,  7.1975e-02,  4.8113e-02, -3.3179e-03,  2.4938e-01,\n",
            "         3.9470e-02, -2.4626e-01,  1.4253e-01,  3.5237e-02, -1.2543e-01,\n",
            "         5.3970e-02,  9.0231e-02, -1.3021e-01, -7.7265e-04,  1.2716e-01,\n",
            "         1.0835e-01, -3.1774e-02,  2.7230e-01,  8.3185e-02, -6.1867e-02,\n",
            "         3.1882e-01,  3.3496e-02,  2.4204e-01,  1.8854e-01, -2.5192e-02,\n",
            "         1.0098e-01,  1.3123e-01, -1.9459e-01, -4.9860e-02,  1.3557e-02,\n",
            "         1.3245e-01,  7.8569e-02,  1.0277e-01,  2.3839e-01,  9.1481e-02],\n",
            "       device='cuda:0', grad_fn=<CatBackward>)\n",
            "Token: 2 grass\n",
            "tensor([-8.1353e-01,  9.4042e-01, -2.4048e-01, -1.3501e-01,  5.5678e-02,\n",
            "         3.3625e-01,  8.0209e-02, -1.0148e-01, -5.4776e-01, -3.5365e-01,\n",
            "         7.3382e-02,  2.5868e-01,  1.9866e-01, -1.4328e-01,  2.5070e-01,\n",
            "         4.2814e-01,  1.9498e-01,  5.3456e-01,  7.4241e-01,  5.7816e-02,\n",
            "        -3.1781e-01,  9.4359e-01,  8.1450e-01, -8.2375e-02,  6.1658e-01,\n",
            "         7.2844e-01, -3.2623e-01, -1.3641e+00,  1.2320e-01,  5.3728e-01,\n",
            "        -5.1228e-01,  2.4590e-02,  1.0822e+00, -2.2959e-01,  6.0385e-01,\n",
            "         5.5415e-01, -9.6099e-01,  4.8033e-01,  2.2260e-03,  5.5913e-01,\n",
            "        -1.6365e-01, -8.4681e-01,  7.4079e-02, -6.2157e-01,  2.5967e-02,\n",
            "        -5.1621e-01, -5.2462e-02, -1.4177e-01, -1.6123e-02, -4.9719e-01,\n",
            "        -5.5345e-01, -4.0371e-01,  5.0956e-01,  1.0276e+00, -8.4000e-02,\n",
            "        -1.1179e+00,  3.2257e-01,  4.9281e-01,  9.4876e-01,  2.0403e-01,\n",
            "         5.3883e-01,  8.3972e-01, -6.8883e-02,  3.1361e-01,  1.0450e+00,\n",
            "        -2.2669e-01, -8.9601e-02, -6.4271e-01,  6.4429e-01, -1.1001e+00,\n",
            "        -9.5814e-03,  2.6682e-01, -3.2302e-01, -6.0652e-01,  4.7915e-02,\n",
            "        -1.6637e-01,  8.5712e-01,  2.3355e-01,  2.5395e-01,  1.2546e+00,\n",
            "         5.4716e-01, -1.9796e-01, -7.1863e-01,  2.0760e-01, -2.5875e-01,\n",
            "        -3.6499e-01,  8.3436e-02,  6.9317e-01,  1.5737e-01,  1.0931e+00,\n",
            "         9.1295e-02, -1.3773e+00, -2.7170e-01,  7.0708e-01,  1.8720e-01,\n",
            "        -3.3072e-01, -2.8359e-01,  1.0296e-01,  1.2228e+00,  8.3741e-01,\n",
            "        -9.8079e-02, -5.3923e-02, -1.3633e-01,  4.6104e-02,  1.8884e-01,\n",
            "        -1.0815e-02,  5.2679e-01, -1.6891e-01, -1.7607e-01, -1.0464e-01,\n",
            "         3.4246e-02, -1.6243e-01,  3.0133e-01,  9.6285e-02, -1.9140e-01,\n",
            "        -1.1789e-02,  6.3714e-02,  1.4111e-01, -7.0045e-02,  1.3929e-01,\n",
            "        -9.6958e-03, -4.4142e-02,  3.0922e-01, -3.2362e-02, -9.1823e-02,\n",
            "         8.0217e-02,  1.2726e-03, -5.0284e-02, -1.8254e-01,  1.5801e-01,\n",
            "         8.8201e-02, -5.1062e-02,  2.6853e-01, -2.8586e-02, -5.0823e-02,\n",
            "         3.7293e-01, -5.6851e-02,  3.9873e-02,  3.9021e-01, -8.8573e-02,\n",
            "        -3.8250e-02,  9.5366e-02,  4.6528e-02,  5.4262e-02,  1.7156e-01,\n",
            "         9.3875e-02, -1.4574e-03,  2.1716e-01,  3.5703e-01, -1.2212e-01],\n",
            "       device='cuda:0', grad_fn=<CatBackward>)\n",
            "Token: 3 is\n",
            "tensor([-5.4264e-01,  4.1476e-01,  1.0322e+00, -4.0244e-01,  4.6691e-01,\n",
            "         2.1816e-01, -7.4864e-02,  4.7332e-01,  8.0996e-02, -2.2079e-01,\n",
            "        -1.2808e-01, -1.1440e-01,  5.0891e-01,  1.1568e-01,  2.8211e-02,\n",
            "        -3.6280e-01,  4.3823e-01,  4.7511e-02,  2.0282e-01,  4.9857e-01,\n",
            "        -1.0068e-01,  1.3269e-01,  1.6972e-01,  1.1653e-01,  3.1355e-01,\n",
            "         2.5713e-01,  9.2783e-02, -5.6826e-01, -5.2975e-01, -5.1456e-02,\n",
            "        -6.7326e-01,  9.2533e-01,  2.6930e-01,  2.2734e-01,  6.6365e-01,\n",
            "         2.6221e-01,  1.9719e-01,  2.6090e-01,  1.8774e-01, -3.4540e-01,\n",
            "        -4.2635e-01,  1.3975e-01,  5.6338e-01, -5.6907e-01,  1.2398e-01,\n",
            "        -1.2894e-01,  7.2484e-01, -2.6105e-01, -2.6314e-01, -4.3605e-01,\n",
            "         7.8908e-02, -8.4146e-01,  5.1595e-01,  1.3997e+00, -7.6460e-01,\n",
            "        -3.1453e+00, -2.9202e-01, -3.1247e-01,  1.5129e+00,  5.2435e-01,\n",
            "         2.1456e-01,  4.2452e-01, -8.8411e-02, -1.7805e-01,  1.1876e+00,\n",
            "         1.0579e-01,  7.6571e-01,  2.1914e-01,  3.5824e-01, -1.1636e-01,\n",
            "         9.3261e-02, -6.2483e-01, -2.1898e-01,  2.1796e-01,  7.4056e-01,\n",
            "        -4.3735e-01,  1.4343e-01,  1.4719e-01, -1.1605e+00, -5.0508e-02,\n",
            "         1.2677e-01, -1.4395e-02, -9.8676e-01, -9.1297e-02, -1.2054e+00,\n",
            "        -1.1974e-01,  4.7847e-02, -5.4001e-01,  5.2457e-01, -7.0963e-01,\n",
            "        -3.2528e-01, -1.3460e-01, -4.1314e-01,  3.3435e-01, -7.2412e-03,\n",
            "         3.2253e-01, -4.4219e-02, -1.2969e+00,  7.6217e-01,  4.6349e-01,\n",
            "         7.6827e-02, -3.6148e-02, -1.1528e-01,  2.4527e-02,  1.1473e-01,\n",
            "        -8.5739e-02,  3.1592e-01, -5.0708e-02, -3.4251e-02, -5.5904e-02,\n",
            "        -4.7913e-02, -8.2734e-02,  1.8080e-01,  2.1481e-01, -1.1982e-01,\n",
            "        -2.5459e-02,  5.9173e-02,  6.9385e-02, -1.6471e-02,  3.9022e-02,\n",
            "         4.0162e-02, -4.2920e-02,  1.2513e-01,  3.1744e-02, -8.9947e-05,\n",
            "         8.0217e-02,  1.2726e-03, -5.0284e-02, -1.8254e-01,  1.5801e-01,\n",
            "         8.8201e-02, -5.1062e-02,  2.6853e-01, -2.8586e-02, -5.0823e-02,\n",
            "         3.7293e-01, -5.6851e-02,  3.9873e-02,  3.9021e-01, -8.8573e-02,\n",
            "        -3.8250e-02,  9.5366e-02,  4.6528e-02,  5.4262e-02,  1.7156e-01,\n",
            "         9.3875e-02, -1.4574e-03,  2.1716e-01,  3.5703e-01, -1.2212e-01],\n",
            "       device='cuda:0', grad_fn=<CatBackward>)\n",
            "Token: 4 green\n",
            "tensor([-6.7907e-01,  3.4908e-01, -2.3984e-01, -9.9652e-01,  7.3782e-01,\n",
            "        -6.5911e-04,  2.8010e-01,  1.7287e-02, -3.6063e-01,  3.6955e-02,\n",
            "        -4.0395e-01,  2.4092e-02,  2.8958e-01,  4.0497e-01,  6.9992e-01,\n",
            "         2.5269e-01,  8.0350e-01,  4.9370e-02,  1.5562e-01, -6.3286e-03,\n",
            "        -2.9414e-01,  1.4728e-01,  1.8977e-01, -5.1791e-01,  3.6986e-01,\n",
            "         7.4582e-01,  8.2689e-02, -7.2601e-01, -4.0939e-01, -9.7822e-02,\n",
            "        -1.4096e-01,  7.1121e-01,  6.1933e-01, -2.5014e-01,  4.2250e-01,\n",
            "         4.8458e-01, -5.1915e-01,  7.7125e-01,  3.6685e-01,  4.9652e-01,\n",
            "        -4.1298e-02, -1.4683e+00,  2.0038e-01,  1.8591e-01,  4.9860e-02,\n",
            "        -1.7523e-01, -3.5528e-01,  9.4153e-01, -1.1898e-01, -5.1903e-01,\n",
            "        -1.1887e-02, -3.9186e-01, -1.7479e-01,  9.3451e-01, -5.8931e-01,\n",
            "        -2.7701e+00,  3.4522e-01,  8.6533e-01,  1.0808e+00, -1.0291e-01,\n",
            "        -9.1220e-02,  5.5092e-01, -3.9473e-01,  5.3676e-01,  1.0383e+00,\n",
            "        -4.0658e-01,  2.4590e-01, -2.6797e-01, -2.6036e-01, -1.4151e-01,\n",
            "        -1.2022e-01,  1.6234e-01, -7.4320e-01, -6.4728e-01,  4.7133e-02,\n",
            "         5.1642e-01,  1.9898e-01,  2.3919e-01,  1.2550e-01,  2.2471e-01,\n",
            "         8.2613e-01,  7.8328e-02, -5.7020e-01,  2.3934e-02, -1.5410e-01,\n",
            "        -2.5739e-01,  4.1262e-01, -4.6967e-01,  8.7914e-01,  7.2629e-01,\n",
            "         5.3862e-02, -1.1575e+00, -4.7835e-01,  2.0139e-01, -1.0051e+00,\n",
            "         1.1515e-01, -9.6609e-01,  1.2960e-01,  1.8388e-01, -3.0383e-02,\n",
            "         3.8867e-01, -2.2260e-01,  2.3838e-01, -2.7768e-01, -7.2848e-02,\n",
            "        -2.3169e-01,  2.1022e-02, -5.2021e-02, -1.3145e-02,  8.6094e-02,\n",
            "        -2.7506e-01,  2.7510e-01,  8.7321e-02,  5.6346e-02,  7.6548e-02,\n",
            "        -7.4589e-02,  9.7047e-02,  1.0235e-01,  1.4656e-01,  6.6868e-02,\n",
            "         5.9795e-02, -7.8591e-02, -9.7982e-02, -3.3739e-02,  1.0554e-01,\n",
            "         6.9745e-02, -1.5522e-01, -2.4103e-01, -9.3671e-02,  5.1994e-02,\n",
            "         1.6424e-01, -7.8811e-02,  9.1391e-02, -6.2777e-02, -2.1072e-02,\n",
            "         1.0136e-01, -1.0548e-01, -1.0911e-01, -1.2295e-02, -8.7439e-02,\n",
            "        -5.5688e-02,  1.7420e-01,  5.0962e-02,  1.0461e-01, -6.2756e-02,\n",
            "        -5.5569e-02,  1.2126e-01, -3.4434e-01,  2.5421e-02, -4.7225e-02],\n",
            "       device='cuda:0', grad_fn=<CatBackward>)\n",
            "Token: 5 .\n",
            "tensor([-3.3979e-01,  2.0941e-01,  4.6348e-01, -6.4792e-01, -3.8377e-01,\n",
            "         3.8034e-02,  1.7127e-01,  1.5978e-01,  4.6619e-01, -1.9169e-02,\n",
            "         4.1479e-01, -3.4349e-01,  2.6872e-01,  4.4640e-02,  4.2131e-01,\n",
            "        -4.1032e-01,  1.5459e-01,  2.2239e-02, -6.4653e-01,  2.5256e-01,\n",
            "         4.3136e-02, -1.9445e-01,  4.6516e-01,  4.5651e-01,  6.8588e-01,\n",
            "         9.1295e-02,  2.1875e-01, -7.0351e-01,  1.6785e-01, -3.5079e-01,\n",
            "        -1.2634e-01,  6.6384e-01, -2.5820e-01,  3.6542e-02, -1.3605e-01,\n",
            "         4.0253e-01,  1.4289e-01,  3.8132e-01, -1.2283e-01, -4.5886e-01,\n",
            "        -2.5282e-01, -3.0432e-01, -1.1215e-01, -2.6182e-01, -2.2482e-01,\n",
            "        -4.4554e-01,  2.9910e-01, -8.5612e-01, -1.4503e-01, -4.9086e-01,\n",
            "         8.2973e-03, -1.7491e-01,  2.7524e-01,  1.4401e+00, -2.1239e-01,\n",
            "        -2.8435e+00, -2.7958e-01, -4.5722e-01,  1.6386e+00,  7.8808e-01,\n",
            "        -5.5262e-01,  6.5000e-01,  8.6426e-02,  3.9012e-01,  1.0632e+00,\n",
            "        -3.5379e-01,  4.8328e-01,  3.4600e-01,  8.4174e-01,  9.8707e-02,\n",
            "        -2.4213e-01, -2.7053e-01,  4.5287e-02, -4.0147e-01,  1.1395e-01,\n",
            "         6.2226e-03,  3.6673e-02,  1.8518e-02, -1.0213e+00, -2.0806e-01,\n",
            "         6.4072e-01, -6.8763e-02, -5.8635e-01,  3.3476e-01, -1.1432e+00,\n",
            "        -1.1480e-01, -2.5091e-01, -4.5907e-01, -9.6819e-02, -1.7946e-01,\n",
            "        -6.3351e-02, -6.7412e-01, -6.8895e-02,  5.3604e-01, -8.7773e-01,\n",
            "         3.1802e-01, -3.9242e-01, -2.3394e-01,  4.7298e-01, -2.8803e-02,\n",
            "        -1.6523e-01,  3.3509e-02, -1.4812e-02,  2.2801e-02, -3.7614e-02,\n",
            "        -1.2271e-01,  3.6012e-03, -8.3552e-02, -1.1287e-01,  1.4722e-02,\n",
            "         1.4432e-01,  1.4681e-01, -1.8423e-03, -2.6641e-02, -1.0073e-01,\n",
            "        -6.0931e-02,  4.9745e-02,  7.4234e-02,  1.0500e-01,  3.1142e-02,\n",
            "        -3.6437e-02, -8.9748e-02, -1.1871e-01,  1.6160e-01, -1.8841e-01,\n",
            "         1.7396e-02,  9.1627e-02,  7.7497e-03,  1.3498e-01, -3.2732e-02,\n",
            "         7.4784e-02,  5.2767e-02, -1.1328e-01, -1.2285e-01,  2.5286e-01,\n",
            "        -5.9582e-02,  2.1709e-02,  1.4524e-02, -7.1256e-02,  6.9880e-02,\n",
            "        -1.1613e-01, -2.9179e-02,  8.1887e-02,  1.0275e-01, -2.1826e-01,\n",
            "        -1.3219e-01,  1.9203e-03, -1.0451e-03, -1.0232e-01, -2.0282e-01],\n",
            "       device='cuda:0', grad_fn=<CatBackward>)\n"
          ],
          "name": "stdout"
        }
      ]
    },
    {
      "cell_type": "code",
      "metadata": {
        "id": "vTqeUb8PGNX0",
        "colab_type": "code",
        "colab": {
          "base_uri": "https://localhost:8080/",
          "height": 275
        },
        "outputId": "d07cd52c-d267-475f-fc41-657606e50598"
      },
      "source": [
        "from flair.embeddings import WordEmbeddings, CharLMEmbeddings, DocumentPoolEmbeddings, Sentence\n",
        "\n",
        "glove_embedding = WordEmbeddings('glove')\n",
        "charlm_embedding_forward = CharLMEmbeddings('news-forward')\n",
        "charlm_embedding_backward = CharLMEmbeddings('news-backward')\n",
        "document_embeddings = DocumentPoolEmbeddings([glove_embedding, \n",
        "                                              charlm_embedding_forward, \n",
        "                                              charlm_embedding_backward])"
      ],
      "execution_count": 53,
      "outputs": [
        {
          "output_type": "stream",
          "text": [
            "/usr/local/lib/python3.6/dist-packages/smart_open/smart_open_lib.py:398: UserWarning: This function is deprecated, use smart_open.open instead. See the migration notes for details: https://github.com/RaRe-Technologies/smart_open/blob/master/README.rst#migrating-to-the-new-open-function\n",
            "  'See the migration notes for details: %s' % _MIGRATION_NOTES_URL\n",
            "/usr/local/lib/python3.6/dist-packages/ipykernel_launcher.py:4: DeprecationWarning: Call to deprecated method __init__. (Use 'FlairEmbeddings' instead.) -- Deprecated since version 0.4.\n",
            "  after removing the cwd from sys.path.\n"
          ],
          "name": "stderr"
        },
        {
          "output_type": "stream",
          "text": [
            "2019-09-03 13:33:18,269 https://s3.eu-central-1.amazonaws.com/alan-nlp/resources/embeddings/lm-news-english-forward-v0.2rc.pt not found in cache, downloading to /tmp/tmpq0lbm6dz\n"
          ],
          "name": "stdout"
        },
        {
          "output_type": "stream",
          "text": [
            "100%|██████████| 72405799/72405799 [00:08<00:00, 8311587.68B/s] "
          ],
          "name": "stderr"
        },
        {
          "output_type": "stream",
          "text": [
            "2019-09-03 13:33:28,142 copying /tmp/tmpq0lbm6dz to cache at /root/.flair/embeddings/lm-news-english-forward-v0.2rc.pt\n"
          ],
          "name": "stdout"
        },
        {
          "output_type": "stream",
          "text": [
            "\n"
          ],
          "name": "stderr"
        },
        {
          "output_type": "stream",
          "text": [
            "2019-09-03 13:33:28,268 removing temp file /tmp/tmpq0lbm6dz\n"
          ],
          "name": "stdout"
        },
        {
          "output_type": "stream",
          "text": [
            "/usr/local/lib/python3.6/dist-packages/ipykernel_launcher.py:5: DeprecationWarning: Call to deprecated method __init__. (Use 'FlairEmbeddings' instead.) -- Deprecated since version 0.4.\n",
            "  \"\"\"\n"
          ],
          "name": "stderr"
        },
        {
          "output_type": "stream",
          "text": [
            "2019-09-03 13:33:29,599 https://s3.eu-central-1.amazonaws.com/alan-nlp/resources/embeddings/lm-news-english-backward-v0.2rc.pt not found in cache, downloading to /tmp/tmp_apdnkj1\n"
          ],
          "name": "stdout"
        },
        {
          "output_type": "stream",
          "text": [
            "100%|██████████| 72405799/72405799 [00:08<00:00, 8051498.84B/s]"
          ],
          "name": "stderr"
        },
        {
          "output_type": "stream",
          "text": [
            "2019-09-03 13:33:39,746 copying /tmp/tmp_apdnkj1 to cache at /root/.flair/embeddings/lm-news-english-backward-v0.2rc.pt\n"
          ],
          "name": "stdout"
        },
        {
          "output_type": "stream",
          "text": [
            "\n"
          ],
          "name": "stderr"
        },
        {
          "output_type": "stream",
          "text": [
            "2019-09-03 13:33:39,871 removing temp file /tmp/tmp_apdnkj1\n"
          ],
          "name": "stdout"
        }
      ]
    },
    {
      "cell_type": "code",
      "metadata": {
        "id": "-t0YkLQ4GNX2",
        "colab_type": "code",
        "colab": {}
      },
      "source": [
        "sentence = Sentence('The grass is green . And the sky is blue .')"
      ],
      "execution_count": 0,
      "outputs": []
    },
    {
      "cell_type": "code",
      "metadata": {
        "id": "u6DDmZ5QGNX3",
        "colab_type": "code",
        "colab": {}
      },
      "source": [
        "document_embeddings.embed(sentence)"
      ],
      "execution_count": 0,
      "outputs": []
    },
    {
      "cell_type": "code",
      "metadata": {
        "id": "Rp_C7KDZGNX5",
        "colab_type": "code",
        "colab": {
          "base_uri": "https://localhost:8080/",
          "height": 51
        },
        "outputId": "f4f766fb-47c3-400c-afe2-834eee503a46"
      },
      "source": [
        "print(sentence.get_embedding())"
      ],
      "execution_count": 56,
      "outputs": [
        {
          "output_type": "stream",
          "text": [
            "tensor([-0.3197,  0.2621,  0.4037,  ..., -0.0008, -0.0051, -0.0109],\n",
            "       device='cuda:0', grad_fn=<CatBackward>)\n"
          ],
          "name": "stdout"
        }
      ]
    },
    {
      "cell_type": "code",
      "metadata": {
        "id": "Z2W8obK7GNX6",
        "colab_type": "code",
        "colab": {}
      },
      "source": [
        "document_embeddings = DocumentPoolEmbeddings([glove_embedding, \n",
        "                                             charlm_embedding_backward,\n",
        "                                             charlm_embedding_forward],\n",
        "                                             pooling = 'min')"
      ],
      "execution_count": 0,
      "outputs": []
    },
    {
      "cell_type": "code",
      "metadata": {
        "id": "ljsgv2pMGNX8",
        "colab_type": "code",
        "colab": {
          "base_uri": "https://localhost:8080/",
          "height": 105
        },
        "outputId": "74ad31b8-0639-4089-db7c-bb625de9a6d4"
      },
      "source": [
        "from flair.embeddings import WordEmbeddings, DocumentLSTMEmbeddings\n",
        "\n",
        "glove_embedding = WordEmbeddings('glove')\n",
        "document_embeddings = DocumentLSTMEmbeddings([glove_embedding])"
      ],
      "execution_count": 60,
      "outputs": [
        {
          "output_type": "stream",
          "text": [
            "/usr/local/lib/python3.6/dist-packages/smart_open/smart_open_lib.py:398: UserWarning: This function is deprecated, use smart_open.open instead. See the migration notes for details: https://github.com/RaRe-Technologies/smart_open/blob/master/README.rst#migrating-to-the-new-open-function\n",
            "  'See the migration notes for details: %s' % _MIGRATION_NOTES_URL\n",
            "/usr/local/lib/python3.6/dist-packages/ipykernel_launcher.py:4: DeprecationWarning: Call to deprecated class DocumentLSTMEmbeddings. (The functionality of this class is moved to 'DocumentRNNEmbeddings') -- Deprecated since version 0.4.\n",
            "  after removing the cwd from sys.path.\n"
          ],
          "name": "stderr"
        }
      ]
    },
    {
      "cell_type": "code",
      "metadata": {
        "id": "z-8BrGC0GNYF",
        "colab_type": "code",
        "colab": {}
      },
      "source": [
        "sentence = Sentence('The grass is green . And the sky is blue .')\n",
        "document_embeddings.embed(sentence)"
      ],
      "execution_count": 0,
      "outputs": []
    },
    {
      "cell_type": "code",
      "metadata": {
        "id": "y3pptvsdGNYI",
        "colab_type": "code",
        "colab": {
          "base_uri": "https://localhost:8080/",
          "height": 306
        },
        "outputId": "33a96498-1499-4b55-9ee6-5cf97e987d5c"
      },
      "source": [
        "print(sentence.get_embedding())"
      ],
      "execution_count": 62,
      "outputs": [
        {
          "output_type": "stream",
          "text": [
            "tensor([ 0.0000,  0.0200, -0.0657,  0.0790,  0.6164,  0.5012,  0.0000,  0.0000,\n",
            "         0.2444,  0.0000,  0.8065,  0.0000,  0.6604,  0.2125,  0.0000, -0.0052,\n",
            "         0.0000,  0.0000, -0.6101,  0.0000, -0.6372,  0.0000,  0.0000,  0.0000,\n",
            "         0.0000, -0.3176,  0.8128,  0.0000,  0.0000, -0.3179,  0.0000,  0.0000,\n",
            "        -0.0738,  0.0000,  0.0000, -0.8448,  0.0000, -0.5682,  0.0000,  0.0000,\n",
            "         0.8164,  0.0000,  0.0400,  0.4527,  0.0000,  0.0000,  0.0000,  0.0000,\n",
            "         0.0000,  0.5556, -0.4063,  0.2963,  0.0000,  0.0000,  0.0000,  0.0000,\n",
            "        -0.8645, -1.3342, -0.8293,  0.0000,  0.0000,  0.0000,  0.0000,  0.0090,\n",
            "         0.2910,  0.0024,  0.1632,  0.1725,  0.0000, -0.3249, -0.2137,  0.0000,\n",
            "         1.0023,  0.0000, -0.6505,  0.0000,  0.3069,  0.0000,  0.0000,  0.1445,\n",
            "         0.0000,  0.6241, -1.1940,  0.4598,  0.0000,  0.1725,  0.0000,  0.0000,\n",
            "         0.0000, -0.1499,  0.2927,  0.0000,  0.0000,  0.2041,  0.3331,  0.0000,\n",
            "         0.0000,  0.0000,  0.0000,  0.0863,  0.0993,  0.0000,  0.0000,  0.3436,\n",
            "         0.0000, -0.2238,  0.0000,  1.0865,  0.0000,  0.0000,  0.0000,  0.0000,\n",
            "        -0.7085, -0.0575,  0.0000,  0.4874, -0.4735,  0.7892,  0.0000,  0.0858,\n",
            "         0.4766,  0.0000,  0.0000,  0.0000,  0.5463, -0.8703,  0.0000,  0.0000],\n",
            "       device='cuda:0', grad_fn=<CatBackward>)\n"
          ],
          "name": "stdout"
        }
      ]
    },
    {
      "cell_type": "code",
      "metadata": {
        "id": "M6IRNit1GNYK",
        "colab_type": "code",
        "colab": {
          "base_uri": "https://localhost:8080/",
          "height": 85
        },
        "outputId": "882f9577-0f14-4b83-96a3-d74b1845aba3"
      },
      "source": [
        "import flair.datasets\n",
        "corpus = flair.datasets.UD_ENGLISH().downsample(0.1)\n"
      ],
      "execution_count": 67,
      "outputs": [
        {
          "output_type": "stream",
          "text": [
            "2019-09-03 13:39:20,162 Reading data from /root/.flair/datasets/ud_english\n",
            "2019-09-03 13:39:20,164 Train: /root/.flair/datasets/ud_english/en_ewt-ud-train.conllu\n",
            "2019-09-03 13:39:20,165 Test: /root/.flair/datasets/ud_english/en_ewt-ud-test.conllu\n",
            "2019-09-03 13:39:20,167 Dev: /root/.flair/datasets/ud_english/en_ewt-ud-dev.conllu\n"
          ],
          "name": "stdout"
        }
      ]
    },
    {
      "cell_type": "code",
      "metadata": {
        "id": "rUIXxnGEGNYM",
        "colab_type": "code",
        "colab": {
          "base_uri": "https://localhost:8080/",
          "height": 51
        },
        "outputId": "18db2aa0-0a86-4935-e3ad-76a3a4ea20c9"
      },
      "source": [
        "from flair.models import TextClassifier\n",
        "from flair.data import Sentence\n",
        "classifier = TextClassifier.load('en-sentiment')\n",
        "sentence = Sentence('Flair is pretty neat!')\n",
        "classifier.predict(sentence)\n",
        "# print sentence with predicted labels\n",
        "print('Sentence above is: ', sentence.labels)"
      ],
      "execution_count": 68,
      "outputs": [
        {
          "output_type": "stream",
          "text": [
            "2019-09-03 13:39:31,309 loading file /root/.flair/models/imdb-v0.4.pt\n",
            "Sentence above is:  [POSITIVE (0.6636102199554443)]\n"
          ],
          "name": "stdout"
        }
      ]
    },
    {
      "cell_type": "code",
      "metadata": {
        "id": "1GoCaxOyGNYN",
        "colab_type": "code",
        "colab": {}
      },
      "source": [
        ""
      ],
      "execution_count": 0,
      "outputs": []
    }
  ]
}