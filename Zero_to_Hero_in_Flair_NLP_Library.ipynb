{
  "nbformat": 4,
  "nbformat_minor": 0,
  "metadata": {
    "colab": {
      "name": "Zero to Hero in Flair NLP Library.ipynb",
      "version": "0.3.2",
      "provenance": [],
      "toc_visible": true,
      "include_colab_link": true
    },
    "kernelspec": {
      "name": "python3",
      "display_name": "Python 3"
    },
    "accelerator": "GPU"
  },
  "cells": [
    {
      "cell_type": "markdown",
      "metadata": {
        "id": "view-in-github",
        "colab_type": "text"
      },
      "source": [
        "<a href=\"https://colab.research.google.com/github/navneetkrc/Flair_SOTA_NLP/blob/master/Zero_to_Hero_in_Flair_NLP_Library.ipynb\" target=\"_parent\"><img src=\"https://colab.research.google.com/assets/colab-badge.svg\" alt=\"Open In Colab\"/></a>"
      ]
    },
    {
      "cell_type": "markdown",
      "metadata": {
        "id": "CQpqE1VyNHlt",
        "colab_type": "text"
      },
      "source": [
        "## Install Dependencies"
      ]
    },
    {
      "cell_type": "code",
      "metadata": {
        "id": "rVbCDs6wMdk-",
        "colab_type": "code",
        "colab": {}
      },
      "source": [
        "!pip install torch_nightly -f https://download.pytorch.org/whl/nightly/cu92/torch_nightly.html\n",
        "!pip install flair"
      ],
      "execution_count": 0,
      "outputs": []
    },
    {
      "cell_type": "code",
      "metadata": {
        "id": "1Nj7O9_2sumr",
        "colab_type": "code",
        "colab": {}
      },
      "source": [
        "from flair.data import Sentence\n",
        "from flair.models import SequenceTagger"
      ],
      "execution_count": 0,
      "outputs": []
    },
    {
      "cell_type": "markdown",
      "metadata": {
        "id": "NnfZaO83NB50",
        "colab_type": "text"
      },
      "source": [
        "#1. NLP Base Types and tasks"
      ]
    },
    {
      "cell_type": "markdown",
      "metadata": {
        "id": "PT__1hBNNlzt",
        "colab_type": "text"
      },
      "source": [
        "##Check for some basics tasks"
      ]
    },
    {
      "cell_type": "code",
      "metadata": {
        "id": "tRNSgtNbNTPe",
        "colab_type": "code",
        "outputId": "b1e00715-9b85-4dc5-c46a-25e18d0db48e",
        "colab": {
          "base_uri": "https://localhost:8080/",
          "height": 156
        }
      },
      "source": [
        "# make a sentence\n",
        "sentence = Sentence('I love Amsterdam .')\n",
        "\n",
        "# load the NER tagger\n",
        "tagger = SequenceTagger.load('ner')\n",
        "\n",
        "# run NER over sentence\n",
        "tagger.predict(sentence)"
      ],
      "execution_count": 12,
      "outputs": [
        {
          "output_type": "stream",
          "text": [
            "2019-05-23 17:50:06,977 https://s3.eu-central-1.amazonaws.com/alan-nlp/resources/models-v0.4/NER-conll03-english/en-ner-conll03-v0.4.pt not found in cache, downloading to /tmp/tmp4muv008e\n"
          ],
          "name": "stdout"
        },
        {
          "output_type": "stream",
          "text": [
            "100%|██████████| 432197603/432197603 [00:09<00:00, 47634757.52B/s]"
          ],
          "name": "stderr"
        },
        {
          "output_type": "stream",
          "text": [
            "2019-05-23 17:50:16,229 copying /tmp/tmp4muv008e to cache at /root/.flair/models/en-ner-conll03-v0.4.pt\n"
          ],
          "name": "stdout"
        },
        {
          "output_type": "stream",
          "text": [
            "\n"
          ],
          "name": "stderr"
        },
        {
          "output_type": "stream",
          "text": [
            "2019-05-23 17:50:17,790 removing temp file /tmp/tmp4muv008e\n",
            "2019-05-23 17:50:17,792 loading file /root/.flair/models/en-ner-conll03-v0.4.pt\n"
          ],
          "name": "stdout"
        },
        {
          "output_type": "execute_result",
          "data": {
            "text/plain": [
              "[Sentence: \"I love Amsterdam .\" - 4 Tokens]"
            ]
          },
          "metadata": {
            "tags": []
          },
          "execution_count": 3
        },
        {
          "output_type": "stream",
          "text": [
            "2019-05-23 17:50:31,896 loading file /root/.flair/models/en-ner-conll03-v0.4.pt\n"
          ],
          "name": "stdout"
        },
        {
          "output_type": "execute_result",
          "data": {
            "text/plain": [
              "[Sentence: \"I love Amsterdam .\" - 4 Tokens]"
            ]
          },
          "metadata": {
            "tags": []
          },
          "execution_count": 12
        }
      ]
    },
    {
      "cell_type": "markdown",
      "metadata": {
        "id": "RCosXqIXNkFk",
        "colab_type": "text"
      },
      "source": [
        "Done! The Sentence now has entity annotations. Print the sentence to see what the tagger found.\n",
        "\n"
      ]
    },
    {
      "cell_type": "code",
      "metadata": {
        "id": "2yq-9aAqNs6Z",
        "colab_type": "code",
        "outputId": "cb310a65-ff84-4927-b3d4-dc35d0ae8f29",
        "colab": {
          "base_uri": "https://localhost:8080/",
          "height": 119
        }
      },
      "source": [
        "print(sentence)\n",
        "print('The following NER tags are found:')\n",
        "\n",
        "# iterate over entities and print\n",
        "for entity in sentence.get_spans('ner'):\n",
        "    print(entity)"
      ],
      "execution_count": 13,
      "outputs": [
        {
          "output_type": "stream",
          "text": [
            "Sentence: \"I love Amsterdam .\" - 4 Tokens\n",
            "The following NER tags are found:\n",
            "LOC-span [3]: \"Amsterdam\"\n",
            "Sentence: \"I love Amsterdam .\" - 4 Tokens\n",
            "The following NER tags are found:\n",
            "LOC-span [3]: \"Amsterdam\"\n"
          ],
          "name": "stdout"
        }
      ]
    },
    {
      "cell_type": "markdown",
      "metadata": {
        "id": "mBBfJAsstiqb",
        "colab_type": "text"
      },
      "source": [
        "\n",
        "\n",
        "---\n",
        "\n"
      ]
    },
    {
      "cell_type": "markdown",
      "metadata": {
        "id": "UCI0qLKStlNi",
        "colab_type": "text"
      },
      "source": [
        "##Basic1- Creating a Sentence"
      ]
    },
    {
      "cell_type": "code",
      "metadata": {
        "id": "X4GnV6DRNx4F",
        "colab_type": "code",
        "outputId": "1cb601d6-0fb7-4274-c7d8-7dd187bd621b",
        "colab": {
          "base_uri": "https://localhost:8080/",
          "height": 51
        }
      },
      "source": [
        "# The sentence objects holds a sentence that we may want to embed or tag\n",
        "from flair.data import Sentence\n",
        "\n",
        "# Make a sentence object by passing a whitespace tokenized string\n",
        "sentence = Sentence('The grass is green .')\n",
        "\n",
        "# Print the object to see what's in there\n",
        "print(sentence)\n",
        "\n",
        "#expected output-> Sentence: \"The grass is green .\" - 5 Tokens"
      ],
      "execution_count": 14,
      "outputs": [
        {
          "output_type": "stream",
          "text": [
            "Sentence: \"The grass is green .\" - 5 Tokens\n",
            "Sentence: \"The grass is green .\" - 5 Tokens\n"
          ],
          "name": "stdout"
        }
      ]
    },
    {
      "cell_type": "code",
      "metadata": {
        "id": "eJ4Nm174txiC",
        "colab_type": "code",
        "outputId": "5e51ff55-aaf5-4700-809d-21f01015908b",
        "colab": {
          "base_uri": "https://localhost:8080/",
          "height": 85
        }
      },
      "source": [
        "##The print-out tells us that the sentence consists of 5 tokens. You can access the tokens of a sentence via their token id or with their index:\n",
        "\n",
        "# using the token id\n",
        "print(sentence.get_token(4))\n",
        "\n",
        "# using the index itself\n",
        "print(sentence[3])"
      ],
      "execution_count": 15,
      "outputs": [
        {
          "output_type": "stream",
          "text": [
            "Token: 4 green\n",
            "Token: 4 green\n",
            "Token: 4 green\n",
            "Token: 4 green\n"
          ],
          "name": "stdout"
        }
      ]
    },
    {
      "cell_type": "code",
      "metadata": {
        "id": "kjOzaUrTuh3B",
        "colab_type": "code",
        "outputId": "b778e8b1-94c7-4720-bc0c-2bda75646cba",
        "colab": {
          "base_uri": "https://localhost:8080/",
          "height": 187
        }
      },
      "source": [
        "for token in sentence:\n",
        "    print(token)"
      ],
      "execution_count": 16,
      "outputs": [
        {
          "output_type": "stream",
          "text": [
            "Token: 1 The\n",
            "Token: 2 grass\n",
            "Token: 3 is\n",
            "Token: 4 green\n",
            "Token: 5 .\n",
            "Token: 1 The\n",
            "Token: 2 grass\n",
            "Token: 3 is\n",
            "Token: 4 green\n",
            "Token: 5 .\n"
          ],
          "name": "stdout"
        }
      ]
    },
    {
      "cell_type": "markdown",
      "metadata": {
        "id": "oOG7eJmlvNBZ",
        "colab_type": "text"
      },
      "source": [
        "##Tokenization"
      ]
    },
    {
      "cell_type": "markdown",
      "metadata": {
        "id": "6mH4Oyw7vUkM",
        "colab_type": "text"
      },
      "source": [
        "In some use cases, you might not have your text already tokenized. For this case, we added a simple tokenizer using the lightweight segtok library.\n",
        "\n",
        "Simply use the use_tokenizer flag when instantiating your Sentence with an untokenized string:\n",
        "\n"
      ]
    },
    {
      "cell_type": "code",
      "metadata": {
        "id": "hM31xEUvvO2n",
        "colab_type": "code",
        "outputId": "f7312cf6-97f2-4484-f56c-dcd881bcd813",
        "colab": {
          "base_uri": "https://localhost:8080/",
          "height": 51
        }
      },
      "source": [
        "from flair.data import Sentence\n",
        "\n",
        "# Make a sentence object by passing an untokenized string and the 'use_tokenizer' flag\n",
        "sentence = Sentence('The grass is green.', use_tokenizer=True)\n",
        "\n",
        "# Print the object to see what's in there\n",
        "print(sentence)"
      ],
      "execution_count": 17,
      "outputs": [
        {
          "output_type": "stream",
          "text": [
            "Sentence: \"The grass is green .\" - 5 Tokens\n",
            "Sentence: \"The grass is green .\" - 5 Tokens\n"
          ],
          "name": "stdout"
        }
      ]
    },
    {
      "cell_type": "markdown",
      "metadata": {
        "id": "6QnosUJnvjMX",
        "colab_type": "text"
      },
      "source": [
        "###Adding Tags to tokens"
      ]
    },
    {
      "cell_type": "code",
      "metadata": {
        "id": "MV8czKK5vYw6",
        "colab_type": "code",
        "outputId": "1daa57a5-63a5-4926-a65a-d1f23f7860d3",
        "colab": {
          "base_uri": "https://localhost:8080/",
          "height": 51
        }
      },
      "source": [
        "# add a tag to a word in the sentence\n",
        "sentence[3].add_tag('ner', 'color')\n",
        "\n",
        "# print the sentence with all tags of this type\n",
        "print(sentence.to_tagged_string())"
      ],
      "execution_count": 18,
      "outputs": [
        {
          "output_type": "stream",
          "text": [
            "The grass is green <color> .\n",
            "The grass is green <color> .\n"
          ],
          "name": "stdout"
        }
      ]
    },
    {
      "cell_type": "code",
      "metadata": {
        "id": "HgxsseWUvpwf",
        "colab_type": "code",
        "outputId": "d7475c5f-76ed-4c86-874e-1c1c47ba6c69",
        "colab": {
          "base_uri": "https://localhost:8080/",
          "height": 34
        }
      },
      "source": [
        "from flair.data import Label\n",
        "\n",
        "tag: Label = sentence[3].get_tag('ner')\n",
        "\n",
        "print(f'\"{sentence[3]}\" is tagged as \"{tag.value}\" with confidence score \"{tag.score}\"')"
      ],
      "execution_count": 19,
      "outputs": [
        {
          "output_type": "stream",
          "text": [
            "\"Token: 4 green\" is tagged as \"color\" with confidence score \"1.0\"\n"
          ],
          "name": "stdout"
        }
      ]
    },
    {
      "cell_type": "markdown",
      "metadata": {
        "id": "1aUW3t8pwEQj",
        "colab_type": "text"
      },
      "source": [
        "This should print:\n",
        "\n",
        "\"Token: 4 green\" is tagged as \"color\" with confidence score \"1.0\"\n",
        "\n",
        "Also our color tag has a score of 1.0 since we manually added it. If a tag is predicted by our sequence labeler, the score value will indicate classifier confidence.\n",
        "\n"
      ]
    },
    {
      "cell_type": "markdown",
      "metadata": {
        "id": "bN-AcmmhwQny",
        "colab_type": "text"
      },
      "source": [
        "###Adding Labels to Sentences"
      ]
    },
    {
      "cell_type": "markdown",
      "metadata": {
        "id": "wdor7-v0wXGK",
        "colab_type": "text"
      },
      "source": [
        "A Sentence can have one or multiple labels that can for example be used in text classification tasks. For instance, the example below shows how we add the label 'sports' to a sentence, thereby labeling it as belonging to the sports category."
      ]
    },
    {
      "cell_type": "code",
      "metadata": {
        "id": "X7ic6mu3v-rS",
        "colab_type": "code",
        "colab": {}
      },
      "source": [
        "sentence = Sentence('France is the current world cup winner.')\n",
        "\n",
        "# add a label to a sentence\n",
        "sentence.add_label('sports')\n",
        "\n",
        "# a sentence can also belong to multiple classes\n",
        "sentence.add_labels(['sports', 'world cup'])\n",
        "\n",
        "# you can also set the labels while initializing the sentence\n",
        "sentence = Sentence('France is the current world cup winner.', labels=['sports', 'world cup'])\n"
      ],
      "execution_count": 0,
      "outputs": []
    },
    {
      "cell_type": "markdown",
      "metadata": {
        "id": "_msAzDtRwfJp",
        "colab_type": "text"
      },
      "source": [
        "Labels are also of the Label class. So, you can print a sentence's labels like this:\n",
        "\n"
      ]
    },
    {
      "cell_type": "code",
      "metadata": {
        "id": "JR7ECzktwgRL",
        "colab_type": "code",
        "outputId": "20969ea1-51fc-481e-b446-e2f8e0af9b06",
        "colab": {
          "base_uri": "https://localhost:8080/",
          "height": 68
        }
      },
      "source": [
        "sentence = Sentence('France is the current world cup winner.', labels=['sports', 'world cup'])\n",
        "\n",
        "print(sentence)\n",
        "for label in sentence.labels:\n",
        "    print(label)"
      ],
      "execution_count": 21,
      "outputs": [
        {
          "output_type": "stream",
          "text": [
            "Sentence: \"France is the current world cup winner.\" - 7 Tokens - Labels: [sports (1.0), world cup (1.0)] \n",
            "sports (1.0)\n",
            "world cup (1.0)\n"
          ],
          "name": "stdout"
        }
      ]
    },
    {
      "cell_type": "markdown",
      "metadata": {
        "id": "N-nYr7Rrwpga",
        "colab_type": "text"
      },
      "source": [
        "This should print:\n",
        "\n",
        "sports (1.0)\n",
        "\n",
        "world cup (1.0)\n",
        "\n",
        "**This indicates that the sentence belongs to these two classes, each with confidence score 1.0.**\n",
        "\n"
      ]
    },
    {
      "cell_type": "markdown",
      "metadata": {
        "id": "i0pWs5aoyAyb",
        "colab_type": "text"
      },
      "source": [
        "\n",
        "\n",
        "---\n",
        "\n",
        "**In next column we will check about the use of pre-trained model for tagging our text in the next segment.**"
      ]
    },
    {
      "cell_type": "markdown",
      "metadata": {
        "id": "W15ZynHSyKlq",
        "colab_type": "text"
      },
      "source": [
        "#2. Use of Pretrained model to tag your text"
      ]
    },
    {
      "cell_type": "markdown",
      "metadata": {
        "id": "aFGl3XVhD153",
        "colab_type": "text"
      },
      "source": [
        "##Tagging your Text\n",
        "Here, we show how to use our pre-trained models to tag your text data.\n",
        "\n",
        "Tagging with Pre-Trained Sequence Tagging Models\n",
        "Let's use a pre-trained model for named entity recognition (NER). \n",
        "\n",
        "This model was trained over the English CoNLL-03 task and can recognize 4 different entity types."
      ]
    },
    {
      "cell_type": "code",
      "metadata": {
        "id": "OuqEEpBLD28t",
        "colab_type": "code",
        "outputId": "1e692135-b4a6-4249-9440-169f79261e32",
        "colab": {
          "base_uri": "https://localhost:8080/",
          "height": 34
        }
      },
      "source": [
        "from flair.models import SequenceTagger\n",
        "\n",
        "tagger = SequenceTagger.load('ner')"
      ],
      "execution_count": 22,
      "outputs": [
        {
          "output_type": "stream",
          "text": [
            "2019-05-23 17:50:33,917 loading file /root/.flair/models/en-ner-conll03-v0.4.pt\n"
          ],
          "name": "stdout"
        }
      ]
    },
    {
      "cell_type": "markdown",
      "metadata": {
        "id": "h8Oolc26EJhf",
        "colab_type": "text"
      },
      "source": [
        "All you need to do is use the predict() method of the tagger on a sentence. \n",
        "\n",
        "This will add predicted tags to the tokens in the sentence. Lets use a sentence with two named entities:\n",
        "\n"
      ]
    },
    {
      "cell_type": "code",
      "metadata": {
        "id": "HgV_hQ9AFAk0",
        "colab_type": "code",
        "outputId": "e5a4fcc2-29e9-4485-802c-210ebaea1a64",
        "colab": {
          "base_uri": "https://localhost:8080/",
          "height": 51
        }
      },
      "source": [
        "sentence = Sentence('George Washington went to Washington .')\n",
        "\n",
        "# predict NER tags\n",
        "tagger.predict(sentence)\n",
        "\n",
        "# print sentence with predicted tags\n",
        "print(sentence.to_tagged_string())\n",
        "\n",
        "print(sentence)"
      ],
      "execution_count": 23,
      "outputs": [
        {
          "output_type": "stream",
          "text": [
            "George <B-PER> Washington <E-PER> went to Washington <S-LOC> .\n",
            "Sentence: \"George Washington went to Washington .\" - 6 Tokens\n"
          ],
          "name": "stdout"
        }
      ]
    },
    {
      "cell_type": "markdown",
      "metadata": {
        "id": "KTQpBWCRFHlf",
        "colab_type": "text"
      },
      "source": [
        "This should print:\n",
        "\n",
        "George <B-PER> Washington <E-PER> went to Washington <S-LOC> . \n"
      ]
    },
    {
      "cell_type": "markdown",
      "metadata": {
        "id": "eAXhravDGIKy",
        "colab_type": "text"
      },
      "source": [
        "###Getting Annotated Spans\n",
        "Many sequence labeling methods annotate spans that consist of multiple words, such as \"George Washington\" in our example sentence. You can directly get such spans in a tagged sentence like this:\n",
        "\n"
      ]
    },
    {
      "cell_type": "code",
      "metadata": {
        "id": "QlPhWjGqGSVb",
        "colab_type": "code",
        "outputId": "2c8031df-a7c2-46c5-da47-f7484c22f6cf",
        "colab": {
          "base_uri": "https://localhost:8080/",
          "height": 51
        }
      },
      "source": [
        "for entity in sentence.get_spans('ner'):\n",
        "    print(entity)"
      ],
      "execution_count": 24,
      "outputs": [
        {
          "output_type": "stream",
          "text": [
            "PER-span [1,2]: \"George Washington\"\n",
            "LOC-span [5]: \"Washington\"\n"
          ],
          "name": "stdout"
        }
      ]
    },
    {
      "cell_type": "markdown",
      "metadata": {
        "id": "MboeMjBRGVnv",
        "colab_type": "text"
      },
      "source": [
        "This should print:\n",
        "\n",
        "PER-span [1,2]: \"George Washington\"\n",
        "\n",
        "LOC-span [5]: \"Washington\"\n",
        "\n",
        "Which indicates that \"George Washington\" is a person (PER) and \"Washington\" is a location (LOC). Each such Span has a text, a tag value, its position in the sentence and \"score\" that indicates how confident the tagger is that the prediction is correct. You can also get additional information, such as the position offsets of each entity in the sentence by calling:\n"
      ]
    },
    {
      "cell_type": "code",
      "metadata": {
        "id": "xyVwVDGBGqKf",
        "colab_type": "code",
        "outputId": "1ae51b70-b711-40ff-9711-5990513261f3",
        "colab": {
          "base_uri": "https://localhost:8080/",
          "height": 54
        }
      },
      "source": [
        "print(sentence.to_dict(tag_type='ner'))"
      ],
      "execution_count": 25,
      "outputs": [
        {
          "output_type": "stream",
          "text": [
            "{'text': 'George Washington went to Washington .', 'labels': [], 'entities': [{'text': 'George Washington', 'start_pos': 0, 'end_pos': 17, 'type': 'PER', 'confidence': 0.9967881441116333}, {'text': 'Washington', 'start_pos': 26, 'end_pos': 36, 'type': 'LOC', 'confidence': 0.9993712306022644}]}\n"
          ],
          "name": "stdout"
        }
      ]
    },
    {
      "cell_type": "markdown",
      "metadata": {
        "id": "8W2AkLhFG2Sa",
        "colab_type": "text"
      },
      "source": [
        "\n",
        "\n",
        "This should print:\n",
        "\n",
        "{'text': 'George Washington went to Washington .',\n",
        "    'entities': [      \n",
        "        {'text': 'George Washington', 'start_pos': 0, 'end_pos': 17, 'type': 'PER', 'confidence': 0.999},        \n",
        "        {'text': 'Washington', 'start_pos': 26, 'end_pos': 36, 'type': 'LOC', 'confidence': 0.999}\n",
        "    ]}"
      ]
    },
    {
      "cell_type": "markdown",
      "metadata": {
        "id": "uy4vD58PJm3u",
        "colab_type": "text"
      },
      "source": [
        "##Tagging Multilingual Text\n",
        "If you have text in many languages (such as English and German), you can use our new multilingual models:\n",
        "\n",
        "Same approach I will try to use the same for HINGLISH (Hindi+English) Dataset as well\n"
      ]
    },
    {
      "cell_type": "code",
      "metadata": {
        "id": "wx6wq8pfFEe-",
        "colab_type": "code",
        "outputId": "bc07b4cc-fcc5-406f-8817-f0924813e761",
        "colab": {
          "base_uri": "https://localhost:8080/",
          "height": 139
        }
      },
      "source": [
        "# load model\n",
        "tagger = SequenceTagger.load('pos-multi')\n",
        "\n",
        "# text with English and German sentences\n",
        "sentence = Sentence('George Washington went to Washington . Dort kaufte er einen Hut .')\n",
        "\n",
        "# predict PoS tags\n",
        "tagger.predict(sentence)\n",
        "\n",
        "# print sentence with predicted tags\n",
        "print(sentence.to_tagged_string())"
      ],
      "execution_count": 26,
      "outputs": [
        {
          "output_type": "stream",
          "text": [
            "2019-05-23 17:50:35,963 https://s3.eu-central-1.amazonaws.com/alan-nlp/resources/models-v0.4/release-dodekapos-512-l2-multi/pos-multi-v0.1.pt not found in cache, downloading to /tmp/tmp265wtad_\n"
          ],
          "name": "stdout"
        },
        {
          "output_type": "stream",
          "text": [
            "100%|██████████| 314055714/314055714 [00:05<00:00, 60128035.53B/s]"
          ],
          "name": "stderr"
        },
        {
          "output_type": "stream",
          "text": [
            "2019-05-23 17:50:41,414 copying /tmp/tmp265wtad_ to cache at /root/.flair/models/pos-multi-v0.1.pt\n"
          ],
          "name": "stdout"
        },
        {
          "output_type": "stream",
          "text": [
            "\n"
          ],
          "name": "stderr"
        },
        {
          "output_type": "stream",
          "text": [
            "2019-05-23 17:50:42,618 removing temp file /tmp/tmp265wtad_\n",
            "2019-05-23 17:50:42,619 loading file /root/.flair/models/pos-multi-v0.1.pt\n",
            "George <PROPN> Washington <PROPN> went <VERB> to <ADP> Washington <PROPN> . <PUNCT> Dort <ADV> kaufte <VERB> er <PRON> einen <DET> Hut <NOUN> . <PUNCT>\n"
          ],
          "name": "stdout"
        }
      ]
    },
    {
      "cell_type": "markdown",
      "metadata": {
        "id": "Ad8dDhdtKWOi",
        "colab_type": "text"
      },
      "source": [
        "This should print:\n",
        "\n",
        "George <PROPN> Washington <PROPN> went <VERB> to <ADP> Washington <PROPN> . <PUNCT>\n",
        "\n",
        "Dort <ADV> kaufte <VERB> er <PRON> einen <DET> Hut <NOUN> . <PUNCT>\n",
        "So, both 'went' and 'kaufte' are identified as VERBs in these sentences.\n",
        "\n"
      ]
    },
    {
      "cell_type": "markdown",
      "metadata": {
        "id": "4MZblCZXbYiT",
        "colab_type": "text"
      },
      "source": [
        "###Check for HINGLISH(Hindi+English) multilingual text"
      ]
    },
    {
      "cell_type": "code",
      "metadata": {
        "id": "YUJxxWQXbl7L",
        "colab_type": "code",
        "outputId": "38c3db7c-e2ee-49a0-8381-ffd6d2a53677",
        "colab": {
          "base_uri": "https://localhost:8080/",
          "height": 71
        }
      },
      "source": [
        "# load model\n",
        "tagger = SequenceTagger.load('pos-multi')\n",
        "\n",
        "# text with English and Hindi sentences\n",
        "sentence = Sentence('Humlog Delhi ja rahe hai . Hare rang ki ghaas')\n",
        "\n",
        "# predict PoS tags\n",
        "tagger.predict(sentence)\n",
        "\n",
        "# print sentence with predicted tags\n",
        "print(sentence.to_tagged_string())"
      ],
      "execution_count": 27,
      "outputs": [
        {
          "output_type": "stream",
          "text": [
            "2019-05-23 17:50:43,962 loading file /root/.flair/models/pos-multi-v0.1.pt\n",
            "Humlog <PROPN> Delhi <PROPN> ja <CCONJ> rahe <NOUN> hai <NOUN> . <PUNCT> Hare <PROPN> rang <NOUN> ki <ADP> ghaas <NOUN>\n"
          ],
          "name": "stdout"
        }
      ]
    },
    {
      "cell_type": "code",
      "metadata": {
        "id": "MudGZTDaQVSE",
        "colab_type": "code",
        "outputId": "109dbd75-154e-4bc9-9f2e-3cfd6da7629a",
        "colab": {
          "base_uri": "https://localhost:8080/",
          "height": 54
        }
      },
      "source": [
        "sentence2 = Sentence('भारतीय कप्तान विराट कोहली लगभग हर मैच में एक नया कीर्तिमान अपने नाम करते जा रहे हैं। विशाखापत्तनम में भी ऑस्ट्रेलिया के खिलाफ पहले टी 20 मैच में उन्होंने एक नया इतिहास रच दिया। विराट ने इस मैच में 24 रन की पारी खेली लेकिन उन्होंने जैसे ही अपनी पारी में 12 रन बनाए वो दुनिया के पहले ऐसे बल्लेबाज बन गए जिन्होंने टी20 क्रिकेट में किसी एक टीम के खिलाफ 500 से ज्यादा रन बनाए हैं। विराट ने ये कमाल की उपलब्धि कंगारू टीम के खिलाफ हासिल की और क्रिकेट के सबसे छोेटे प्रारूप में विराट ने इस टीम के खिलाफ अब तक कुल 512 रन बना लिए हैं। अंतरराष्ट्रीय टी20 क्रिकेट में किसी एक टीम के खिलाफ सबसे ज्यादा रन बनाने वाले बल्लेबाज ये हैं। ')\n",
        "tagger.predict(sentence2)\n",
        "print(sentence2.to_tagged_string())\n"
      ],
      "execution_count": 28,
      "outputs": [
        {
          "output_type": "stream",
          "text": [
            "भारतीय <NOUN> कप्तान <NOUN> विराट <X> कोहली <X> लगभग <X> हर <X> मैच <X> में <X> एक <X> नया <X> कीर्तिमान <X> अपने <X> नाम <X> करते <X> जा <VERB> रहे <X> हैं। <NOUN> विशाखापत्तनम <X> में <X> भी <X> ऑस्ट्रेलिया <X> के <ADP> खिलाफ <X> पहले <X> टी <X> 20 <SYM> मैच <X> में <X> उन्होंने <X> एक <X> नया <X> इतिहास <X> रच <X> दिया। <NOUN> विराट <X> ने <X> इस <X> मैच <X> में <X> 24 <SYM> रन <X> की <X> पारी <NOUN> खेली <NOUN> लेकिन <X> उन्होंने <X> जैसे <X> ही <VERB> अपनी <X> पारी <X> में <X> 12 <SYM> रन <ADP> बनाए <VERB> वो <ADP> दुनिया <X> के <ADP> पहले <ADV> ऐसे <X> बल्लेबाज <X> बन <ADP> गए <X> जिन्होंने <X> टी20 <X> क्रिकेट <X> में <X> किसी <X> एक <X> टीम <X> के <X> खिलाफ <X> 500 <X> से <X> ज्यादा <X> रन <X> बनाए <X> हैं। <X> विराट <X> ने <X> ये <X> कमाल <ADV> की <X> उपलब्धि <X> कंगारू <X> टीम <X> के <X> खिलाफ <X> हासिल <X> की <X> और <X> क्रिकेट <X> के <X> सबसे <X> छोेटे <X> प्रारूप <X> में <X> विराट <X> ने <SYM> इस <X> टीम <X> के <X> खिलाफ <X> अब <X> तक <X> कुल <X> 512 <X> रन <X> बना <X> लिए <X> हैं। <X> अंतरराष्ट्रीय <X> टी20 <X> क्रिकेट <X> में <X> किसी <X> एक <X> टीम <X> के <X> खिलाफ <X> सबसे <X> ज्यादा <X> रन <X> बनाने <X> वाले <X> बल्लेबाज <X> ये <X> हैं। <PUNCT>\n"
          ],
          "name": "stdout"
        }
      ]
    },
    {
      "cell_type": "markdown",
      "metadata": {
        "id": "ydVYuyg7K2vj",
        "colab_type": "text"
      },
      "source": [
        "##Experimental: Semantic Frame Detection\n",
        "For English, we provide a pre-trained model that detects semantic frames in text, trained using Propbank 3.0 frames. This provides a sort of word sense disambiguation for frame evoking words, and we are curious what researchers might do with this.\n",
        "\n",
        "Here's an example:\n"
      ]
    },
    {
      "cell_type": "code",
      "metadata": {
        "id": "1LAyt6BOK__m",
        "colab_type": "code",
        "outputId": "28a1738a-bc13-4b20-9ec2-ad53103db60f",
        "colab": {
          "base_uri": "https://localhost:8080/",
          "height": 156
        }
      },
      "source": [
        "# load model\n",
        "tagger = SequenceTagger.load('frame')\n",
        "\n",
        "# make German sentence\n",
        "sentence_1 = Sentence('George returned to Berlin to return his hat .')\n",
        "sentence_2 = Sentence('He had a look at different hats .')\n",
        "\n",
        "# predict NER tags\n",
        "tagger.predict(sentence_1)\n",
        "tagger.predict(sentence_2)\n",
        "\n",
        "# print sentence with predicted tags\n",
        "print(sentence_1.to_tagged_string())\n",
        "print(sentence_2.to_tagged_string())"
      ],
      "execution_count": 29,
      "outputs": [
        {
          "output_type": "stream",
          "text": [
            "2019-05-23 17:50:45,306 https://s3.eu-central-1.amazonaws.com/alan-nlp/resources/models-v0.2/FRAME-conll12--h256-l1-b8-%2Bnews%2Bnews-forward%2Bnews-backward--v0.2/en-frame-ontonotes-v0.2.pt not found in cache, downloading to /tmp/tmp9jtihaf1\n"
          ],
          "name": "stdout"
        },
        {
          "output_type": "stream",
          "text": [
            "100%|██████████| 1524671476/1524671476 [00:21<00:00, 71451580.45B/s]"
          ],
          "name": "stderr"
        },
        {
          "output_type": "stream",
          "text": [
            "2019-05-23 17:51:06,819 copying /tmp/tmp9jtihaf1 to cache at /root/.flair/models/en-frame-ontonotes-v0.2.pt\n"
          ],
          "name": "stdout"
        },
        {
          "output_type": "stream",
          "text": [
            "\n"
          ],
          "name": "stderr"
        },
        {
          "output_type": "stream",
          "text": [
            "2019-05-23 17:51:16,406 removing temp file /tmp/tmp9jtihaf1\n",
            "2019-05-23 17:51:16,408 loading file /root/.flair/models/en-frame-ontonotes-v0.2.pt\n",
            "George returned <return.01> to Berlin to return <return.02> his hat .\n",
            "He had <have.LV> a look <look.01> at different hats .\n"
          ],
          "name": "stdout"
        }
      ]
    },
    {
      "cell_type": "markdown",
      "metadata": {
        "id": "gJ8eg5xCLDSI",
        "colab_type": "text"
      },
      "source": [
        "This should print:\n",
        "\n",
        "George returned <return.01> to Berlin to return <return.02> his hat .\n",
        "\n",
        "He had <have.LV> a look <look.01> at different hats .\n"
      ]
    },
    {
      "cell_type": "markdown",
      "metadata": {
        "id": "sZSopQEmLgdZ",
        "colab_type": "text"
      },
      "source": [
        "\n",
        "\n",
        "\n",
        "As we can see, the frame detector makes a distinction in sentence 1 between two different meanings of the word 'return'. 'return.01' means returning to a location, while 'return.02' means giving something back.\n",
        "\n",
        "Similarly, in sentence 2 the frame detector finds a light verb construction in which 'have' is the light verb and 'look' is a frame evoking word.\n",
        "\n"
      ]
    },
    {
      "cell_type": "markdown",
      "metadata": {
        "id": "LQ6b3zlrLseG",
        "colab_type": "text"
      },
      "source": [
        "##Tagging a List of Sentences\n",
        "Often, you may want to tag an entire text corpus. In this case, you need to split the corpus into sentences and pass a list of Sentence objects to the .predict() method.\n",
        "\n",
        "For instance, you can use the sentence splitter of segtok to split your text:\n"
      ]
    },
    {
      "cell_type": "code",
      "metadata": {
        "id": "-WJM2IigKVcv",
        "colab_type": "code",
        "outputId": "81b9c2c8-cb9f-4aae-f2d4-e8eabf7ee64b",
        "colab": {
          "base_uri": "https://localhost:8080/",
          "height": 85
        }
      },
      "source": [
        "# your text of many sentences\n",
        "text = \"This is a sentence. This is another sentence. I love Berlin.\"\n",
        "\n",
        "# use a library to split into sentences\n",
        "from segtok.segmenter import split_single\n",
        "sentences = [Sentence(sent, use_tokenizer=True) for sent in split_single(text)]\n",
        "\n",
        "# predict tags for list of sentences\n",
        "tagger: SequenceTagger = SequenceTagger.load('ner')\n",
        "tagger.predict(sentences)\n"
      ],
      "execution_count": 30,
      "outputs": [
        {
          "output_type": "stream",
          "text": [
            "2019-05-23 17:51:22,571 loading file /root/.flair/models/en-ner-conll03-v0.4.pt\n"
          ],
          "name": "stdout"
        },
        {
          "output_type": "execute_result",
          "data": {
            "text/plain": [
              "[Sentence: \"This is a sentence .\" - 5 Tokens,\n",
              " Sentence: \"This is another sentence .\" - 5 Tokens,\n",
              " Sentence: \"I love Berlin .\" - 4 Tokens]"
            ]
          },
          "metadata": {
            "tags": []
          },
          "execution_count": 30
        }
      ]
    },
    {
      "cell_type": "markdown",
      "metadata": {
        "id": "4eK7GKu1L-g6",
        "colab_type": "text"
      },
      "source": [
        "\n",
        "Using the mini_batch_size parameter of the .predict() method, you can set the size of mini batches passed to the tagger. Depending on your resources, you might want to play around with this parameter to optimize speed.\n",
        "\n"
      ]
    },
    {
      "cell_type": "markdown",
      "metadata": {
        "id": "U468xUPVM3V_",
        "colab_type": "text"
      },
      "source": [
        "##Tagging with Pre-Trained Text Classification Models\n",
        "Let's use a pre-trained model for detecting positive or negative comments. This model was trained over the IMDB dataset and can recognize positive and negative sentiment in English text.\n"
      ]
    },
    {
      "cell_type": "code",
      "metadata": {
        "id": "03ddv7XbKVlR",
        "colab_type": "code",
        "outputId": "96bb646b-1bef-43fb-9901-588dc7c672fe",
        "colab": {
          "base_uri": "https://localhost:8080/",
          "height": 173
        }
      },
      "source": [
        "from flair.models import TextClassifier\n",
        "\n",
        "classifier = TextClassifier.load('en-sentiment')\n",
        "\n",
        "#All you need to do is use the predict() method of the classifier on a sentence.\n",
        "#This will add the predicted label to the sentence. Lets use a sentence with negative sentiment:\n",
        "\n",
        "sentence = Sentence('This film hurts. It is so bad that I am confused.')\n",
        "\n",
        "# predict NER tags\n",
        "classifier.predict(sentence)\n",
        "\n",
        "# print sentence with predicted labels\n",
        "print(sentence.labels)\n",
        "\n",
        "#This should print:\n",
        "#[NEGATIVE (1.0)]"
      ],
      "execution_count": 31,
      "outputs": [
        {
          "output_type": "stream",
          "text": [
            "2019-05-23 17:51:25,248 https://s3.eu-central-1.amazonaws.com/alan-nlp/resources/models-v0.4/TEXT-CLASSIFICATION_imdb/imdb.pt not found in cache, downloading to /tmp/tmp7t6_qx0m\n"
          ],
          "name": "stdout"
        },
        {
          "output_type": "stream",
          "text": [
            "100%|██████████| 2794252905/2794252905 [00:51<00:00, 54726196.03B/s]"
          ],
          "name": "stderr"
        },
        {
          "output_type": "stream",
          "text": [
            "2019-05-23 17:52:16,392 copying /tmp/tmp7t6_qx0m to cache at /root/.flair/models/imdb.pt\n"
          ],
          "name": "stdout"
        },
        {
          "output_type": "stream",
          "text": [
            "\n"
          ],
          "name": "stderr"
        },
        {
          "output_type": "stream",
          "text": [
            "2019-05-23 17:52:34,041 removing temp file /tmp/tmp7t6_qx0m\n",
            "2019-05-23 17:52:34,043 loading file /root/.flair/models/imdb.pt\n"
          ],
          "name": "stdout"
        },
        {
          "output_type": "stream",
          "text": [
            "/usr/local/lib/python3.6/dist-packages/torch/serialization.py:538: DeprecationWarning: Call to deprecated class DocumentLSTMEmbeddings. (The functionality of this class is moved to 'DocumentRNNEmbeddings') -- Deprecated since version 0.4.\n",
            "  result = unpickler.load()\n"
          ],
          "name": "stderr"
        },
        {
          "output_type": "stream",
          "text": [
            "[NEGATIVE (1.0)]\n"
          ],
          "name": "stdout"
        }
      ]
    },
    {
      "cell_type": "code",
      "metadata": {
        "id": "dfigkbpBdpLX",
        "colab_type": "code",
        "outputId": "708ebf43-06fd-4b67-c4d1-5505f4b80eec",
        "colab": {
          "base_uri": "https://localhost:8080/",
          "height": 34
        }
      },
      "source": [
        "sentence2 = Sentence('I am feeling very sad.')\n",
        "classifier.predict(sentence2)\n",
        "print(sentence2.labels)\n",
        "#[NEGATIVE (0.6603823304176331)]\n",
        "\n"
      ],
      "execution_count": 32,
      "outputs": [
        {
          "output_type": "stream",
          "text": [
            "[NEGATIVE (0.6603822708129883)]\n"
          ],
          "name": "stdout"
        }
      ]
    },
    {
      "cell_type": "markdown",
      "metadata": {
        "id": "ETuvGZ8kNfq-",
        "colab_type": "text"
      },
      "source": [
        "\n",
        "\n",
        "---\n",
        "\n",
        "**In next column we will check about the use of word embeddings to embed our text**"
      ]
    },
    {
      "cell_type": "markdown",
      "metadata": {
        "id": "rsX-n4ucybqR",
        "colab_type": "text"
      },
      "source": [
        "#3. Use of word Embeddings"
      ]
    },
    {
      "cell_type": "markdown",
      "metadata": {
        "id": "3qTB5b1CIAXn",
        "colab_type": "text"
      },
      "source": [
        "###Embeddings\n",
        "All word embedding classes inherit from the TokenEmbeddings class and implement the embed() method which you need to call to embed your text. This means that for most users of Flair, the complexity of different embeddings remains hidden behind this interface. Simply instantiate the embedding class you require and call embed() to embed your text.\n",
        "\n",
        "All embeddings produced with our methods are Pytorch vectors, so they can be immediately used for training and fine-tuning."
      ]
    },
    {
      "cell_type": "markdown",
      "metadata": {
        "id": "S1lOjJEzIMjl",
        "colab_type": "text"
      },
      "source": [
        "##Classic Word Embeddings\n",
        "Classic word embeddings are static and word-level, meaning that each distinct word gets exactly one pre-computed embedding. Most embeddings fall under this class, including the popular GloVe or Komnios embeddings.\n",
        "\n",
        "Simply instantiate the WordEmbeddings class and pass a string identifier of the embedding you wish to load. So, if you want to use GloVe embeddings, pass the string 'glove' to the constructor:\n",
        "\n"
      ]
    },
    {
      "cell_type": "code",
      "metadata": {
        "id": "xtF9yU_oFeLR",
        "colab_type": "code",
        "outputId": "d10c30fc-22cf-44ce-9dfc-d622b1e89d30",
        "colab": {
          "base_uri": "https://localhost:8080/",
          "height": 190
        }
      },
      "source": [
        "from flair.embeddings import WordEmbeddings\n",
        "\n",
        "# init embedding\n",
        "glove_embedding = WordEmbeddings('glove')"
      ],
      "execution_count": 33,
      "outputs": [
        {
          "output_type": "stream",
          "text": [
            "2019-05-23 17:52:46,160 https://s3.eu-central-1.amazonaws.com/alan-nlp/resources/embeddings/glove.gensim.vectors.npy not found in cache, downloading to /tmp/tmpytxjih3x\n"
          ],
          "name": "stdout"
        },
        {
          "output_type": "stream",
          "text": [
            "100%|██████████| 160000128/160000128 [00:02<00:00, 56034617.02B/s]"
          ],
          "name": "stderr"
        },
        {
          "output_type": "stream",
          "text": [
            "2019-05-23 17:52:49,212 copying /tmp/tmpytxjih3x to cache at /root/.flair/embeddings/glove.gensim.vectors.npy\n"
          ],
          "name": "stdout"
        },
        {
          "output_type": "stream",
          "text": [
            "\n"
          ],
          "name": "stderr"
        },
        {
          "output_type": "stream",
          "text": [
            "2019-05-23 17:52:49,802 removing temp file /tmp/tmpytxjih3x\n",
            "2019-05-23 17:52:49,882 https://s3.eu-central-1.amazonaws.com/alan-nlp/resources/embeddings/glove.gensim not found in cache, downloading to /tmp/tmpf5p9bdgs\n"
          ],
          "name": "stdout"
        },
        {
          "output_type": "stream",
          "text": [
            "100%|██████████| 21494764/21494764 [00:00<00:00, 52998865.21B/s]"
          ],
          "name": "stderr"
        },
        {
          "output_type": "stream",
          "text": [
            "2019-05-23 17:52:50,457 copying /tmp/tmpf5p9bdgs to cache at /root/.flair/embeddings/glove.gensim\n",
            "2019-05-23 17:52:50,484 removing temp file /tmp/tmpf5p9bdgs\n",
            "2019-05-23 17:52:50,486 this function is deprecated, use smart_open.open instead\n"
          ],
          "name": "stdout"
        },
        {
          "output_type": "stream",
          "text": [
            "\n"
          ],
          "name": "stderr"
        }
      ]
    },
    {
      "cell_type": "markdown",
      "metadata": {
        "id": "9JmeMYyLIy4-",
        "colab_type": "text"
      },
      "source": [
        "Now, create an example sentence and call the embedding's embed() method. You can also pass a list of sentences to this method since some embedding types make use of batching to increase speed.\n",
        "\n"
      ]
    },
    {
      "cell_type": "code",
      "metadata": {
        "id": "CGI7EoWiIysm",
        "colab_type": "code",
        "outputId": "08d2eb96-2c91-4b8e-ccd5-ecd1e1e19651",
        "colab": {
          "base_uri": "https://localhost:8080/",
          "height": 1326
        }
      },
      "source": [
        "# create sentence.\n",
        "sentence = Sentence('The grass is green .')\n",
        "\n",
        "# embed a sentence using glove.\n",
        "glove_embedding.embed(sentence)\n",
        "\n",
        "# now check out the embedded tokens.\n",
        "for token in sentence:\n",
        "    print(token)\n",
        "    print(token.embedding)"
      ],
      "execution_count": 34,
      "outputs": [
        {
          "output_type": "stream",
          "text": [
            "Token: 1 The\n",
            "tensor([-0.0382, -0.2449,  0.7281, -0.3996,  0.0832,  0.0440, -0.3914,  0.3344,\n",
            "        -0.5755,  0.0875,  0.2879, -0.0673,  0.3091, -0.2638, -0.1323, -0.2076,\n",
            "         0.3340, -0.3385, -0.3174, -0.4834,  0.1464, -0.3730,  0.3458,  0.0520,\n",
            "         0.4495, -0.4697,  0.0263, -0.5415, -0.1552, -0.1411, -0.0397,  0.2828,\n",
            "         0.1439,  0.2346, -0.3102,  0.0862,  0.2040,  0.5262,  0.1716, -0.0824,\n",
            "        -0.7179, -0.4153,  0.2033, -0.1276,  0.4137,  0.5519,  0.5791, -0.3348,\n",
            "        -0.3656, -0.5486, -0.0629,  0.2658,  0.3020,  0.9977, -0.8048, -3.0243,\n",
            "         0.0125, -0.3694,  2.2167,  0.7220, -0.2498,  0.9214,  0.0345,  0.4674,\n",
            "         1.1079, -0.1936, -0.0746,  0.2335, -0.0521, -0.2204,  0.0572, -0.1581,\n",
            "        -0.3080, -0.4162,  0.3797,  0.1501, -0.5321, -0.2055, -1.2526,  0.0716,\n",
            "         0.7056,  0.4974, -0.4206,  0.2615, -1.5380, -0.3022, -0.0734, -0.2831,\n",
            "         0.3710, -0.2522,  0.0162, -0.0171, -0.3898,  0.8742, -0.7257, -0.5106,\n",
            "        -0.5203, -0.1459,  0.8278,  0.2706])\n",
            "Token: 2 grass\n",
            "tensor([-0.8135,  0.9404, -0.2405, -0.1350,  0.0557,  0.3363,  0.0802, -0.1015,\n",
            "        -0.5478, -0.3537,  0.0734,  0.2587,  0.1987, -0.1433,  0.2507,  0.4281,\n",
            "         0.1950,  0.5346,  0.7424,  0.0578, -0.3178,  0.9436,  0.8145, -0.0824,\n",
            "         0.6166,  0.7284, -0.3262, -1.3641,  0.1232,  0.5373, -0.5123,  0.0246,\n",
            "         1.0822, -0.2296,  0.6039,  0.5541, -0.9610,  0.4803,  0.0022,  0.5591,\n",
            "        -0.1637, -0.8468,  0.0741, -0.6216,  0.0260, -0.5162, -0.0525, -0.1418,\n",
            "        -0.0161, -0.4972, -0.5534, -0.4037,  0.5096,  1.0276, -0.0840, -1.1179,\n",
            "         0.3226,  0.4928,  0.9488,  0.2040,  0.5388,  0.8397, -0.0689,  0.3136,\n",
            "         1.0450, -0.2267, -0.0896, -0.6427,  0.6443, -1.1001, -0.0096,  0.2668,\n",
            "        -0.3230, -0.6065,  0.0479, -0.1664,  0.8571,  0.2335,  0.2539,  1.2546,\n",
            "         0.5472, -0.1980, -0.7186,  0.2076, -0.2587, -0.3650,  0.0834,  0.6932,\n",
            "         0.1574,  1.0931,  0.0913, -1.3773, -0.2717,  0.7071,  0.1872, -0.3307,\n",
            "        -0.2836,  0.1030,  1.2228,  0.8374])\n",
            "Token: 3 is\n",
            "tensor([-0.5426,  0.4148,  1.0322, -0.4024,  0.4669,  0.2182, -0.0749,  0.4733,\n",
            "         0.0810, -0.2208, -0.1281, -0.1144,  0.5089,  0.1157,  0.0282, -0.3628,\n",
            "         0.4382,  0.0475,  0.2028,  0.4986, -0.1007,  0.1327,  0.1697,  0.1165,\n",
            "         0.3135,  0.2571,  0.0928, -0.5683, -0.5297, -0.0515, -0.6733,  0.9253,\n",
            "         0.2693,  0.2273,  0.6636,  0.2622,  0.1972,  0.2609,  0.1877, -0.3454,\n",
            "        -0.4263,  0.1398,  0.5634, -0.5691,  0.1240, -0.1289,  0.7248, -0.2610,\n",
            "        -0.2631, -0.4360,  0.0789, -0.8415,  0.5160,  1.3997, -0.7646, -3.1453,\n",
            "        -0.2920, -0.3125,  1.5129,  0.5243,  0.2146,  0.4245, -0.0884, -0.1780,\n",
            "         1.1876,  0.1058,  0.7657,  0.2191,  0.3582, -0.1164,  0.0933, -0.6248,\n",
            "        -0.2190,  0.2180,  0.7406, -0.4374,  0.1434,  0.1472, -1.1605, -0.0505,\n",
            "         0.1268, -0.0144, -0.9868, -0.0913, -1.2054, -0.1197,  0.0478, -0.5400,\n",
            "         0.5246, -0.7096, -0.3253, -0.1346, -0.4131,  0.3343, -0.0072,  0.3225,\n",
            "        -0.0442, -1.2969,  0.7622,  0.4635])\n",
            "Token: 4 green\n",
            "tensor([-6.7907e-01,  3.4908e-01, -2.3984e-01, -9.9652e-01,  7.3782e-01,\n",
            "        -6.5911e-04,  2.8010e-01,  1.7287e-02, -3.6063e-01,  3.6955e-02,\n",
            "        -4.0395e-01,  2.4092e-02,  2.8958e-01,  4.0497e-01,  6.9992e-01,\n",
            "         2.5269e-01,  8.0350e-01,  4.9370e-02,  1.5562e-01, -6.3286e-03,\n",
            "        -2.9414e-01,  1.4728e-01,  1.8977e-01, -5.1791e-01,  3.6986e-01,\n",
            "         7.4582e-01,  8.2689e-02, -7.2601e-01, -4.0939e-01, -9.7822e-02,\n",
            "        -1.4096e-01,  7.1121e-01,  6.1933e-01, -2.5014e-01,  4.2250e-01,\n",
            "         4.8458e-01, -5.1915e-01,  7.7125e-01,  3.6685e-01,  4.9652e-01,\n",
            "        -4.1298e-02, -1.4683e+00,  2.0038e-01,  1.8591e-01,  4.9860e-02,\n",
            "        -1.7523e-01, -3.5528e-01,  9.4153e-01, -1.1898e-01, -5.1903e-01,\n",
            "        -1.1887e-02, -3.9186e-01, -1.7479e-01,  9.3451e-01, -5.8931e-01,\n",
            "        -2.7701e+00,  3.4522e-01,  8.6533e-01,  1.0808e+00, -1.0291e-01,\n",
            "        -9.1220e-02,  5.5092e-01, -3.9473e-01,  5.3676e-01,  1.0383e+00,\n",
            "        -4.0658e-01,  2.4590e-01, -2.6797e-01, -2.6036e-01, -1.4151e-01,\n",
            "        -1.2022e-01,  1.6234e-01, -7.4320e-01, -6.4728e-01,  4.7133e-02,\n",
            "         5.1642e-01,  1.9898e-01,  2.3919e-01,  1.2550e-01,  2.2471e-01,\n",
            "         8.2613e-01,  7.8328e-02, -5.7020e-01,  2.3934e-02, -1.5410e-01,\n",
            "        -2.5739e-01,  4.1262e-01, -4.6967e-01,  8.7914e-01,  7.2629e-01,\n",
            "         5.3862e-02, -1.1575e+00, -4.7835e-01,  2.0139e-01, -1.0051e+00,\n",
            "         1.1515e-01, -9.6609e-01,  1.2960e-01,  1.8388e-01, -3.0383e-02])\n",
            "Token: 5 .\n",
            "tensor([-0.3398,  0.2094,  0.4635, -0.6479, -0.3838,  0.0380,  0.1713,  0.1598,\n",
            "         0.4662, -0.0192,  0.4148, -0.3435,  0.2687,  0.0446,  0.4213, -0.4103,\n",
            "         0.1546,  0.0222, -0.6465,  0.2526,  0.0431, -0.1945,  0.4652,  0.4565,\n",
            "         0.6859,  0.0913,  0.2188, -0.7035,  0.1679, -0.3508, -0.1263,  0.6638,\n",
            "        -0.2582,  0.0365, -0.1361,  0.4025,  0.1429,  0.3813, -0.1228, -0.4589,\n",
            "        -0.2528, -0.3043, -0.1121, -0.2618, -0.2248, -0.4455,  0.2991, -0.8561,\n",
            "        -0.1450, -0.4909,  0.0083, -0.1749,  0.2752,  1.4401, -0.2124, -2.8435,\n",
            "        -0.2796, -0.4572,  1.6386,  0.7881, -0.5526,  0.6500,  0.0864,  0.3901,\n",
            "         1.0632, -0.3538,  0.4833,  0.3460,  0.8417,  0.0987, -0.2421, -0.2705,\n",
            "         0.0453, -0.4015,  0.1139,  0.0062,  0.0367,  0.0185, -1.0213, -0.2081,\n",
            "         0.6407, -0.0688, -0.5864,  0.3348, -1.1432, -0.1148, -0.2509, -0.4591,\n",
            "        -0.0968, -0.1795, -0.0634, -0.6741, -0.0689,  0.5360, -0.8777,  0.3180,\n",
            "        -0.3924, -0.2339,  0.4730, -0.0288])\n"
          ],
          "name": "stdout"
        }
      ]
    },
    {
      "cell_type": "markdown",
      "metadata": {
        "id": "ypfayeEnJWAw",
        "colab_type": "text"
      },
      "source": [
        "This prints out the tokens and their embeddings. GloVe embeddings are Pytorch vectors of dimensionality 100.\n",
        "\n",
        "You choose which pre-trained embeddings you load by passing the appropriate id string to the constructor of the WordEmbeddings class. Typically, you use the two-letter language code to init an embedding, so 'en' for English and 'de' for German and so on. By default, this will initialize FastText embeddings trained over Wikipedia. You can also always use FastText embeddings over Web crawls, by instantiating with '-crawl'. So 'de-crawl' to use embeddings trained over German web crawls.\n",
        "\n",
        "For English, we provide a few more options, so here you can choose between instantiating 'en-glove', 'en-extvec' and so on."
      ]
    },
    {
      "cell_type": "markdown",
      "metadata": {
        "id": "pYE-CkzHKqje",
        "colab_type": "text"
      },
      "source": [
        "##Supported Embeddings in Flair"
      ]
    },
    {
      "cell_type": "markdown",
      "metadata": {
        "id": "relukLOMJue1",
        "colab_type": "text"
      },
      "source": [
        "\n",
        "\n",
        "| ID | Language | Embedding | \n",
        "| ------------- | -------------  | ------------- |\n",
        "| 'en-glove' (or 'glove') | English | GloVe embeddings |\n",
        "| 'en-extvec' (or 'extvec') | English |Komnios embeddings |\n",
        "| 'en-crawl' (or 'crawl')  | English | FastText embeddings over Web crawls |\n",
        "| 'en-twitter' (or 'twitter')  | English | Twitter embeddings |\n",
        "| 'en' (or 'en-news' or 'news')  |English | FastText embeddings over news and wikipedia data |\n",
        "| 'de' | German |German FastText embeddings |\n",
        "| 'nl' | Dutch | Dutch FastText embeddings |\n",
        "| 'fr' | French | French FastText embeddings |\n",
        "| 'it' | Italian | Italian FastText embeddings |\n",
        "| 'es' | Spanish | Spanish FastText embeddings |\n",
        "| 'pt' | Portuguese | Portuguese FastText embeddings |\n",
        "| 'ro' | Romanian | Romanian FastText embeddings |\n",
        "| 'ca' | Catalan | Catalan FastText embeddings |\n",
        "| 'sv' | Swedish | Swedish FastText embeddings |\n",
        "| 'da' | Danish | Danish FastText embeddings |\n",
        "| 'no' | Norwegian | Norwegian FastText embeddings |\n",
        "| 'fi' | Finnish | Finnish FastText embeddings |\n",
        "| 'pl' | Polish | Polish FastText embeddings |\n",
        "| 'cz' | Czech | Czech FastText embeddings |\n",
        "| 'sk' | Slovak | Slovak FastText embeddings |\n",
        "| 'pl' | Slovenian | Slovenian FastText embeddings |\n",
        "| 'sr' | Serbian | Serbian FastText embeddings |\n",
        "| 'hr' | Croatian | Croatian FastText embeddings |\n",
        "| 'bg' | Bulgarian | CroatBulgarianian FastText embeddings |\n",
        "| 'ru' | Russian | Russian FastText embeddings |\n",
        "| 'ar' | Arabic | Arabic FastText embeddings |\n",
        "| 'he' | Hebrew | Hebrew FastText embeddings |\n",
        "| 'tr' | Turkish | Turkish FastText embeddings |\n",
        "| 'pa' | Persian | Persian FastText embeddings |\n",
        "| 'ja' | Japanese | Japanese FastText embeddings |\n",
        "| 'ko' | Korean | Korean FastText embeddings |\n",
        "| 'zh' | Chinese | Chinese FastText embeddings |\n",
        "| 'hi' | Hindi | Hindi FastText embeddings |\n",
        "| 'id' | Indonesian | Indonesian FastText embeddings |\n",
        "| 'eu' | Basque | Basque FastText embeddings |\n",
        "\n"
      ]
    },
    {
      "cell_type": "code",
      "metadata": {
        "id": "Ew2GOQ6NMnSJ",
        "colab_type": "code",
        "outputId": "fecd8c53-6788-4c82-e9ab-e570d5cc9f12",
        "colab": {
          "base_uri": "https://localhost:8080/",
          "height": 643
        }
      },
      "source": [
        "#So, if you want to load German FastText embeddings, instantiate as follows:\n",
        "\n",
        "german_embedding = WordEmbeddings('de')\n",
        "\n",
        "#Alternatively, if you want to load German FastText embeddings trained over crawls, instantiate as follows:\n",
        "\n",
        "german_embedding = WordEmbeddings('de-crawl')\n",
        "\n",
        "#We generally recommend the FastText embeddings, or GloVe if you want a smaller model.\n",
        "\n",
        "#If you want to use any other embeddings (not listed in the list above), you can load those by calling\n",
        "custom_embedding = WordEmbeddings('path/to/your/custom/embeddings.gensim')"
      ],
      "execution_count": 35,
      "outputs": [
        {
          "output_type": "stream",
          "text": [
            "2019-05-23 17:52:52,110 https://s3.eu-central-1.amazonaws.com/alan-nlp/resources/embeddings-v0.4/de-wiki-fasttext-300d-1M.vectors.npy not found in cache, downloading to /tmp/tmpy_uqx7sq\n"
          ],
          "name": "stdout"
        },
        {
          "output_type": "stream",
          "text": [
            "100%|██████████| 1199998928/1199998928 [00:18<00:00, 66255120.95B/s]"
          ],
          "name": "stderr"
        },
        {
          "output_type": "stream",
          "text": [
            "2019-05-23 17:53:10,426 copying /tmp/tmpy_uqx7sq to cache at /root/.flair/embeddings/de-wiki-fasttext-300d-1M.vectors.npy\n"
          ],
          "name": "stdout"
        },
        {
          "output_type": "stream",
          "text": [
            "\n"
          ],
          "name": "stderr"
        },
        {
          "output_type": "stream",
          "text": [
            "2019-05-23 17:53:18,049 removing temp file /tmp/tmpy_uqx7sq\n",
            "2019-05-23 17:53:18,419 https://s3.eu-central-1.amazonaws.com/alan-nlp/resources/embeddings-v0.4/de-wiki-fasttext-300d-1M not found in cache, downloading to /tmp/tmp48g6b5qr\n"
          ],
          "name": "stdout"
        },
        {
          "output_type": "stream",
          "text": [
            "100%|██████████| 42184395/42184395 [00:00<00:00, 63478470.89B/s]"
          ],
          "name": "stderr"
        },
        {
          "output_type": "stream",
          "text": [
            "2019-05-23 17:53:19,247 copying /tmp/tmp48g6b5qr to cache at /root/.flair/embeddings/de-wiki-fasttext-300d-1M\n"
          ],
          "name": "stdout"
        },
        {
          "output_type": "stream",
          "text": [
            "\n"
          ],
          "name": "stderr"
        },
        {
          "output_type": "stream",
          "text": [
            "2019-05-23 17:53:19,318 removing temp file /tmp/tmp48g6b5qr\n",
            "2019-05-23 17:53:19,319 this function is deprecated, use smart_open.open instead\n",
            "2019-05-23 17:53:22,504 https://s3.eu-central-1.amazonaws.com/alan-nlp/resources/embeddings-v0.4/de-crawl-fasttext-300d-1M.vectors.npy not found in cache, downloading to /tmp/tmpib63zy7h\n"
          ],
          "name": "stdout"
        },
        {
          "output_type": "stream",
          "text": [
            "100%|██████████| 1199998928/1199998928 [00:20<00:00, 57877022.34B/s]"
          ],
          "name": "stderr"
        },
        {
          "output_type": "stream",
          "text": [
            "2019-05-23 17:53:43,455 copying /tmp/tmpib63zy7h to cache at /root/.flair/embeddings/de-crawl-fasttext-300d-1M.vectors.npy\n"
          ],
          "name": "stdout"
        },
        {
          "output_type": "stream",
          "text": [
            "\n"
          ],
          "name": "stderr"
        },
        {
          "output_type": "stream",
          "text": [
            "2019-05-23 17:53:51,099 removing temp file /tmp/tmpib63zy7h\n",
            "2019-05-23 17:53:51,203 https://s3.eu-central-1.amazonaws.com/alan-nlp/resources/embeddings-v0.4/de-crawl-fasttext-300d-1M not found in cache, downloading to /tmp/tmp6mh0t9xr\n"
          ],
          "name": "stdout"
        },
        {
          "output_type": "stream",
          "text": [
            "100%|██████████| 42677439/42677439 [00:00<00:00, 55481748.77B/s]"
          ],
          "name": "stderr"
        },
        {
          "output_type": "stream",
          "text": [
            "2019-05-23 17:53:52,136 copying /tmp/tmp6mh0t9xr to cache at /root/.flair/embeddings/de-crawl-fasttext-300d-1M\n"
          ],
          "name": "stdout"
        },
        {
          "output_type": "stream",
          "text": [
            "\n"
          ],
          "name": "stderr"
        },
        {
          "output_type": "stream",
          "text": [
            "2019-05-23 17:53:52,258 removing temp file /tmp/tmp6mh0t9xr\n",
            "2019-05-23 17:53:52,266 this function is deprecated, use smart_open.open instead\n"
          ],
          "name": "stdout"
        },
        {
          "output_type": "error",
          "ename": "ValueError",
          "evalue": "ignored",
          "traceback": [
            "\u001b[0;31m---------------------------------------------------------------------------\u001b[0m",
            "\u001b[0;31mValueError\u001b[0m                                Traceback (most recent call last)",
            "\u001b[0;32m<ipython-input-35-a1dcf6109268>\u001b[0m in \u001b[0;36m<module>\u001b[0;34m()\u001b[0m\n\u001b[1;32m      9\u001b[0m \u001b[0;34m\u001b[0m\u001b[0m\n\u001b[1;32m     10\u001b[0m \u001b[0;31m#If you want to use any other embeddings (not listed in the list above), you can load those by calling\u001b[0m\u001b[0;34m\u001b[0m\u001b[0;34m\u001b[0m\u001b[0;34m\u001b[0m\u001b[0m\n\u001b[0;32m---> 11\u001b[0;31m \u001b[0mcustom_embedding\u001b[0m \u001b[0;34m=\u001b[0m \u001b[0mWordEmbeddings\u001b[0m\u001b[0;34m(\u001b[0m\u001b[0;34m'path/to/your/custom/embeddings.gensim'\u001b[0m\u001b[0;34m)\u001b[0m\u001b[0;34m\u001b[0m\u001b[0;34m\u001b[0m\u001b[0m\n\u001b[0m",
            "\u001b[0;32m/usr/local/lib/python3.6/dist-packages/flair/embeddings.py\u001b[0m in \u001b[0;36m__init__\u001b[0;34m(self, embeddings, field)\u001b[0m\n\u001b[1;32m    213\u001b[0m \u001b[0;34m\u001b[0m\u001b[0m\n\u001b[1;32m    214\u001b[0m         \u001b[0;32melif\u001b[0m \u001b[0;32mnot\u001b[0m \u001b[0mPath\u001b[0m\u001b[0;34m(\u001b[0m\u001b[0membeddings\u001b[0m\u001b[0;34m)\u001b[0m\u001b[0;34m.\u001b[0m\u001b[0mexists\u001b[0m\u001b[0;34m(\u001b[0m\u001b[0;34m)\u001b[0m\u001b[0;34m:\u001b[0m\u001b[0;34m\u001b[0m\u001b[0;34m\u001b[0m\u001b[0m\n\u001b[0;32m--> 215\u001b[0;31m             \u001b[0;32mraise\u001b[0m \u001b[0mValueError\u001b[0m\u001b[0;34m(\u001b[0m\u001b[0;34mf'The given embeddings \"{embeddings}\" is not available or is not a valid path.'\u001b[0m\u001b[0;34m)\u001b[0m\u001b[0;34m\u001b[0m\u001b[0;34m\u001b[0m\u001b[0m\n\u001b[0m\u001b[1;32m    216\u001b[0m \u001b[0;34m\u001b[0m\u001b[0m\n\u001b[1;32m    217\u001b[0m         \u001b[0mself\u001b[0m\u001b[0;34m.\u001b[0m\u001b[0mname\u001b[0m\u001b[0;34m:\u001b[0m \u001b[0mstr\u001b[0m \u001b[0;34m=\u001b[0m \u001b[0mstr\u001b[0m\u001b[0;34m(\u001b[0m\u001b[0membeddings\u001b[0m\u001b[0;34m)\u001b[0m\u001b[0;34m\u001b[0m\u001b[0;34m\u001b[0m\u001b[0m\n",
            "\u001b[0;31mValueError\u001b[0m: The given embeddings \"path/to/your/custom/embeddings.gensim\" is not available or is not a valid path."
          ]
        }
      ]
    },
    {
      "cell_type": "markdown",
      "metadata": {
        "colab_type": "text",
        "id": "vT-Pe5joLXmw"
      },
      "source": [
        "If you want to load custom embeddings you need to make sure, that the custom embeddings are correctly formatted to\n",
        "[gensim](https://radimrehurek.com/gensim/models/word2vec.html).\n",
        "\n",
        "You can, for example, convert [FastText embeddings](https://fasttext.cc/docs/en/crawl-vectors.html) to gensim using the\n",
        "following code snippet:\n"
      ]
    },
    {
      "cell_type": "code",
      "metadata": {
        "id": "ZvDwNY3RMW4N",
        "colab_type": "code",
        "colab": {}
      },
      "source": [
        "import gensim\n",
        "\n",
        "word_vectors = gensim.models.KeyedVectors.load_word2vec_format('/path/to/fasttext/embeddings.txt', binary=False)\n",
        "word_vectors.save('/path/to/converted')"
      ],
      "execution_count": 0,
      "outputs": []
    },
    {
      "cell_type": "code",
      "metadata": {
        "id": "Jgm-XWpMLfU6",
        "colab_type": "code",
        "colab": {}
      },
      "source": [
        "german_embedding = WordEmbeddings('de')\n",
        "german_embedding = WordEmbeddings('de-crawl')\n",
        "#custom_embedding = WordEmbeddings('path/to/your/custom/embeddings.gensim')\n",
        "\n",
        "import gensim\n",
        "\n",
        "#word_vectors = gensim.models.KeyedVectors.load_word2vec_format('/path/to/fasttext/embeddings.txt', binary=False)\n",
        "#word_vectors.save('/path/to/converted')"
      ],
      "execution_count": 0,
      "outputs": []
    },
    {
      "cell_type": "markdown",
      "metadata": {
        "id": "U2OEW0lIL1CZ",
        "colab_type": "text"
      },
      "source": [
        "\n",
        "## Character Embeddings\n",
        "\n",
        "Some embeddings - such as character-features - are not pre-trained but rather trained on the downstream task. Normally\n",
        "this requires you to implement a [hierarchical embedding architecture](http://neuroner.com/NeuroNERengine_with_caption_no_figure.png). \n",
        "\n",
        "With Flair, you don't need to worry about such things. Just choose the appropriate\n",
        "embedding class and character features will then automatically train during downstream task training. \n",
        "\n"
      ]
    },
    {
      "cell_type": "code",
      "metadata": {
        "id": "rOEyQEl3L-Hi",
        "colab_type": "code",
        "colab": {}
      },
      "source": [
        "from flair.embeddings import CharacterEmbeddings\n",
        "\n",
        "# init embedding\n",
        "embedding = CharacterEmbeddings()\n",
        "\n",
        "# create a sentence\n",
        "sentence = Sentence('The grass is green .')\n",
        "\n",
        "# embed words in sentence\n",
        "embedding.embed(sentence) \n",
        "\n",
        "#CUDA errors to be addressed from version 0.4.1"
      ],
      "execution_count": 0,
      "outputs": []
    },
    {
      "cell_type": "markdown",
      "metadata": {
        "id": "0I28Oks7MXCD",
        "colab_type": "text"
      },
      "source": [
        "## Stacked Embeddings\n",
        "\n",
        "Stacked embeddings are one of the most important concepts of this library. You can use them to combine different\n",
        "embeddings together, for instance if you want to use both traditional embeddings together with contextual sting\n",
        "embeddings (see next chapter).\n",
        "Stacked embeddings allow you to mix and match. We find that a combination of embeddings often gives best results. \n",
        "\n",
        "All you need to do is use the `StackedEmbeddings` class and instantiate it by passing a list of embeddings that you wish \n",
        "to combine. For instance, lets combine classic GloVe embeddings with character embeddings. This is effectively the architecture proposed in (Lample et al., 2016).\n",
        "\n",
        "First, instantiate the two embeddings you wish to combine: \n"
      ]
    },
    {
      "cell_type": "code",
      "metadata": {
        "id": "uUGKQgciMYM4",
        "colab_type": "code",
        "colab": {
          "base_uri": "https://localhost:8080/",
          "height": 122
        },
        "outputId": "0f4f7ff8-9b5a-4242-e6e9-df1e52269d24"
      },
      "source": [
        "from flair.embeddings import WordEmbeddings, CharacterEmbeddings\n",
        "\n",
        "# init standard GloVe embedding\n",
        "glove_embedding = WordEmbeddings('glove')\n",
        "\n",
        "# init standard character embeddings\n",
        "character_embeddings = CharacterEmbeddings()\n"
      ],
      "execution_count": 36,
      "outputs": [
        {
          "output_type": "stream",
          "text": [
            "2019-05-23 18:03:29,606 this function is deprecated, use smart_open.open instead\n",
            "2019-05-23 18:03:31,448 https://s3.eu-central-1.amazonaws.com/alan-nlp/resources/models/common_characters not found in cache, downloading to /tmp/tmpp1gkzu66\n"
          ],
          "name": "stdout"
        },
        {
          "output_type": "stream",
          "text": [
            "100%|██████████| 2887/2887 [00:00<00:00, 737901.01B/s]"
          ],
          "name": "stderr"
        },
        {
          "output_type": "stream",
          "text": [
            "2019-05-23 18:03:31,552 copying /tmp/tmpp1gkzu66 to cache at /root/.flair/datasets/common_characters\n",
            "2019-05-23 18:03:31,555 removing temp file /tmp/tmpp1gkzu66\n"
          ],
          "name": "stdout"
        },
        {
          "output_type": "stream",
          "text": [
            "\n"
          ],
          "name": "stderr"
        }
      ]
    },
    {
      "cell_type": "markdown",
      "metadata": {
        "id": "3ORkURAWM7A6",
        "colab_type": "text"
      },
      "source": [
        "Now instantiate the StackedEmbeddings class and pass it a list containing these two embeddings.\n",
        "\n"
      ]
    },
    {
      "cell_type": "code",
      "metadata": {
        "id": "8hMn9Mf8M1zy",
        "colab_type": "code",
        "colab": {}
      },
      "source": [
        "from flair.embeddings import StackedEmbeddings\n",
        "\n",
        "# now create the StackedEmbedding object that combines all embeddings\n",
        "stacked_embeddings = StackedEmbeddings(\n",
        "    embeddings=[glove_embedding, character_embeddings])\n"
      ],
      "execution_count": 0,
      "outputs": []
    },
    {
      "cell_type": "markdown",
      "metadata": {
        "id": "iPt1xxiCNJeF",
        "colab_type": "text"
      },
      "source": [
        "That's it! Now just use this embedding like all the other embeddings, i.e. call the `embed()` method over your sentences.\n",
        "\n"
      ]
    },
    {
      "cell_type": "code",
      "metadata": {
        "id": "_heA_Ug5M_-N",
        "colab_type": "code",
        "outputId": "887e5704-d783-4a43-ed74-da4763609451",
        "colab": {
          "base_uri": "https://localhost:8080/",
          "height": 2363
        }
      },
      "source": [
        "sentence = Sentence('The grass is green .')\n",
        "\n",
        "# just embed a sentence using the StackedEmbedding as you would with any single embedding.\n",
        "stacked_embeddings.embed(sentence)\n",
        "\n",
        "# now check out the embedded tokens.\n",
        "for token in sentence:\n",
        "    print(token)\n",
        "    print(token.embedding)"
      ],
      "execution_count": 38,
      "outputs": [
        {
          "output_type": "stream",
          "text": [
            "Token: 1 The\n",
            "tensor([-3.8194e-02, -2.4487e-01,  7.2812e-01, -3.9961e-01,  8.3172e-02,\n",
            "         4.3953e-02, -3.9141e-01,  3.3440e-01, -5.7545e-01,  8.7459e-02,\n",
            "         2.8787e-01, -6.7310e-02,  3.0906e-01, -2.6384e-01, -1.3231e-01,\n",
            "        -2.0757e-01,  3.3395e-01, -3.3848e-01, -3.1743e-01, -4.8336e-01,\n",
            "         1.4640e-01, -3.7304e-01,  3.4577e-01,  5.2041e-02,  4.4946e-01,\n",
            "        -4.6971e-01,  2.6280e-02, -5.4155e-01, -1.5518e-01, -1.4107e-01,\n",
            "        -3.9722e-02,  2.8277e-01,  1.4393e-01,  2.3464e-01, -3.1021e-01,\n",
            "         8.6173e-02,  2.0397e-01,  5.2624e-01,  1.7164e-01, -8.2378e-02,\n",
            "        -7.1787e-01, -4.1531e-01,  2.0335e-01, -1.2763e-01,  4.1367e-01,\n",
            "         5.5187e-01,  5.7908e-01, -3.3477e-01, -3.6559e-01, -5.4857e-01,\n",
            "        -6.2892e-02,  2.6584e-01,  3.0205e-01,  9.9775e-01, -8.0481e-01,\n",
            "        -3.0243e+00,  1.2540e-02, -3.6942e-01,  2.2167e+00,  7.2201e-01,\n",
            "        -2.4978e-01,  9.2136e-01,  3.4514e-02,  4.6745e-01,  1.1079e+00,\n",
            "        -1.9358e-01, -7.4575e-02,  2.3353e-01, -5.2062e-02, -2.2044e-01,\n",
            "         5.7162e-02, -1.5806e-01, -3.0798e-01, -4.1625e-01,  3.7972e-01,\n",
            "         1.5006e-01, -5.3212e-01, -2.0550e-01, -1.2526e+00,  7.1624e-02,\n",
            "         7.0565e-01,  4.9744e-01, -4.2063e-01,  2.6148e-01, -1.5380e+00,\n",
            "        -3.0223e-01, -7.3438e-02, -2.8312e-01,  3.7104e-01, -2.5217e-01,\n",
            "         1.6215e-02, -1.7099e-02, -3.8984e-01,  8.7424e-01, -7.2569e-01,\n",
            "        -5.1058e-01, -5.2028e-01, -1.4590e-01,  8.2780e-01,  2.7062e-01,\n",
            "        -1.6540e-01,  2.2834e-02,  1.6552e-01,  1.2743e-01,  1.5128e-02,\n",
            "        -3.6195e-02,  3.2936e-02, -2.6049e-01, -1.2954e-01, -5.8355e-02,\n",
            "         1.3330e-01,  1.1317e-02, -8.6515e-03, -9.8491e-02, -9.4068e-02,\n",
            "         6.7033e-02, -6.5292e-02, -8.9725e-02,  2.6085e-02,  4.3245e-02,\n",
            "        -4.2020e-02,  6.8026e-02, -8.7875e-02,  9.2359e-02,  1.9777e-01,\n",
            "         1.2387e-01,  6.0413e-02,  1.9967e-01,  2.5134e-02, -3.8578e-02,\n",
            "        -1.3713e-01,  6.6739e-02, -1.4147e-01,  9.7376e-02, -2.8002e-01,\n",
            "        -5.6242e-03,  4.5038e-03,  2.2761e-01, -2.1682e-03, -2.6250e-01,\n",
            "         2.7711e-03,  1.8764e-01,  4.0927e-02, -1.0812e-01,  8.0958e-02,\n",
            "         4.6278e-02, -1.8258e-01, -1.5120e-01, -5.6311e-02, -1.8229e-01],\n",
            "       grad_fn=<CatBackward>)\n",
            "Token: 2 grass\n",
            "tensor([-0.8135,  0.9404, -0.2405, -0.1350,  0.0557,  0.3363,  0.0802, -0.1015,\n",
            "        -0.5478, -0.3537,  0.0734,  0.2587,  0.1987, -0.1433,  0.2507,  0.4281,\n",
            "         0.1950,  0.5346,  0.7424,  0.0578, -0.3178,  0.9436,  0.8145, -0.0824,\n",
            "         0.6166,  0.7284, -0.3262, -1.3641,  0.1232,  0.5373, -0.5123,  0.0246,\n",
            "         1.0822, -0.2296,  0.6039,  0.5541, -0.9610,  0.4803,  0.0022,  0.5591,\n",
            "        -0.1637, -0.8468,  0.0741, -0.6216,  0.0260, -0.5162, -0.0525, -0.1418,\n",
            "        -0.0161, -0.4972, -0.5534, -0.4037,  0.5096,  1.0276, -0.0840, -1.1179,\n",
            "         0.3226,  0.4928,  0.9488,  0.2040,  0.5388,  0.8397, -0.0689,  0.3136,\n",
            "         1.0450, -0.2267, -0.0896, -0.6427,  0.6443, -1.1001, -0.0096,  0.2668,\n",
            "        -0.3230, -0.6065,  0.0479, -0.1664,  0.8571,  0.2335,  0.2539,  1.2546,\n",
            "         0.5472, -0.1980, -0.7186,  0.2076, -0.2587, -0.3650,  0.0834,  0.6932,\n",
            "         0.1574,  1.0931,  0.0913, -1.3773, -0.2717,  0.7071,  0.1872, -0.3307,\n",
            "        -0.2836,  0.1030,  1.2228,  0.8374, -0.1133, -0.1637, -0.0377, -0.1735,\n",
            "        -0.4896, -0.0564, -0.0185, -0.1895, -0.0565, -0.1577,  0.0023, -0.2546,\n",
            "         0.0264, -0.0329,  0.0316, -0.0453,  0.0109, -0.2024,  0.0937,  0.2216,\n",
            "        -0.1291,  0.1287,  0.0480,  0.0990,  0.1122,  0.0999,  0.0668, -0.0852,\n",
            "        -0.0808, -0.0632, -0.0470, -0.1545, -0.1029, -0.0351, -0.1275,  0.0322,\n",
            "         0.0777,  0.1722, -0.0305,  0.0996, -0.0208,  0.0812,  0.0464, -0.1067,\n",
            "        -0.0183, -0.0045, -0.0018, -0.0825, -0.0732, -0.0942],\n",
            "       grad_fn=<CatBackward>)\n",
            "Token: 3 is\n",
            "tensor([-5.4264e-01,  4.1476e-01,  1.0322e+00, -4.0244e-01,  4.6691e-01,\n",
            "         2.1816e-01, -7.4864e-02,  4.7332e-01,  8.0996e-02, -2.2079e-01,\n",
            "        -1.2808e-01, -1.1440e-01,  5.0891e-01,  1.1568e-01,  2.8211e-02,\n",
            "        -3.6280e-01,  4.3823e-01,  4.7511e-02,  2.0282e-01,  4.9857e-01,\n",
            "        -1.0068e-01,  1.3269e-01,  1.6972e-01,  1.1653e-01,  3.1355e-01,\n",
            "         2.5713e-01,  9.2783e-02, -5.6826e-01, -5.2975e-01, -5.1456e-02,\n",
            "        -6.7326e-01,  9.2533e-01,  2.6930e-01,  2.2734e-01,  6.6365e-01,\n",
            "         2.6221e-01,  1.9719e-01,  2.6090e-01,  1.8774e-01, -3.4540e-01,\n",
            "        -4.2635e-01,  1.3975e-01,  5.6338e-01, -5.6907e-01,  1.2398e-01,\n",
            "        -1.2894e-01,  7.2484e-01, -2.6105e-01, -2.6314e-01, -4.3605e-01,\n",
            "         7.8908e-02, -8.4146e-01,  5.1595e-01,  1.3997e+00, -7.6460e-01,\n",
            "        -3.1453e+00, -2.9202e-01, -3.1247e-01,  1.5129e+00,  5.2435e-01,\n",
            "         2.1456e-01,  4.2452e-01, -8.8411e-02, -1.7805e-01,  1.1876e+00,\n",
            "         1.0579e-01,  7.6571e-01,  2.1914e-01,  3.5824e-01, -1.1636e-01,\n",
            "         9.3261e-02, -6.2483e-01, -2.1898e-01,  2.1796e-01,  7.4056e-01,\n",
            "        -4.3735e-01,  1.4343e-01,  1.4719e-01, -1.1605e+00, -5.0508e-02,\n",
            "         1.2677e-01, -1.4395e-02, -9.8676e-01, -9.1297e-02, -1.2054e+00,\n",
            "        -1.1974e-01,  4.7847e-02, -5.4001e-01,  5.2457e-01, -7.0963e-01,\n",
            "        -3.2528e-01, -1.3460e-01, -4.1314e-01,  3.3435e-01, -7.2412e-03,\n",
            "         3.2253e-01, -4.4219e-02, -1.2969e+00,  7.6217e-01,  4.6349e-01,\n",
            "        -1.0177e-01, -2.3198e-01,  6.7507e-02, -1.0938e-01, -1.6372e-01,\n",
            "        -5.3948e-02, -6.3843e-02,  4.4200e-02, -2.4223e-03, -1.7162e-01,\n",
            "         1.3807e-02, -1.0573e-01,  2.9345e-03, -2.3615e-02,  1.6725e-02,\n",
            "         2.9763e-02,  5.6358e-02, -1.0603e-01,  6.7362e-02,  2.0401e-01,\n",
            "        -1.5854e-01,  7.5318e-02, -3.6248e-02,  5.8564e-02,  1.1544e-01,\n",
            "         9.9864e-02,  6.6768e-02, -8.5213e-02, -8.0766e-02, -6.3243e-02,\n",
            "        -4.6977e-02, -1.5454e-01, -1.0289e-01, -3.5130e-02, -1.2752e-01,\n",
            "         3.2169e-02,  7.7695e-02,  1.7224e-01, -3.0523e-02,  9.9640e-02,\n",
            "        -2.0800e-02,  8.1193e-02,  4.6399e-02, -1.0672e-01, -1.8341e-02,\n",
            "        -4.4839e-03, -1.7756e-03, -8.2531e-02, -7.3242e-02, -9.4228e-02],\n",
            "       grad_fn=<CatBackward>)\n",
            "Token: 4 green\n",
            "tensor([-6.7907e-01,  3.4908e-01, -2.3984e-01, -9.9652e-01,  7.3782e-01,\n",
            "        -6.5911e-04,  2.8010e-01,  1.7287e-02, -3.6063e-01,  3.6955e-02,\n",
            "        -4.0395e-01,  2.4092e-02,  2.8958e-01,  4.0497e-01,  6.9992e-01,\n",
            "         2.5269e-01,  8.0350e-01,  4.9370e-02,  1.5562e-01, -6.3286e-03,\n",
            "        -2.9414e-01,  1.4728e-01,  1.8977e-01, -5.1791e-01,  3.6986e-01,\n",
            "         7.4582e-01,  8.2689e-02, -7.2601e-01, -4.0939e-01, -9.7822e-02,\n",
            "        -1.4096e-01,  7.1121e-01,  6.1933e-01, -2.5014e-01,  4.2250e-01,\n",
            "         4.8458e-01, -5.1915e-01,  7.7125e-01,  3.6685e-01,  4.9652e-01,\n",
            "        -4.1298e-02, -1.4683e+00,  2.0038e-01,  1.8591e-01,  4.9860e-02,\n",
            "        -1.7523e-01, -3.5528e-01,  9.4153e-01, -1.1898e-01, -5.1903e-01,\n",
            "        -1.1887e-02, -3.9186e-01, -1.7479e-01,  9.3451e-01, -5.8931e-01,\n",
            "        -2.7701e+00,  3.4522e-01,  8.6533e-01,  1.0808e+00, -1.0291e-01,\n",
            "        -9.1220e-02,  5.5092e-01, -3.9473e-01,  5.3676e-01,  1.0383e+00,\n",
            "        -4.0658e-01,  2.4590e-01, -2.6797e-01, -2.6036e-01, -1.4151e-01,\n",
            "        -1.2022e-01,  1.6234e-01, -7.4320e-01, -6.4728e-01,  4.7133e-02,\n",
            "         5.1642e-01,  1.9898e-01,  2.3919e-01,  1.2550e-01,  2.2471e-01,\n",
            "         8.2613e-01,  7.8328e-02, -5.7020e-01,  2.3934e-02, -1.5410e-01,\n",
            "        -2.5739e-01,  4.1262e-01, -4.6967e-01,  8.7914e-01,  7.2629e-01,\n",
            "         5.3862e-02, -1.1575e+00, -4.7835e-01,  2.0139e-01, -1.0051e+00,\n",
            "         1.1515e-01, -9.6609e-01,  1.2960e-01,  1.8388e-01, -3.0383e-02,\n",
            "        -1.6108e-01,  9.5654e-02,  1.5306e-01,  1.2547e-01, -1.1114e-01,\n",
            "        -1.3646e-01, -7.3512e-02, -6.6174e-02, -9.5259e-02,  2.2213e-01,\n",
            "         4.5674e-01,  1.3314e-03,  6.6476e-02,  3.5744e-03, -9.3959e-03,\n",
            "         9.1062e-02, -2.3782e-01, -2.9055e-01, -4.1250e-02,  3.5828e-02,\n",
            "        -3.4157e-02, -5.5252e-02, -1.6741e-01,  6.2512e-02,  3.8626e-01,\n",
            "         5.4180e-02, -1.5102e-01,  1.2849e-01,  1.2276e-01, -1.1506e-01,\n",
            "         7.5195e-02,  6.8662e-02,  2.6859e-02, -2.7569e-02,  3.5416e-02,\n",
            "        -6.2988e-02,  1.4939e-01,  2.9549e-02,  2.2817e-01, -4.7244e-02,\n",
            "         2.7100e-01,  2.7194e-01,  5.1441e-02,  1.3119e-01, -3.8262e-02,\n",
            "        -4.9742e-02,  1.8220e-02, -4.2499e-02,  1.2519e-01, -5.1285e-02],\n",
            "       grad_fn=<CatBackward>)\n",
            "Token: 5 .\n",
            "tensor([-0.3398,  0.2094,  0.4635, -0.6479, -0.3838,  0.0380,  0.1713,  0.1598,\n",
            "         0.4662, -0.0192,  0.4148, -0.3435,  0.2687,  0.0446,  0.4213, -0.4103,\n",
            "         0.1546,  0.0222, -0.6465,  0.2526,  0.0431, -0.1945,  0.4652,  0.4565,\n",
            "         0.6859,  0.0913,  0.2188, -0.7035,  0.1679, -0.3508, -0.1263,  0.6638,\n",
            "        -0.2582,  0.0365, -0.1361,  0.4025,  0.1429,  0.3813, -0.1228, -0.4589,\n",
            "        -0.2528, -0.3043, -0.1121, -0.2618, -0.2248, -0.4455,  0.2991, -0.8561,\n",
            "        -0.1450, -0.4909,  0.0083, -0.1749,  0.2752,  1.4401, -0.2124, -2.8435,\n",
            "        -0.2796, -0.4572,  1.6386,  0.7881, -0.5526,  0.6500,  0.0864,  0.3901,\n",
            "         1.0632, -0.3538,  0.4833,  0.3460,  0.8417,  0.0987, -0.2421, -0.2705,\n",
            "         0.0453, -0.4015,  0.1139,  0.0062,  0.0367,  0.0185, -1.0213, -0.2081,\n",
            "         0.6407, -0.0688, -0.5864,  0.3348, -1.1432, -0.1148, -0.2509, -0.4591,\n",
            "        -0.0968, -0.1795, -0.0634, -0.6741, -0.0689,  0.5360, -0.8777,  0.3180,\n",
            "        -0.3924, -0.2339,  0.4730, -0.0288,  0.1242,  0.0804, -0.0603,  0.2306,\n",
            "         0.0972, -0.1380,  0.1032, -0.0369,  0.1404,  0.1515,  0.2094,  0.1208,\n",
            "         0.0148, -0.0995, -0.1950, -0.0732,  0.0990, -0.0724,  0.0296, -0.0763,\n",
            "         0.0826, -0.1674, -0.1993,  0.0623,  0.3420,  0.0615, -0.2092, -0.0254,\n",
            "        -0.1675,  0.0521,  0.1440, -0.0509, -0.0878,  0.3263, -0.0995,  0.0972,\n",
            "        -0.1013, -0.0741,  0.0609, -0.1811,  0.3184,  0.0132,  0.0986,  0.1378,\n",
            "         0.1482,  0.0054, -0.1213,  0.1666,  0.1345, -0.1312],\n",
            "       grad_fn=<CatBackward>)\n"
          ],
          "name": "stdout"
        }
      ]
    },
    {
      "cell_type": "markdown",
      "metadata": {
        "id": "NuOA52QONVeK",
        "colab_type": "text"
      },
      "source": [
        "\n",
        "Words are now embedded using a concatenation of two different embeddings. This means that the resulting embedding\n",
        "vector is still a single Pytorch vector. \n",
        "\n"
      ]
    },
    {
      "cell_type": "markdown",
      "metadata": {
        "id": "dS4vDq8rKWGq",
        "colab_type": "text"
      },
      "source": [
        "## Next \n",
        "\n",
        "You can now either look into [BERT, ELMo, and Flair embeddings](/resources/docs/TUTORIAL_4_ELMO_BERT_FLAIR_EMBEDDING.md),\n",
        "or go directly to the tutorial about [loading your corpus](/resources/docs/TUTORIAL_6_CORPUS.md), which is a\n",
        "pre-requirement for [training your own models](/resources/docs/TUTORIAL_7_TRAINING_A_MODEL.md).\n",
        "\n",
        "Drag and Drop\n",
        "The image will be downloaded by Fatkun"
      ]
    },
    {
      "cell_type": "markdown",
      "metadata": {
        "id": "dEWvkQosNZCe",
        "colab_type": "text"
      },
      "source": [
        "\n",
        "\n",
        "---\n",
        "\n",
        "**In next column we will check about using the Bert, Elmo and Flair Embeddings**"
      ]
    },
    {
      "cell_type": "markdown",
      "metadata": {
        "id": "0aikssTCyc2c",
        "colab_type": "text"
      },
      "source": [
        "#4. Using Bert, Elmo and Flair Embeddings"
      ]
    },
    {
      "cell_type": "markdown",
      "metadata": {
        "id": "3yj878ForV8g",
        "colab_type": "text"
      },
      "source": [
        "Next to standard WordEmbeddings and CharacterEmbeddings, we also provide classes for BERT, ELMo and Flair embeddings. These embeddings enable you to train truly state-of-the-art NLP models.\n",
        "\n",
        "This tutorial explains how to use these embeddings. We assume that you're familiar with the [base types](/resources/docs/TUTORIAL_1_BASICS.md) of this library as well as [standard word embeddings](/resources/docs/TUTORIAL_3_WORD_EMBEDDING.md), in particular the `StackedEmbeddings` class.\n"
      ]
    },
    {
      "cell_type": "markdown",
      "metadata": {
        "id": "vGq7INmWxZpP",
        "colab_type": "text"
      },
      "source": [
        "## Embeddings\n",
        "\n",
        "All word embedding classes inherit from the `TokenEmbeddings` class and implement the `embed()` method which you need to\n",
        "call to embed your text. This means that for most users of Flair, the complexity of different embeddings remains\n",
        "hidden behind this interface. Simply instantiate the embedding class you require and call `embed()` to embed your text.\n",
        "\n",
        "All embeddings produced with our methods are Pytorch vectors, so they can be immediately used for training and\n",
        "fine-tuning."
      ]
    },
    {
      "cell_type": "markdown",
      "metadata": {
        "id": "_B7IDN0Exiew",
        "colab_type": "text"
      },
      "source": [
        "\n",
        "\n",
        "## Flair Embeddings\n",
        "\n",
        "Contextual string embeddings are [powerful embeddings](https://drive.google.com/file/d/17yVpFA7MmXaQFTe-HDpZuqw9fJlmzg56/view?usp=sharing)\n",
        " that capture latent syntactic-semantic information that goes beyond\n",
        "standard word embeddings. Key differences are: (1) they are trained without any explicit notion of words and\n",
        "thus fundamentally model words as sequences of characters. And (2) they are **contextualized** by their\n",
        "surrounding text, meaning that the *same word will have different embeddings depending on its\n",
        "contextual use*.\n",
        "\n",
        "With Flair, you can use these embeddings simply by instantiating the appropriate embedding class, same as standard word embeddings:\n"
      ]
    },
    {
      "cell_type": "code",
      "metadata": {
        "id": "gsedyJ27tsVl",
        "colab_type": "code",
        "outputId": "c7038d48-f34f-49e6-d365-9af6addf4185",
        "colab": {
          "base_uri": "https://localhost:8080/",
          "height": 122
        }
      },
      "source": [
        "\n",
        "from flair.embeddings import FlairEmbeddings\n",
        "\n",
        "# init embedding\n",
        "flair_embedding_forward = FlairEmbeddings('news-forward')\n",
        "\n",
        "# create a sentence\n",
        "sentence = Sentence('The grass is green .')\n",
        "\n",
        "# embed words in sentence\n",
        "flair_embedding_forward.embed(sentence)"
      ],
      "execution_count": 39,
      "outputs": [
        {
          "output_type": "stream",
          "text": [
            "2019-05-23 18:04:28,291 https://s3.eu-central-1.amazonaws.com/alan-nlp/resources/embeddings-v0.4.1/big-news-forward--h2048-l1-d0.05-lr30-0.25-20/news-forward-0.4.1.pt not found in cache, downloading to /tmp/tmpr8sodtbm\n"
          ],
          "name": "stdout"
        },
        {
          "output_type": "stream",
          "text": [
            "100%|██████████| 73034624/73034624 [00:01<00:00, 68004292.45B/s]"
          ],
          "name": "stderr"
        },
        {
          "output_type": "stream",
          "text": [
            "2019-05-23 18:04:29,527 copying /tmp/tmpr8sodtbm to cache at /root/.flair/embeddings/news-forward-0.4.1.pt\n"
          ],
          "name": "stdout"
        },
        {
          "output_type": "stream",
          "text": [
            "\n"
          ],
          "name": "stderr"
        },
        {
          "output_type": "stream",
          "text": [
            "2019-05-23 18:04:29,686 removing temp file /tmp/tmpr8sodtbm\n"
          ],
          "name": "stdout"
        },
        {
          "output_type": "execute_result",
          "data": {
            "text/plain": [
              "[Sentence: \"The grass is green .\" - 5 Tokens]"
            ]
          },
          "metadata": {
            "tags": []
          },
          "execution_count": 39
        }
      ]
    },
    {
      "cell_type": "markdown",
      "metadata": {
        "id": "MOGcSX9Rxt5e",
        "colab_type": "text"
      },
      "source": [
        "You choose which embeddings you load by passing the appropriate string to the constructor of the `FlairEmbeddings` class. \n",
        "Currently, the following contextual string embeddings are provided (more coming):\n",
        " \n",
        "| ID | Language | Embedding | \n",
        "| -------------     | ------------- | ------------- |\n",
        "| 'multi-forward'    | English, German, French, Italian, Dutch, Polish | Mix of corpora (Web, Wikipedia, Subtitles, News) |\n",
        "| 'multi-backward'    | English, German, French, Italian, Dutch, Polish | Mix of corpora (Web, Wikipedia, Subtitles, News) |\n",
        "| 'multi-forward-fast'    | English, German, French, Italian, Dutch, Polish | Mix of corpora (Web, Wikipedia, Subtitles, News) |\n",
        "| 'multi-backward-fast'    | English, German, French, Italian, Dutch, Polish | Mix of corpora (Web, Wikipedia, Subtitles, News) |\n",
        "| 'news-forward'    | English | Forward LM embeddings over 1 billion word corpus |\n",
        "| 'news-backward'   | English | Backward LM embeddings over 1 billion word corpus |\n",
        "| 'news-forward-fast'    | English | Smaller, CPU-friendly forward LM embeddings over 1 billion word corpus |\n",
        "| 'news-backward-fast'   | English | Smaller, CPU-friendly backward LM embeddings over 1 billion word corpus |\n",
        "| 'mix-forward'     | English | Forward LM embeddings over mixed corpus (Web, Wikipedia, Subtitles) |\n",
        "| 'mix-backward'    | English | Backward LM embeddings over mixed corpus (Web, Wikipedia, Subtitles) |\n",
        "| 'german-forward'  | German  | Forward LM embeddings over mixed corpus (Web, Wikipedia, Subtitles) |\n",
        "| 'german-backward' | German  | Backward LM embeddings over mixed corpus (Web, Wikipedia, Subtitles) |\n",
        "| 'polish-forward'  | Polish  | Added by [@borchmann](https://github.com/applicaai/poleval-2018): Forward LM embeddings over web crawls (Polish part of CommonCrawl) |\n",
        "| 'polish-backward' | Polish  | Added by [@borchmann](https://github.com/applicaai/poleval-2018): Backward LM embeddings over web crawls (Polish part of CommonCrawl) |\n",
        "| 'slovenian-forward'  | Slovenian  | Added by [@stefan-it](https://github.com/stefan-it/flair-lms): Forward LM embeddings over various sources (Europarl, Wikipedia and OpenSubtitles2018) |\n",
        "| 'slovenian-backward' | Slovenian  | Added by [@stefan-it](https://github.com/stefan-it/flair-lms): Backward LM embeddings over various sources (Europarl, Wikipedia and OpenSubtitles2018) |\n",
        "| 'bulgarian-forward'  | Bulgarian  | Added by [@stefan-it](https://github.com/stefan-it/flair-lms): Forward LM embeddings over various sources (Europarl, Wikipedia or SETimes) |\n",
        "| 'bulgarian-backward' | Bulgarian  | Added by [@stefan-it](https://github.com/stefan-it/flair-lms): Backward LM embeddings over various sources (Europarl, Wikipedia or SETimes) |\n",
        "| 'dutch-forward'    | Dutch | Added by [@stefan-it](https://github.com/stefan-it/flair-lms): Forward LM embeddings over various sources (Europarl, Wikipedia or OpenSubtitles2018) |\n",
        "| 'dutch-backward'    | Dutch | Added by [@stefan-it](https://github.com/stefan-it/flair-lms): Backward LM embeddings over various sources (Europarl, Wikipedia or OpenSubtitles2018) |\n",
        "| 'swedish-forward'    | Swedish | Added by [@stefan-it](https://github.com/stefan-it/flair-lms): Forward LM embeddings over various sources (Europarl, Wikipedia or OpenSubtitles2018) |\n",
        "| 'swedish-backward'    | Swedish | Added by [@stefan-it](https://github.com/stefan-it/flair-lms): Backward LM embeddings over various sources (Europarl, Wikipedia or OpenSubtitles2018) |\n",
        "| 'french-forward'    | French | Added by [@mhham](https://github.com/mhham): Forward LM embeddings over French Wikipedia |\n",
        "| 'french-backward'    | French | Added by [@mhham](https://github.com/mhham): Backward LM embeddings over French Wikipedia |\n",
        "| 'czech-forward'    | Czech | Added by [@stefan-it](https://github.com/stefan-it/flair-lms): Forward LM embeddings over various sources (Europarl, Wikipedia or OpenSubtitles2018) |\n",
        "| 'czech-backward'    | Czech | Added by [@stefan-it](https://github.com/stefan-it/flair-lms): Backward LM embeddings over various sources (Europarl, Wikipedia or OpenSubtitles2018) |\n",
        "| 'portuguese-forward'    | Portuguese | Added by [@ericlief](https://github.com/ericlief/language_models): Forward LM embeddings |\n",
        "| 'portuguese-backward'    | Portuguese | Added by [@ericlief](https://github.com/ericlief/language_models): Backward LM embeddings |\n",
        "| 'basque-forward'    | Basque | Added by [@stefan-it](https://github.com/stefan-it/flair-lms): Forward LM embeddings |\n",
        "| 'basque-backward'    | Basque | Added by [@stefan-it](https://github.com/stefan-it/flair-lms): Backward LM embeddings |\n",
        "| 'spanish-forward'    | Spanish | Added by [@iamyihwa](https://github.com/zalandoresearch/flair/issues/80): Forward LM embeddings over Wikipedia |\n",
        "| 'spanish-backward'    | Spanish | Added by [@iamyihwa](https://github.com/zalandoresearch/flair/issues/80): Backward LM embeddings over Wikipedia |\n",
        "| 'spanish-forward-fast'    | Spanish | Added by [@iamyihwa](https://github.com/zalandoresearch/flair/issues/80): CPU-friendly forward LM embeddings over Wikipedia |\n",
        "| 'spanish-backward-fast'    | Spanish | Added by [@iamyihwa](https://github.com/zalandoresearch/flair/issues/80): CPU-friendly backward LM embeddings over Wikipedia |\n",
        "\n"
      ]
    },
    {
      "cell_type": "code",
      "metadata": {
        "id": "XDcsi9gGyH-J",
        "colab_type": "code",
        "colab": {
          "base_uri": "https://localhost:8080/",
          "height": 105
        },
        "outputId": "0ec494d0-4073-48c5-d8ec-32eaf167a397"
      },
      "source": [
        "#So, if you want to load embeddings from the English news backward LM model, instantiate the method as follows:\n",
        "\n",
        "flair_backward = FlairEmbeddings('news-backward')\n"
      ],
      "execution_count": 40,
      "outputs": [
        {
          "output_type": "stream",
          "text": [
            "2019-05-23 18:04:43,160 https://s3.eu-central-1.amazonaws.com/alan-nlp/resources/embeddings-v0.4.1/big-news-backward--h2048-l1-d0.05-lr30-0.25-20/news-backward-0.4.1.pt not found in cache, downloading to /tmp/tmp5erk2q_q\n"
          ],
          "name": "stdout"
        },
        {
          "output_type": "stream",
          "text": [
            "100%|██████████| 73034575/73034575 [00:01<00:00, 41072107.73B/s]"
          ],
          "name": "stderr"
        },
        {
          "output_type": "stream",
          "text": [
            "2019-05-23 18:04:45,158 copying /tmp/tmp5erk2q_q to cache at /root/.flair/embeddings/news-backward-0.4.1.pt\n"
          ],
          "name": "stdout"
        },
        {
          "output_type": "stream",
          "text": [
            "\n"
          ],
          "name": "stderr"
        },
        {
          "output_type": "stream",
          "text": [
            "2019-05-23 18:04:45,316 removing temp file /tmp/tmp5erk2q_q\n"
          ],
          "name": "stdout"
        }
      ]
    },
    {
      "cell_type": "markdown",
      "metadata": {
        "id": "aCsw2Hy2yM8g",
        "colab_type": "text"
      },
      "source": [
        "## Recommended Flair Usage\n",
        "\n",
        "We recommend combining both forward and backward Flair embeddings. Depending on the task, we also recommend adding standard word embeddings into the mix. So, our recommended `StackedEmbedding` for most English tasks is: \n",
        "\n",
        "\n"
      ]
    },
    {
      "cell_type": "code",
      "metadata": {
        "id": "KD_jpRjEySdf",
        "colab_type": "code",
        "colab": {
          "base_uri": "https://localhost:8080/",
          "height": 34
        },
        "outputId": "3a35519f-d56a-4d26-b65a-cdf86c6caec6"
      },
      "source": [
        "from flair.embeddings import WordEmbeddings, FlairEmbeddings, StackedEmbeddings\n",
        "\n",
        "# create a StackedEmbedding object that combines glove and forward/backward flair embeddings\n",
        "stacked_embeddings = StackedEmbeddings([\n",
        "                                        WordEmbeddings('glove'), \n",
        "                                        FlairEmbeddings('news-forward'), \n",
        "                                        FlairEmbeddings('news-backward'),\n",
        "                                       ])\n"
      ],
      "execution_count": 41,
      "outputs": [
        {
          "output_type": "stream",
          "text": [
            "2019-05-23 18:04:47,843 this function is deprecated, use smart_open.open instead\n"
          ],
          "name": "stdout"
        }
      ]
    },
    {
      "cell_type": "code",
      "metadata": {
        "id": "181tmcn9yxm4",
        "colab_type": "code",
        "outputId": "077199be-b68c-485e-f03b-3261b800ca05",
        "colab": {
          "base_uri": "https://localhost:8080/",
          "height": 238
        }
      },
      "source": [
        "#That's it! Now just use this embedding like all the other embeddings, i.e. call the `embed()` method over your sentences.\n",
        "\n",
        "sentence = Sentence('The grass is green .')\n",
        "\n",
        "# just embed a sentence using the StackedEmbedding as you would with any single embedding.\n",
        "stacked_embeddings.embed(sentence)\n",
        "\n",
        "# now check out the embedded tokens.\n",
        "for token in sentence:\n",
        "    print(token)\n",
        "    print(token.embedding)\n",
        "\n",
        "#Words are now embedded using a concatenation of three different embeddings. This combination often gives state-of-the-art accuracy.\n",
        "\n"
      ],
      "execution_count": 42,
      "outputs": [
        {
          "output_type": "stream",
          "text": [
            "Token: 1 The\n",
            "tensor([-3.8194e-02, -2.4487e-01,  7.2812e-01,  ..., -4.4014e-04,\n",
            "        -3.9301e-02,  1.0601e-02])\n",
            "Token: 2 grass\n",
            "tensor([-8.1353e-01,  9.4042e-01, -2.4048e-01,  ..., -3.7749e-04,\n",
            "        -2.3563e-02,  1.1700e-02])\n",
            "Token: 3 is\n",
            "tensor([-0.5426,  0.4148,  1.0322,  ..., -0.0061,  0.0112,  0.0100])\n",
            "Token: 4 green\n",
            "tensor([-0.6791,  0.3491, -0.2398,  ..., -0.0026, -0.0118,  0.0455])\n",
            "Token: 5 .\n",
            "tensor([-3.3979e-01,  2.0941e-01,  4.6348e-01,  ..., -2.3405e-04,\n",
            "         3.8688e-03,  5.7725e-03])\n"
          ],
          "name": "stdout"
        }
      ]
    },
    {
      "cell_type": "markdown",
      "metadata": {
        "id": "ZA_KoakuzFE1",
        "colab_type": "text"
      },
      "source": [
        "\n",
        "## BERT Embeddings\n",
        "\n",
        "[BERT embeddings](https://arxiv.org/pdf/1810.04805.pdf) were developed by Devlin et al. (2018) and are a different kind\n",
        "of powerful word embedding based on a bidirectional transformer architecture.\n",
        "We are using the implementation of [huggingface](https://github.com/huggingface/pytorch-pretrained-BERT) in Flair.\n",
        "The embeddings itself are wrapped into our simple embedding interface, so that they can be used like any other\n",
        "embedding.\n",
        "\n"
      ]
    },
    {
      "cell_type": "code",
      "metadata": {
        "id": "tDWdjeGCzHni",
        "colab_type": "code",
        "outputId": "346cfd2b-bd50-4de2-d2dd-aec715cfa2f5",
        "colab": {
          "base_uri": "https://localhost:8080/",
          "height": 68
        }
      },
      "source": [
        "\n",
        "from flair.embeddings import BertEmbeddings\n",
        "\n",
        "# init embedding\n",
        "embedding = BertEmbeddings()\n",
        "\n",
        "# create a sentence\n",
        "sentence = Sentence('The grass is green .')\n",
        "\n",
        "# embed words in sentence\n",
        "embedding.embed(sentence)"
      ],
      "execution_count": 43,
      "outputs": [
        {
          "output_type": "stream",
          "text": [
            "100%|██████████| 231508/231508 [00:00<00:00, 905346.53B/s]\n",
            "100%|██████████| 407873900/407873900 [00:15<00:00, 26380254.47B/s]\n"
          ],
          "name": "stderr"
        },
        {
          "output_type": "execute_result",
          "data": {
            "text/plain": [
              "[Sentence: \"The grass is green .\" - 5 Tokens]"
            ]
          },
          "metadata": {
            "tags": []
          },
          "execution_count": 43
        }
      ]
    },
    {
      "cell_type": "markdown",
      "metadata": {
        "id": "pCm3aPyIzOlV",
        "colab_type": "text"
      },
      "source": [
        "You can load any of the pre-trained BERT models by providing the model string during initialization:\n",
        "\n",
        "| ID | Language | Embedding |\n",
        "| -------------     | ------------- | ------------- |\n",
        "| 'bert-base-uncased' | English | 12-layer, 768-hidden, 12-heads, 110M parameters |\n",
        "| 'bert-large-uncased'   | English | 24-layer, 1024-hidden, 16-heads, 340M parameters |\n",
        "| 'bert-base-cased'    | English | 12-layer, 768-hidden, 12-heads , 110M parameters |\n",
        "| 'bert-large-cased'   | English | 24-layer, 1024-hidden, 16-heads, 340M parameters |\n",
        "| 'bert-base-multilingual-cased'     | 104 languages | 12-layer, 768-hidden, 12-heads, 110M parameters |\n",
        "| 'bert-base-chinese'    | Chinese Simplified and Traditional | 12-layer, 768-hidden, 12-heads, 110M parameters |\n",
        "\n"
      ]
    },
    {
      "cell_type": "markdown",
      "metadata": {
        "id": "EATVXVOMzTmH",
        "colab_type": "text"
      },
      "source": [
        "##ELMo Embeddings\n",
        "ELMo embeddings were presented by Peters et al. in 2018. They are using a bidirectional recurrent neural network to predict the next word in a text. We are using the implementation of AllenNLP. As this implementation comes with a lot of sub-dependencies, which we don't want to include in Flair, you need to first install the library via pip install allennlp before you can use it in Flair. Using the embeddings is as simple as using any other embedding type:\n",
        "\n"
      ]
    },
    {
      "cell_type": "code",
      "metadata": {
        "id": "dS40oAUZFd3o",
        "colab_type": "code",
        "colab": {
          "base_uri": "https://localhost:8080/",
          "height": 3115
        },
        "outputId": "3e14c527-2f58-4cf3-a545-b5291cb5d9c6"
      },
      "source": [
        "!pip install allennlp"
      ],
      "execution_count": 44,
      "outputs": [
        {
          "output_type": "stream",
          "text": [
            "Collecting allennlp\n",
            "\u001b[?25l  Downloading https://files.pythonhosted.org/packages/a4/c8/10342a6068a8d156a5947e03c95525d559e71ad62de0f2585ab922e14533/allennlp-0.8.3-py3-none-any.whl (5.6MB)\n",
            "\u001b[K     |████████████████████████████████| 5.6MB 6.5MB/s \n",
            "\u001b[?25hRequirement already satisfied: editdistance in /usr/local/lib/python3.6/dist-packages (from allennlp) (0.5.3)\n",
            "Collecting numpydoc>=0.8.0 (from allennlp)\n",
            "  Downloading https://files.pythonhosted.org/packages/6a/f3/7cfe4c616e4b9fe05540256cc9c6661c052c8a4cec2915732793b36e1843/numpydoc-0.9.1.tar.gz\n",
            "Collecting word2number>=1.1 (from allennlp)\n",
            "  Downloading https://files.pythonhosted.org/packages/4a/29/a31940c848521f0725f0df6b25dca8917f13a2025b0e8fcbe5d0457e45e6/word2number-1.1.zip\n",
            "Requirement already satisfied: numpy in /usr/local/lib/python3.6/dist-packages (from allennlp) (1.16.3)\n",
            "Collecting unidecode (from allennlp)\n",
            "\u001b[?25l  Downloading https://files.pythonhosted.org/packages/31/39/53096f9217b057cb049fe872b7fc7ce799a1a89b76cf917d9639e7a558b5/Unidecode-1.0.23-py2.py3-none-any.whl (237kB)\n",
            "\u001b[K     |████████████████████████████████| 245kB 45.4MB/s \n",
            "\u001b[?25hCollecting overrides (from allennlp)\n",
            "  Downloading https://files.pythonhosted.org/packages/de/55/3100c6d14c1ed177492fcf8f07c4a7d2d6c996c0a7fc6a9a0a41308e7eec/overrides-1.9.tar.gz\n",
            "Requirement already satisfied: nltk in /usr/local/lib/python3.6/dist-packages (from allennlp) (3.2.5)\n",
            "Collecting flaky (from allennlp)\n",
            "  Downloading https://files.pythonhosted.org/packages/02/42/cca66659a786567c8af98587d66d75e7d2b6e65662f8daab75db708ac35b/flaky-3.5.3-py2.py3-none-any.whl\n",
            "Requirement already satisfied: pytz>=2017.3 in /usr/local/lib/python3.6/dist-packages (from allennlp) (2018.9)\n",
            "Collecting conllu==0.11 (from allennlp)\n",
            "  Downloading https://files.pythonhosted.org/packages/d4/2c/856344d9b69baf5b374c395b4286626181a80f0c2b2f704914d18a1cea47/conllu-0.11-py2.py3-none-any.whl\n",
            "Requirement already satisfied: requests>=2.18 in /usr/local/lib/python3.6/dist-packages (from allennlp) (2.21.0)\n",
            "Requirement already satisfied: sqlparse>=0.2.4 in /usr/local/lib/python3.6/dist-packages (from allennlp) (0.3.0)\n",
            "Requirement already satisfied: pytorch-pretrained-bert>=0.6.0 in /usr/local/lib/python3.6/dist-packages (from allennlp) (0.6.2)\n",
            "Collecting parsimonious>=0.8.0 (from allennlp)\n",
            "\u001b[?25l  Downloading https://files.pythonhosted.org/packages/02/fc/067a3f89869a41009e1a7cdfb14725f8ddd246f30f63c645e8ef8a1c56f4/parsimonious-0.8.1.tar.gz (45kB)\n",
            "\u001b[K     |████████████████████████████████| 51kB 21.2MB/s \n",
            "\u001b[?25hRequirement already satisfied: spacy<2.2,>=2.0 in /usr/local/lib/python3.6/dist-packages (from allennlp) (2.0.18)\n",
            "Requirement already satisfied: boto3 in /usr/local/lib/python3.6/dist-packages (from allennlp) (1.9.150)\n",
            "Requirement already satisfied: msgpack<0.6.0,>=0.5.6 in /usr/local/lib/python3.6/dist-packages (from allennlp) (0.5.6)\n",
            "Collecting awscli>=1.11.91 (from allennlp)\n",
            "\u001b[?25l  Downloading https://files.pythonhosted.org/packages/65/c8/052a27efb2f19172fe7fc17d409e54b72eee805843cc7049e258f3eaa91c/awscli-1.16.164-py2.py3-none-any.whl (1.6MB)\n",
            "\u001b[K     |████████████████████████████████| 1.6MB 51.5MB/s \n",
            "\u001b[?25hRequirement already satisfied: matplotlib>=2.2.3 in /usr/local/lib/python3.6/dist-packages (from allennlp) (3.0.3)\n",
            "Collecting moto>=1.3.4 (from allennlp)\n",
            "\u001b[?25l  Downloading https://files.pythonhosted.org/packages/28/35/f3dc85fa8fa2541b77849459363bb0d6e02bd44ba05afbd3ee3e035a6b14/moto-1.3.8-py2.py3-none-any.whl (580kB)\n",
            "\u001b[K     |████████████████████████████████| 583kB 45.5MB/s \n",
            "\u001b[?25hCollecting responses>=0.7 (from allennlp)\n",
            "  Downloading https://files.pythonhosted.org/packages/d1/5a/b887e89925f1de7890ef298a74438371ed4ed29b33def9e6d02dc6036fd8/responses-0.10.6-py2.py3-none-any.whl\n",
            "Collecting tensorboardX>=1.2 (from allennlp)\n",
            "\u001b[?25l  Downloading https://files.pythonhosted.org/packages/a2/57/2f0a46538295b8e7f09625da6dd24c23f9d0d7ef119ca1c33528660130d5/tensorboardX-1.7-py2.py3-none-any.whl (238kB)\n",
            "\u001b[K     |████████████████████████████████| 245kB 23.4MB/s \n",
            "\u001b[?25hCollecting flask-cors>=3.0.7 (from allennlp)\n",
            "  Downloading https://files.pythonhosted.org/packages/65/cb/683f71ff8daa3aea0a5cbb276074de39f9ab66d3fbb8ad5efb5bb83e90d2/Flask_Cors-3.0.7-py2.py3-none-any.whl\n",
            "Requirement already satisfied: scipy in /usr/local/lib/python3.6/dist-packages (from allennlp) (1.3.0)\n",
            "Requirement already satisfied: tqdm>=4.19 in /usr/local/lib/python3.6/dist-packages (from allennlp) (4.28.1)\n",
            "Requirement already satisfied: flask>=1.0.2 in /usr/local/lib/python3.6/dist-packages (from allennlp) (1.0.3)\n",
            "Requirement already satisfied: gevent>=1.3.6 in /usr/local/lib/python3.6/dist-packages (from allennlp) (1.4.0)\n",
            "Collecting ftfy (from allennlp)\n",
            "\u001b[?25l  Downloading https://files.pythonhosted.org/packages/8f/86/df789c5834f15ae1ca53a8d4c1fc4788676c2e32112f6a786f2625d9c6e6/ftfy-5.5.1-py3-none-any.whl (43kB)\n",
            "\u001b[K     |████████████████████████████████| 51kB 24.7MB/s \n",
            "\u001b[?25hRequirement already satisfied: h5py in /usr/local/lib/python3.6/dist-packages (from allennlp) (2.8.0)\n",
            "Collecting jsonnet>=0.10.0; sys_platform != \"win32\" (from allennlp)\n",
            "\u001b[?25l  Downloading https://files.pythonhosted.org/packages/60/dc/3abd3971869a741d7acdba166d71d4f9366b6b53028dfd56f95de356af0f/jsonnet-0.12.1.tar.gz (240kB)\n",
            "\u001b[K     |████████████████████████████████| 245kB 49.3MB/s \n",
            "\u001b[?25hRequirement already satisfied: torch>=0.4.1 in /usr/local/lib/python3.6/dist-packages (from allennlp) (1.1.0)\n",
            "Requirement already satisfied: pytest in /usr/local/lib/python3.6/dist-packages (from allennlp) (3.6.4)\n",
            "Requirement already satisfied: scikit-learn in /usr/local/lib/python3.6/dist-packages (from allennlp) (0.21.1)\n",
            "Requirement already satisfied: sphinx>=1.6.5 in /usr/local/lib/python3.6/dist-packages (from numpydoc>=0.8.0->allennlp) (1.8.5)\n",
            "Requirement already satisfied: Jinja2>=2.3 in /usr/local/lib/python3.6/dist-packages (from numpydoc>=0.8.0->allennlp) (2.10.1)\n",
            "Requirement already satisfied: six in /usr/local/lib/python3.6/dist-packages (from nltk->allennlp) (1.12.0)\n",
            "Requirement already satisfied: certifi>=2017.4.17 in /usr/local/lib/python3.6/dist-packages (from requests>=2.18->allennlp) (2019.3.9)\n",
            "Requirement already satisfied: urllib3<1.25,>=1.21.1 in /usr/local/lib/python3.6/dist-packages (from requests>=2.18->allennlp) (1.24.3)\n",
            "Requirement already satisfied: idna<2.9,>=2.5 in /usr/local/lib/python3.6/dist-packages (from requests>=2.18->allennlp) (2.8)\n",
            "Requirement already satisfied: chardet<3.1.0,>=3.0.2 in /usr/local/lib/python3.6/dist-packages (from requests>=2.18->allennlp) (3.0.4)\n",
            "Requirement already satisfied: regex in /usr/local/lib/python3.6/dist-packages (from pytorch-pretrained-bert>=0.6.0->allennlp) (2018.1.10)\n",
            "Requirement already satisfied: murmurhash<1.1.0,>=0.28.0 in /usr/local/lib/python3.6/dist-packages (from spacy<2.2,>=2.0->allennlp) (1.0.2)\n",
            "Requirement already satisfied: preshed<2.1.0,>=2.0.1 in /usr/local/lib/python3.6/dist-packages (from spacy<2.2,>=2.0->allennlp) (2.0.1)\n",
            "Requirement already satisfied: cymem<2.1.0,>=2.0.2 in /usr/local/lib/python3.6/dist-packages (from spacy<2.2,>=2.0->allennlp) (2.0.2)\n",
            "Requirement already satisfied: thinc<6.13.0,>=6.12.1 in /usr/local/lib/python3.6/dist-packages (from spacy<2.2,>=2.0->allennlp) (6.12.1)\n",
            "Requirement already satisfied: plac<1.0.0,>=0.9.6 in /usr/local/lib/python3.6/dist-packages (from spacy<2.2,>=2.0->allennlp) (0.9.6)\n",
            "Requirement already satisfied: ujson>=1.35 in /usr/local/lib/python3.6/dist-packages (from spacy<2.2,>=2.0->allennlp) (1.35)\n",
            "Requirement already satisfied: dill<0.3,>=0.2 in /usr/local/lib/python3.6/dist-packages (from spacy<2.2,>=2.0->allennlp) (0.2.9)\n",
            "Requirement already satisfied: s3transfer<0.3.0,>=0.2.0 in /usr/local/lib/python3.6/dist-packages (from boto3->allennlp) (0.2.0)\n",
            "Requirement already satisfied: jmespath<1.0.0,>=0.7.1 in /usr/local/lib/python3.6/dist-packages (from boto3->allennlp) (0.9.4)\n",
            "Requirement already satisfied: botocore<1.13.0,>=1.12.150 in /usr/local/lib/python3.6/dist-packages (from boto3->allennlp) (1.12.150)\n",
            "Requirement already satisfied: PyYAML<=3.13,>=3.10 in /usr/local/lib/python3.6/dist-packages (from awscli>=1.11.91->allennlp) (3.13)\n",
            "Collecting colorama<=0.3.9,>=0.2.5 (from awscli>=1.11.91->allennlp)\n",
            "  Downloading https://files.pythonhosted.org/packages/db/c8/7dcf9dbcb22429512708fe3a547f8b6101c0d02137acbd892505aee57adf/colorama-0.3.9-py2.py3-none-any.whl\n",
            "Collecting rsa<=3.5.0,>=3.1.2 (from awscli>=1.11.91->allennlp)\n",
            "\u001b[?25l  Downloading https://files.pythonhosted.org/packages/e1/ae/baedc9cb175552e95f3395c43055a6a5e125ae4d48a1d7a924baca83e92e/rsa-3.4.2-py2.py3-none-any.whl (46kB)\n",
            "\u001b[K     |████████████████████████████████| 51kB 23.9MB/s \n",
            "\u001b[?25hRequirement already satisfied: docutils>=0.10 in /usr/local/lib/python3.6/dist-packages (from awscli>=1.11.91->allennlp) (0.14)\n",
            "Requirement already satisfied: cycler>=0.10 in /usr/local/lib/python3.6/dist-packages (from matplotlib>=2.2.3->allennlp) (0.10.0)\n",
            "Requirement already satisfied: python-dateutil>=2.1 in /usr/local/lib/python3.6/dist-packages (from matplotlib>=2.2.3->allennlp) (2.5.3)\n",
            "Requirement already satisfied: pyparsing!=2.0.4,!=2.1.2,!=2.1.6,>=2.0.1 in /usr/local/lib/python3.6/dist-packages (from matplotlib>=2.2.3->allennlp) (2.4.0)\n",
            "Requirement already satisfied: kiwisolver>=1.0.1 in /usr/local/lib/python3.6/dist-packages (from matplotlib>=2.2.3->allennlp) (1.1.0)\n",
            "Collecting xmltodict (from moto>=1.3.4->allennlp)\n",
            "  Downloading https://files.pythonhosted.org/packages/28/fd/30d5c1d3ac29ce229f6bdc40bbc20b28f716e8b363140c26eff19122d8a5/xmltodict-0.12.0-py2.py3-none-any.whl\n",
            "Collecting cfn-lint (from moto>=1.3.4->allennlp)\n",
            "\u001b[?25l  Downloading https://files.pythonhosted.org/packages/a6/59/33a2900c4b9dc2bf6b02c66854271bb6278b81a7ed435509d1c2e5f99a9a/cfn_lint-0.21.0-py3-none-any.whl (2.3MB)\n",
            "\u001b[K     |████████████████████████████████| 2.3MB 48.5MB/s \n",
            "\u001b[?25hCollecting aws-xray-sdk!=0.96,>=0.93 (from moto>=1.3.4->allennlp)\n",
            "\u001b[?25l  Downloading https://files.pythonhosted.org/packages/58/f2/79f7918f4ddeec525742ddd4607abe4a82a29a6bc4c7e297995f59a18965/aws_xray_sdk-2.4.2-py2.py3-none-any.whl (87kB)\n",
            "\u001b[K     |████████████████████████████████| 92kB 28.9MB/s \n",
            "\u001b[?25hRequirement already satisfied: werkzeug in /usr/local/lib/python3.6/dist-packages (from moto>=1.3.4->allennlp) (0.15.4)\n",
            "Collecting cryptography>=2.3.0 (from moto>=1.3.4->allennlp)\n",
            "\u001b[?25l  Downloading https://files.pythonhosted.org/packages/5b/12/b0409a94dad366d98a8eee2a77678c7a73aafd8c0e4b835abea634ea3896/cryptography-2.6.1-cp34-abi3-manylinux1_x86_64.whl (2.3MB)\n",
            "\u001b[K     |████████████████████████████████| 2.3MB 43.6MB/s \n",
            "\u001b[?25hRequirement already satisfied: boto>=2.36.0 in /usr/local/lib/python3.6/dist-packages (from moto>=1.3.4->allennlp) (2.49.0)\n",
            "Requirement already satisfied: mock in /usr/local/lib/python3.6/dist-packages (from moto>=1.3.4->allennlp) (3.0.5)\n",
            "Collecting python-jose<4.0.0 (from moto>=1.3.4->allennlp)\n",
            "  Downloading https://files.pythonhosted.org/packages/96/da/c0dcc5e7a98a53440b8db3cf9771345fa696754f79e8734ea59123f7d734/python_jose-3.0.1-py2.py3-none-any.whl\n",
            "Collecting jsondiff==1.1.2 (from moto>=1.3.4->allennlp)\n",
            "  Downloading https://files.pythonhosted.org/packages/33/0c/ddb17571e061c655871ccbf76cdada55a31569327d21517de779d4887241/jsondiff-1.1.2.tar.gz\n",
            "Collecting docker>=2.5.1 (from moto>=1.3.4->allennlp)\n",
            "\u001b[?25l  Downloading https://files.pythonhosted.org/packages/91/93/310fe092039f6b0759a1f8524e9e2c56f8012804fa2a8da4e4289bb74d7c/docker-4.0.1-py2.py3-none-any.whl (138kB)\n",
            "\u001b[K     |████████████████████████████████| 143kB 44.2MB/s \n",
            "\u001b[?25hRequirement already satisfied: protobuf>=3.2.0 in /usr/local/lib/python3.6/dist-packages (from tensorboardX>=1.2->allennlp) (3.7.1)\n",
            "Requirement already satisfied: itsdangerous>=0.24 in /usr/local/lib/python3.6/dist-packages (from flask>=1.0.2->allennlp) (1.1.0)\n",
            "Requirement already satisfied: click>=5.1 in /usr/local/lib/python3.6/dist-packages (from flask>=1.0.2->allennlp) (7.0)\n",
            "Requirement already satisfied: greenlet>=0.4.14; platform_python_implementation == \"CPython\" in /usr/local/lib/python3.6/dist-packages (from gevent>=1.3.6->allennlp) (0.4.15)\n",
            "Requirement already satisfied: wcwidth in /usr/local/lib/python3.6/dist-packages (from ftfy->allennlp) (0.1.7)\n",
            "Requirement already satisfied: attrs>=17.4.0 in /usr/local/lib/python3.6/dist-packages (from pytest->allennlp) (19.1.0)\n",
            "Requirement already satisfied: more-itertools>=4.0.0 in /usr/local/lib/python3.6/dist-packages (from pytest->allennlp) (7.0.0)\n",
            "Requirement already satisfied: py>=1.5.0 in /usr/local/lib/python3.6/dist-packages (from pytest->allennlp) (1.8.0)\n",
            "Requirement already satisfied: pluggy<0.8,>=0.5 in /usr/local/lib/python3.6/dist-packages (from pytest->allennlp) (0.7.1)\n",
            "Requirement already satisfied: atomicwrites>=1.0 in /usr/local/lib/python3.6/dist-packages (from pytest->allennlp) (1.3.0)\n",
            "Requirement already satisfied: setuptools in /usr/local/lib/python3.6/dist-packages (from pytest->allennlp) (41.0.1)\n",
            "Requirement already satisfied: joblib>=0.11 in /usr/local/lib/python3.6/dist-packages (from scikit-learn->allennlp) (0.12.5)\n",
            "Requirement already satisfied: imagesize in /usr/local/lib/python3.6/dist-packages (from sphinx>=1.6.5->numpydoc>=0.8.0->allennlp) (1.1.0)\n",
            "Requirement already satisfied: Pygments>=2.0 in /usr/local/lib/python3.6/dist-packages (from sphinx>=1.6.5->numpydoc>=0.8.0->allennlp) (2.1.3)\n",
            "Requirement already satisfied: snowballstemmer>=1.1 in /usr/local/lib/python3.6/dist-packages (from sphinx>=1.6.5->numpydoc>=0.8.0->allennlp) (1.2.1)\n",
            "Requirement already satisfied: alabaster<0.8,>=0.7 in /usr/local/lib/python3.6/dist-packages (from sphinx>=1.6.5->numpydoc>=0.8.0->allennlp) (0.7.12)\n",
            "Requirement already satisfied: packaging in /usr/local/lib/python3.6/dist-packages (from sphinx>=1.6.5->numpydoc>=0.8.0->allennlp) (19.0)\n",
            "Requirement already satisfied: sphinxcontrib-websupport in /usr/local/lib/python3.6/dist-packages (from sphinx>=1.6.5->numpydoc>=0.8.0->allennlp) (1.1.0)\n",
            "Requirement already satisfied: babel!=2.0,>=1.3 in /usr/local/lib/python3.6/dist-packages (from sphinx>=1.6.5->numpydoc>=0.8.0->allennlp) (2.6.0)\n",
            "Requirement already satisfied: MarkupSafe>=0.23 in /usr/local/lib/python3.6/dist-packages (from Jinja2>=2.3->numpydoc>=0.8.0->allennlp) (1.1.1)\n",
            "Requirement already satisfied: wrapt<1.11.0,>=1.10.0 in /usr/local/lib/python3.6/dist-packages (from thinc<6.13.0,>=6.12.1->spacy<2.2,>=2.0->allennlp) (1.10.11)\n",
            "Requirement already satisfied: msgpack-numpy<0.4.4 in /usr/local/lib/python3.6/dist-packages (from thinc<6.13.0,>=6.12.1->spacy<2.2,>=2.0->allennlp) (0.4.3.2)\n",
            "Requirement already satisfied: cytoolz<0.10,>=0.9.0 in /usr/local/lib/python3.6/dist-packages (from thinc<6.13.0,>=6.12.1->spacy<2.2,>=2.0->allennlp) (0.9.0.1)\n",
            "Requirement already satisfied: pyasn1>=0.1.3 in /usr/local/lib/python3.6/dist-packages (from rsa<=3.5.0,>=3.1.2->awscli>=1.11.91->allennlp) (0.4.5)\n",
            "Requirement already satisfied: jsonschema~=2.6 in /usr/local/lib/python3.6/dist-packages (from cfn-lint->moto>=1.3.4->allennlp) (2.6.0)\n",
            "Collecting jsonpatch (from cfn-lint->moto>=1.3.4->allennlp)\n",
            "  Downloading https://files.pythonhosted.org/packages/a0/e6/d50d526ae2218b765ddbdb2dda14d65e19f501ce07410b375bc43ad20b7a/jsonpatch-1.23-py2.py3-none-any.whl\n",
            "Collecting aws-sam-translator>=1.10.0 (from cfn-lint->moto>=1.3.4->allennlp)\n",
            "\u001b[?25l  Downloading https://files.pythonhosted.org/packages/85/dd/3f9c13d6454c4e59b71faacd19d7041e6d6becc76a8390aa2587f425df83/aws-sam-translator-1.11.0.tar.gz (96kB)\n",
            "\u001b[K     |████████████████████████████████| 102kB 32.5MB/s \n",
            "\u001b[?25hCollecting jsonpickle (from aws-xray-sdk!=0.96,>=0.93->moto>=1.3.4->allennlp)\n",
            "  Downloading https://files.pythonhosted.org/packages/dc/12/8c44eabb501e2bc0aec0dd152b328074d98a50968d3a02be28f6037f0c6a/jsonpickle-1.1-py2.py3-none-any.whl\n",
            "Requirement already satisfied: future in /usr/local/lib/python3.6/dist-packages (from aws-xray-sdk!=0.96,>=0.93->moto>=1.3.4->allennlp) (0.16.0)\n",
            "Collecting asn1crypto>=0.21.0 (from cryptography>=2.3.0->moto>=1.3.4->allennlp)\n",
            "\u001b[?25l  Downloading https://files.pythonhosted.org/packages/ea/cd/35485615f45f30a510576f1a56d1e0a7ad7bd8ab5ed7cdc600ef7cd06222/asn1crypto-0.24.0-py2.py3-none-any.whl (101kB)\n",
            "\u001b[K     |████████████████████████████████| 102kB 31.2MB/s \n",
            "\u001b[?25hRequirement already satisfied: cffi!=1.11.3,>=1.8 in /usr/local/lib/python3.6/dist-packages (from cryptography>=2.3.0->moto>=1.3.4->allennlp) (1.12.3)\n",
            "Collecting ecdsa<1.0 (from python-jose<4.0.0->moto>=1.3.4->allennlp)\n",
            "\u001b[?25l  Downloading https://files.pythonhosted.org/packages/23/a8/8aa68e70959e1287da9154e5164bb8bd5dd7025e41ae54e8d177b8d165c9/ecdsa-0.13.2-py2.py3-none-any.whl (59kB)\n",
            "\u001b[K     |████████████████████████████████| 61kB 26.0MB/s \n",
            "\u001b[?25hCollecting websocket-client>=0.32.0 (from docker>=2.5.1->moto>=1.3.4->allennlp)\n",
            "\u001b[?25l  Downloading https://files.pythonhosted.org/packages/29/19/44753eab1fdb50770ac69605527e8859468f3c0fd7dc5a76dd9c4dbd7906/websocket_client-0.56.0-py2.py3-none-any.whl (200kB)\n",
            "\u001b[K     |████████████████████████████████| 204kB 49.8MB/s \n",
            "\u001b[?25hRequirement already satisfied: toolz>=0.8.0 in /usr/local/lib/python3.6/dist-packages (from cytoolz<0.10,>=0.9.0->thinc<6.13.0,>=6.12.1->spacy<2.2,>=2.0->allennlp) (0.9.0)\n",
            "Collecting jsonpointer>=1.9 (from jsonpatch->cfn-lint->moto>=1.3.4->allennlp)\n",
            "  Downloading https://files.pythonhosted.org/packages/18/b0/a80d29577c08eea401659254dfaed87f1af45272899e1812d7e01b679bc5/jsonpointer-2.0-py2.py3-none-any.whl\n",
            "Requirement already satisfied: pycparser in /usr/local/lib/python3.6/dist-packages (from cffi!=1.11.3,>=1.8->cryptography>=2.3.0->moto>=1.3.4->allennlp) (2.19)\n",
            "Building wheels for collected packages: numpydoc, word2number, overrides, parsimonious, jsonnet, jsondiff, aws-sam-translator\n",
            "  Building wheel for numpydoc (setup.py) ... \u001b[?25l\u001b[?25hdone\n",
            "  Stored in directory: /root/.cache/pip/wheels/51/30/d1/92a39ba40f21cb70e53f8af96eb98f002a781843c065406500\n",
            "  Building wheel for word2number (setup.py) ... \u001b[?25l\u001b[?25hdone\n",
            "  Stored in directory: /root/.cache/pip/wheels/46/2f/53/5f5c1d275492f2fce1cdab9a9bb12d49286dead829a4078e0e\n",
            "  Building wheel for overrides (setup.py) ... \u001b[?25l\u001b[?25hdone\n",
            "  Stored in directory: /root/.cache/pip/wheels/8d/52/86/e5a83b1797e7d263b458d2334edd2704c78508b3eea9323718\n",
            "  Building wheel for parsimonious (setup.py) ... \u001b[?25l\u001b[?25hdone\n",
            "  Stored in directory: /root/.cache/pip/wheels/b7/8d/e7/a0e74217da5caeb3c1c7689639b6d28ddbf9985b840bc96a9a\n",
            "  Building wheel for jsonnet (setup.py) ... \u001b[?25l\u001b[?25hdone\n",
            "  Stored in directory: /root/.cache/pip/wheels/f0/47/51/a178b15274ed0db775a1ae9c799ce31e511609c3ab75a7dec5\n",
            "  Building wheel for jsondiff (setup.py) ... \u001b[?25l\u001b[?25hdone\n",
            "  Stored in directory: /root/.cache/pip/wheels/46/5f/86/11c6b72b064888e80b98bfcbcdaf2a83517a8cf8f2bb2a3227\n",
            "  Building wheel for aws-sam-translator (setup.py) ... \u001b[?25l\u001b[?25hdone\n",
            "  Stored in directory: /root/.cache/pip/wheels/12/39/44/8528735e5e1989a5b19b4e2230d63e92847903cee1ab94fe6e\n",
            "Successfully built numpydoc word2number overrides parsimonious jsonnet jsondiff aws-sam-translator\n",
            "\u001b[31mERROR: awscli 1.16.164 has requirement botocore==1.12.154, but you'll have botocore 1.12.150 which is incompatible.\u001b[0m\n",
            "Installing collected packages: numpydoc, word2number, unidecode, overrides, flaky, conllu, parsimonious, colorama, rsa, awscli, xmltodict, jsonpointer, jsonpatch, aws-sam-translator, cfn-lint, jsonpickle, aws-xray-sdk, asn1crypto, cryptography, ecdsa, python-jose, jsondiff, websocket-client, docker, responses, moto, tensorboardX, flask-cors, ftfy, jsonnet, allennlp\n",
            "  Found existing installation: rsa 4.0\n",
            "    Uninstalling rsa-4.0:\n",
            "      Successfully uninstalled rsa-4.0\n",
            "Successfully installed allennlp-0.8.3 asn1crypto-0.24.0 aws-sam-translator-1.11.0 aws-xray-sdk-2.4.2 awscli-1.16.164 cfn-lint-0.21.0 colorama-0.3.9 conllu-0.11 cryptography-2.6.1 docker-4.0.1 ecdsa-0.13.2 flaky-3.5.3 flask-cors-3.0.7 ftfy-5.5.1 jsondiff-1.1.2 jsonnet-0.12.1 jsonpatch-1.23 jsonpickle-1.1 jsonpointer-2.0 moto-1.3.8 numpydoc-0.9.1 overrides-1.9 parsimonious-0.8.1 python-jose-3.0.1 responses-0.10.6 rsa-3.4.2 tensorboardX-1.7 unidecode-1.0.23 websocket-client-0.56.0 word2number-1.1 xmltodict-0.12.0\n"
          ],
          "name": "stdout"
        },
        {
          "output_type": "display_data",
          "data": {
            "application/vnd.colab-display-data+json": {
              "pip_warning": {
                "packages": [
                  "rsa"
                ]
              }
            }
          },
          "metadata": {
            "tags": []
          }
        }
      ]
    },
    {
      "cell_type": "code",
      "metadata": {
        "id": "gZa0qSZvzah3",
        "colab_type": "code",
        "outputId": "f1fc4f9f-9f26-43a6-9001-efafadd521bf",
        "colab": {
          "base_uri": "https://localhost:8080/",
          "height": 122
        }
      },
      "source": [
        "from flair.embeddings import ELMoEmbeddings\n",
        "\n",
        "# init embedding\n",
        "embedding = ELMoEmbeddings()\n",
        "\n",
        "# create a sentence\n",
        "sentence = Sentence('The grass is green .')\n",
        "\n",
        "# embed words in sentence\n",
        "embedding.embed(sentence)\n"
      ],
      "execution_count": 45,
      "outputs": [
        {
          "output_type": "stream",
          "text": [
            "/usr/local/lib/python3.6/dist-packages/sklearn/utils/linear_assignment_.py:21: DeprecationWarning: The linear_assignment_ module is deprecated in 0.21 and will be removed from 0.23. Use scipy.optimize.linear_sum_assignment instead.\n",
            "  DeprecationWarning)\n",
            "100%|██████████| 336/336 [00:00<00:00, 71774.19B/s]\n",
            "100%|██████████| 374434792/374434792 [00:30<00:00, 12144925.37B/s]\n"
          ],
          "name": "stderr"
        },
        {
          "output_type": "execute_result",
          "data": {
            "text/plain": [
              "[Sentence: \"The grass is green .\" - 5 Tokens]"
            ]
          },
          "metadata": {
            "tags": []
          },
          "execution_count": 45
        }
      ]
    },
    {
      "cell_type": "markdown",
      "metadata": {
        "id": "hvXYcUyJzfyT",
        "colab_type": "text"
      },
      "source": [
        "AllenNLP provides the following pre-trained models. To use any of the following models inside Flair\n",
        "simple specify the embedding id when initializing the `ELMoEmbeddings`.\n",
        "\n",
        "| ID | Language | Embedding |\n",
        "| ------------- | ------------- | ------------- |\n",
        "| 'small' | English | 1024-hidden, 1 layer, 14.6M parameters |\n",
        "| 'medium'   | English | 2048-hidden, 1 layer, 28.0M parameters |\n",
        "| 'original'    | English | 4096-hidden, 2 layers, 93.6M parameters |\n",
        "| 'pt'   | Portuguese | |\n",
        "\n",
        "\n"
      ]
    },
    {
      "cell_type": "markdown",
      "metadata": {
        "id": "kTZJGMggzsA-",
        "colab_type": "text"
      },
      "source": [
        "## Combining BERT and Flair\n",
        "\n",
        "You can very easily mix and match Flair, ELMo, BERT and classic word embeddings. All you need to do is instantiate each embedding you wish to combine and use them in a StackedEmbedding. \n",
        "\n",
        "For instance, let's say we want to combine the multilingual Flair and BERT embeddings to train a hyper-powerful multilingual downstream task model. \n",
        "\n",
        "First, instantiate the embeddings you wish to combine: \n"
      ]
    },
    {
      "cell_type": "code",
      "metadata": {
        "id": "rBCyZl-jzl_b",
        "colab_type": "code",
        "outputId": "ad396473-f724-46ba-8d5e-2d6a8fb1a4d5",
        "colab": {
          "base_uri": "https://localhost:8080/",
          "height": 224
        }
      },
      "source": [
        "from flair.embeddings import FlairEmbeddings, BertEmbeddings\n",
        "\n",
        "# init Flair embeddings\n",
        "flair_forward_embedding = FlairEmbeddings('multi-forward')\n",
        "flair_backward_embedding = FlairEmbeddings('multi-backward')\n",
        "\n",
        "# init multilingual BERT\n",
        "bert_embedding = BertEmbeddings('bert-base-multilingual-cased')"
      ],
      "execution_count": 46,
      "outputs": [
        {
          "output_type": "stream",
          "text": [
            "2019-05-23 18:08:13,687 https://s3.eu-central-1.amazonaws.com/alan-nlp/resources/embeddings-v0.4/lm-multi-forward-v0.1.pt not found in cache, downloading to /tmp/tmpslhg1wi8\n"
          ],
          "name": "stdout"
        },
        {
          "output_type": "stream",
          "text": [
            "100%|██████████| 73034300/73034300 [00:01<00:00, 65986709.65B/s]"
          ],
          "name": "stderr"
        },
        {
          "output_type": "stream",
          "text": [
            "2019-05-23 18:08:14,993 copying /tmp/tmpslhg1wi8 to cache at /root/.flair/embeddings/lm-multi-forward-v0.1.pt\n"
          ],
          "name": "stdout"
        },
        {
          "output_type": "stream",
          "text": [
            "\n"
          ],
          "name": "stderr"
        },
        {
          "output_type": "stream",
          "text": [
            "2019-05-23 18:08:15,157 removing temp file /tmp/tmpslhg1wi8\n",
            "2019-05-23 18:08:15,502 https://s3.eu-central-1.amazonaws.com/alan-nlp/resources/embeddings-v0.4/lm-multi-backward-v0.1.pt not found in cache, downloading to /tmp/tmp4hmfohvn\n"
          ],
          "name": "stdout"
        },
        {
          "output_type": "stream",
          "text": [
            "100%|██████████| 73034304/73034304 [00:01<00:00, 69178281.91B/s]"
          ],
          "name": "stderr"
        },
        {
          "output_type": "stream",
          "text": [
            "2019-05-23 18:08:16,731 copying /tmp/tmp4hmfohvn to cache at /root/.flair/embeddings/lm-multi-backward-v0.1.pt\n"
          ],
          "name": "stdout"
        },
        {
          "output_type": "stream",
          "text": [
            "\n"
          ],
          "name": "stderr"
        },
        {
          "output_type": "stream",
          "text": [
            "2019-05-23 18:08:16,903 removing temp file /tmp/tmp4hmfohvn\n",
            "2019-05-23 18:08:17,178 The pre-trained model you are loading is a cased model but you have not set `do_lower_case` to False. We are setting `do_lower_case=False` for you but you may want to check this behavior.\n"
          ],
          "name": "stdout"
        },
        {
          "output_type": "stream",
          "text": [
            "100%|██████████| 995526/995526 [00:00<00:00, 1957674.07B/s]\n",
            "100%|██████████| 662804195/662804195 [00:23<00:00, 28806169.95B/s]\n"
          ],
          "name": "stderr"
        }
      ]
    },
    {
      "cell_type": "code",
      "metadata": {
        "id": "UVOYU4sCzxFi",
        "colab_type": "code",
        "colab": {}
      },
      "source": [
        "#Now instantiate the StackedEmbeddings class and pass it a list containing these three embeddings.\n",
        "\n",
        "from flair.embeddings import StackedEmbeddings\n",
        "\n",
        "# now create the StackedEmbedding object that combines all embeddings\n",
        "stacked_embeddings = StackedEmbeddings(\n",
        "    embeddings=[flair_forward_embedding, flair_backward_embedding, bert_embedding])\n"
      ],
      "execution_count": 0,
      "outputs": []
    },
    {
      "cell_type": "code",
      "metadata": {
        "id": "VYAHwf3Yz5al",
        "colab_type": "code",
        "outputId": "ffdf98ed-9efd-4b32-d1b1-5f30881ff354",
        "colab": {
          "base_uri": "https://localhost:8080/",
          "height": 272
        }
      },
      "source": [
        "#That's it! Now just use this embedding like all the other embeddings, i.e. call the `embed()` method over your sentences.\n",
        "\n",
        "sentence = Sentence('The grass is green .')\n",
        "\n",
        "# just embed a sentence using the StackedEmbedding as you would with any single embedding.\n",
        "stacked_embeddings.embed(sentence)\n",
        "\n",
        "# now check out the embedded tokens.\n",
        "for token in sentence:\n",
        "    print(token)\n",
        "    print(token.embedding)"
      ],
      "execution_count": 48,
      "outputs": [
        {
          "output_type": "stream",
          "text": [
            "Token: 1 The\n",
            "tensor([-1.4812e-07,  4.5007e-08,  6.0273e-07,  ...,  3.8287e-01,\n",
            "         4.7210e-01,  2.9850e-01])\n",
            "Token: 2 grass\n",
            "tensor([ 1.6254e-04,  1.8764e-07, -7.9038e-09,  ...,  8.5283e-01,\n",
            "        -5.0724e-02,  3.4476e-01])\n",
            "Token: 3 is\n",
            "tensor([-2.4521e-04,  3.4869e-07,  5.5841e-06,  ..., -1.8283e-01,\n",
            "         7.1532e-01,  5.0833e-03])\n",
            "Token: 4 green\n",
            "tensor([8.3005e-05, 4.7261e-08, 5.7315e-07,  ..., 1.0157e+00, 7.5358e-01,\n",
            "        1.1230e-01])\n",
            "Token: 5 .\n",
            "tensor([-8.3244e-07,  1.6451e-07, -1.7201e-08,  ..., -6.0930e-01,\n",
            "         9.0591e-01,  1.7857e-01])\n"
          ],
          "name": "stdout"
        }
      ]
    },
    {
      "cell_type": "markdown",
      "metadata": {
        "id": "VOQ_LaDm0BL0",
        "colab_type": "text"
      },
      "source": [
        "Words are now embedded using a concatenation of three different embeddings. This means that the resulting embedding vector is still a single Pytorch vector. \n"
      ]
    },
    {
      "cell_type": "markdown",
      "metadata": {
        "id": "aukozSwMtGtC",
        "colab_type": "text"
      },
      "source": [
        "\n",
        "## Next \n",
        "\n",
        "You can now either look into [document embeddings](/resources/docs/TUTORIAL_5_DOCUMENT_EMBEDDINGS.md) to embed entire text \n",
        "passages with one vector for tasks such as text classification, or go directly to the tutorial about \n",
        "[loading your corpus](/resources/docs/TUTORIAL_6_CORPUS.md), which is a pre-requirement for\n",
        "[training your own models](/resources/docs/TUTORIAL_7_TRAINING_A_MODEL.md).\n",
        "\n",
        "Drag and Drop\n",
        "The image will be downloaded by Fatkun"
      ]
    },
    {
      "cell_type": "markdown",
      "metadata": {
        "id": "zoxEHlxRyd3W",
        "colab_type": "text"
      },
      "source": [
        "#5. Using Document Embeddings"
      ]
    },
    {
      "cell_type": "markdown",
      "metadata": {
        "id": "GlOIVYL691A6",
        "colab_type": "text"
      },
      "source": [
        "Document embeddings are different from [word embeddings](/resources/docs/TUTORIAL_3_WORD_EMBEDDING.md) in that they \n",
        "give you one embedding for an entire text, whereas word embeddings give you embeddings for individual words. \n",
        "\n",
        "For this tutorial, we assume that you're familiar with the [base types](/resources/docs/TUTORIAL_1_BASICS.md) of this\n",
        "library and how [word embeddings](/resources/docs/TUTORIAL_3_WORD_EMBEDDING.md) work.\n"
      ]
    },
    {
      "cell_type": "markdown",
      "metadata": {
        "id": "1dir-Juj96o-",
        "colab_type": "text"
      },
      "source": [
        "\n",
        "## Embeddings\n",
        "\n",
        "All document embedding classes inherit from the `DocumentEmbeddings` class and implement the `embed()` method which you\n",
        "need to call to embed your text. This means that for most users of Flair, the complexity of different embeddings remains\n",
        "hidden behind this interface. Simply instantiate the embedding class you require and call `embed()` to embed your text.\n",
        "\n",
        "All embeddings produced with our methods are Pytorch vectors, so they can be immediately used for training and\n",
        "fine-tuning.\n",
        "\n"
      ]
    },
    {
      "cell_type": "markdown",
      "metadata": {
        "id": "F2ii1D6s-AZ_",
        "colab_type": "text"
      },
      "source": [
        "## Document Embeddings\n",
        "\n",
        "Our document embeddings are created from the embeddings of all words in the document.\n",
        "Currently, we have two different methods to obtain a document embedding from a list of word embeddings.\n",
        "\n"
      ]
    },
    {
      "cell_type": "markdown",
      "metadata": {
        "id": "_MbT9mD1-BLv",
        "colab_type": "text"
      },
      "source": [
        "### Pooling\n",
        "\n",
        "The first method calculates a pooling operation over all word embeddings in a document.\n",
        "The default operation is `mean` which gives us the mean of all words in the sentence.\n",
        "The resulting embedding is taken as document embedding.\n",
        "\n",
        "To create a mean document embedding simply create any number of `TokenEmbeddings` first and put them in a list.\n",
        "Afterwards, initiate the `DocumentPoolEmbeddings` with this list of `TokenEmbeddings`.\n",
        "So, if you want to create a document embedding using GloVe embeddings together with CharLMEmbeddings,\n",
        "use the following code:\n"
      ]
    },
    {
      "cell_type": "code",
      "metadata": {
        "id": "RZIrKk3O-GCS",
        "colab_type": "code",
        "colab": {
          "base_uri": "https://localhost:8080/",
          "height": 71
        },
        "outputId": "17620014-9fec-4865-e395-93fff75936fe"
      },
      "source": [
        "from flair.embeddings import WordEmbeddings, FlairEmbeddings, DocumentPoolEmbeddings, Sentence, BertEmbeddings\n",
        "\n",
        "\n",
        "# initialize the word embeddings\n",
        "glove_embedding = WordEmbeddings('glove')\n",
        "flair_embedding_forward = FlairEmbeddings('news-forward')\n",
        "flair_embedding_backward = FlairEmbeddings('news-backward')\n",
        "bert_embedding = BertEmbeddings('bert-base-multilingual-cased')\n",
        "\n",
        "# initialize the document embeddings, mode = mean\n",
        "document_embeddings = DocumentPoolEmbeddings([glove_embedding,\n",
        "                                              flair_embedding_backward,\n",
        "                                              flair_embedding_forward,\n",
        "                                              bert_embedding])\n"
      ],
      "execution_count": 49,
      "outputs": [
        {
          "output_type": "stream",
          "text": [
            "2019-05-23 18:09:17,310 this function is deprecated, use smart_open.open instead\n",
            "2019-05-23 18:09:20,293 The pre-trained model you are loading is a cased model but you have not set `do_lower_case` to False. We are setting `do_lower_case=False` for you but you may want to check this behavior.\n"
          ],
          "name": "stdout"
        }
      ]
    },
    {
      "cell_type": "code",
      "metadata": {
        "id": "r3aQjOYk-LvE",
        "colab_type": "code",
        "outputId": "c11e24b6-b860-4c56-b760-6bfce8e57f3b",
        "colab": {
          "base_uri": "https://localhost:8080/",
          "height": 34
        }
      },
      "source": [
        "#Now, create an example sentence and call the embedding's `embed()` method.\n",
        "\n",
        "# create an example sentence\n",
        "sentence = Sentence('The grass is green . And the sky is blue .')\n",
        "\n",
        "# embed the sentence with our document embedding\n",
        "document_embeddings.embed(sentence)\n",
        "\n",
        "# now check out the embedded sentence.\n",
        "print(sentence.get_embedding())\n"
      ],
      "execution_count": 50,
      "outputs": [
        {
          "output_type": "stream",
          "text": [
            "tensor([-0.3197,  0.2621,  0.4037,  ...,  0.7003,  1.0436,  0.2993])\n"
          ],
          "name": "stdout"
        }
      ]
    },
    {
      "cell_type": "markdown",
      "metadata": {
        "id": "dWkT1lTK-R4l",
        "colab_type": "text"
      },
      "source": [
        "This prints out the embedding of the document.\n",
        "Since the document embedding is derived from word embeddings, its dimensionality depends on the dimensionality of word\n",
        "embeddings you are using.\n",
        "\n",
        "Next to the `mean` pooling operation you can also use `min` or `max` pooling. Simply pass the pooling operation you want\n",
        "to use to the initialization of the `DocumentPoolEmbeddings`:\n"
      ]
    },
    {
      "cell_type": "code",
      "metadata": {
        "id": "WxHfOyV5-T3f",
        "colab_type": "code",
        "colab": {}
      },
      "source": [
        "document_embeddings = DocumentPoolEmbeddings([glove_embedding,\n",
        "                                             flair_embedding_backward,\n",
        "                                             flair_embedding_backward,\n",
        "                                             bert_embedding],\n",
        "                                             mode='min')\n"
      ],
      "execution_count": 0,
      "outputs": []
    },
    {
      "cell_type": "code",
      "metadata": {
        "id": "6Na02ZlLq4bF",
        "colab_type": "code",
        "outputId": "4a32715f-d08a-4edb-bd8c-6bbe02876990",
        "colab": {
          "base_uri": "https://localhost:8080/",
          "height": 34
        }
      },
      "source": [
        "#Now, create an example sentence and call the embedding's `embed()` method.\n",
        "\n",
        "# create an example sentence\n",
        "sentence = Sentence('The grass is green . And the sky is blue .')\n",
        "\n",
        "# embed the sentence with our document embedding\n",
        "document_embeddings.embed(sentence)\n",
        "\n",
        "# now check out the embedded sentence.\n",
        "print(sentence.get_embedding())\n"
      ],
      "execution_count": 52,
      "outputs": [
        {
          "output_type": "stream",
          "text": [
            "tensor([-0.8135, -0.2449, -0.2405,  ...,  0.2113,  0.1662,  0.0053])\n"
          ],
          "name": "stdout"
        }
      ]
    },
    {
      "cell_type": "markdown",
      "metadata": {
        "id": "2l33Yt1M-W7e",
        "colab_type": "text"
      },
      "source": [
        "\n",
        "### LSTM\n",
        "\n",
        "Besides the pooling we also support a method based on an LSTM to obtain a `DocumentEmbeddings`.\n",
        "The LSTM takes the word embeddings of every token in the document as input and provides its last output state as document\n",
        "embedding.\n",
        "\n",
        "In order to use the `DocumentLSTMEmbeddings` you need to initialize them by passing a list of token embeddings to it:\n"
      ]
    },
    {
      "cell_type": "code",
      "metadata": {
        "id": "LRsUHrBn-bAG",
        "colab_type": "code",
        "outputId": "4cdf559a-2db3-46c3-c46f-76ff777af7c2",
        "colab": {
          "base_uri": "https://localhost:8080/",
          "height": 88
        }
      },
      "source": [
        "from flair.embeddings import WordEmbeddings, DocumentLSTMEmbeddings\n",
        "\n",
        "glove_embedding = WordEmbeddings('glove')\n",
        "\n",
        "document_embeddings = DocumentLSTMEmbeddings([glove_embedding])\n"
      ],
      "execution_count": 53,
      "outputs": [
        {
          "output_type": "stream",
          "text": [
            "2019-05-23 18:11:40,418 this function is deprecated, use smart_open.open instead\n"
          ],
          "name": "stdout"
        },
        {
          "output_type": "stream",
          "text": [
            "/usr/local/lib/python3.6/dist-packages/ipykernel_launcher.py:5: DeprecationWarning: Call to deprecated class DocumentLSTMEmbeddings. (The functionality of this class is moved to 'DocumentRNNEmbeddings') -- Deprecated since version 0.4.\n",
            "  \"\"\"\n"
          ],
          "name": "stderr"
        }
      ]
    },
    {
      "cell_type": "code",
      "metadata": {
        "id": "erjt9T1q-foR",
        "colab_type": "code",
        "outputId": "cf0e07fe-87e8-4abc-e52b-c826b74cf378",
        "colab": {
          "base_uri": "https://localhost:8080/",
          "height": 306
        }
      },
      "source": [
        "#Now, create an example sentence and call the embedding's `embed()` method.\n",
        "\n",
        "# create an example sentence\n",
        "sentence = Sentence('The grass is green . And the sky is blue .')\n",
        "\n",
        "# embed the sentence with our document embedding\n",
        "document_embeddings.embed(sentence)\n",
        "\n",
        "# now check out the embedded sentence.\n",
        "print(sentence.get_embedding())\n"
      ],
      "execution_count": 54,
      "outputs": [
        {
          "output_type": "stream",
          "text": [
            "tensor([ 0.0000,  0.0000,  0.0000,  0.0000,  0.0000,  0.0000,  0.0000,  0.0000,\n",
            "         0.0000, -0.2845,  0.8262,  0.7757, -1.1923,  0.0000,  0.0000,  0.0000,\n",
            "         0.0000,  0.0000,  0.0000,  0.3397, -0.2536,  0.0000, -0.4631, -0.3826,\n",
            "         0.0000, -0.4472,  0.4710,  0.0000, -0.1305,  0.7259,  0.3120,  0.0000,\n",
            "        -0.1632,  0.0000,  0.1361, -0.2037, -0.8750, -0.2514,  0.1095,  0.2224,\n",
            "         0.6175,  0.0000,  0.0753, -0.0065,  0.0000,  0.0000,  0.0000,  0.0000,\n",
            "         0.0000,  0.0000,  0.7736, -0.2254,  0.0000,  0.0000,  0.0000,  0.0000,\n",
            "         0.0000,  0.0000,  0.0000, -0.8879,  0.0000,  0.0000, -0.3938, -0.4197,\n",
            "         0.1937,  0.3413,  0.1174, -0.6108,  0.0000,  0.0000,  0.2972, -1.0938,\n",
            "         1.0842, -0.5486,  0.0000, -0.4543,  0.0000, -0.3189,  0.0658,  0.0000,\n",
            "         0.0000, -0.3445,  0.3222,  0.0000,  0.0000,  0.0000,  0.0000,  0.7811,\n",
            "         0.5065,  0.0000,  0.0000,  0.2599,  0.5648, -0.6880,  0.0000,  0.0000,\n",
            "         0.0000,  0.0000,  0.4461,  0.0000,  0.0480, -0.0609,  0.0979,  0.0000,\n",
            "        -0.4216,  0.0000,  0.0000,  0.0000,  0.0000,  0.0000,  0.2670, -1.2544,\n",
            "         0.5421,  0.0000, -0.0446, -1.0661, -0.1779,  0.1658, -0.3629,  0.3333,\n",
            "         0.0000, -0.8936,  0.0000, -0.0901,  0.0000,  0.1799, -0.1181, -0.1570],\n",
            "       grad_fn=<CatBackward>)\n"
          ],
          "name": "stdout"
        }
      ]
    },
    {
      "cell_type": "markdown",
      "metadata": {
        "id": "5SYDj3kE0QRQ",
        "colab_type": "text"
      },
      "source": [
        "This will output a single embedding for the complete sentence. The embedding dimensionality depends on the number of\n",
        "hidden states you are using and whether the LSTM is bidirectional or not.\n",
        "\n",
        "Note that while `DocumentPoolEmbeddings` are immediately meaningful, `DocumentLSTMEmbeddings` need to be tuned on the\n",
        "downstream task. This happens automatically in Flair if you train a new model with these embeddings.\n",
        "`DocumentLSTMEmbeddings` have a number of hyper-parameters that can be tuned to improve learning:\n",
        "\n",
        "```text\n",
        ":param hidden_size: the number of hidden states in the lstm.\n",
        ":param rnn_layers: the number of layers for the lstm.\n",
        ":param reproject_words: boolean value, indicating whether to reproject the token embeddings in a separate linear\n",
        "layer before putting them into the lstm or not.\n",
        ":param reproject_words_dimension: output dimension of reprojecting token embeddings. If None the same output\n",
        "dimension as before will be taken.\n",
        ":param bidirectional: boolean value, indicating whether to use a bidirectional lstm or not.\n",
        ":param dropout: the dropout value to be used.\n",
        ":param word_dropout: the word dropout value to be used, if 0.0 word dropout is not used.\n",
        ":param locked_dropout: the locked dropout value to be used, if 0.0 locked dropout is not used.\n",
        "```\n",
        "\n"
      ]
    },
    {
      "cell_type": "markdown",
      "metadata": {
        "id": "OgqKd1Rl-ojW",
        "colab_type": "text"
      },
      "source": [
        "## Next \n",
        "\n",
        "You can now either look into the tutorial about [loading your corpus](/resources/docs/TUTORIAL_6_CORPUS.md), which\n",
        "is a pre-requirement for [training your own models](/resources/docs/TUTORIAL_7_TRAINING_A_MODEL.md)\n",
        "or into [training your own embeddings](/resources/docs/TUTORIAL_9_TRAINING_LM_EMBEDDINGS.md).\n",
        "Drag and Drop\n",
        "The image will be downloaded by Fatkun"
      ]
    },
    {
      "cell_type": "markdown",
      "metadata": {
        "id": "7f9A2uygyd_g",
        "colab_type": "text"
      },
      "source": [
        "#6. Loading your own Corpus"
      ]
    },
    {
      "cell_type": "markdown",
      "metadata": {
        "id": "nkdVSupL-74v",
        "colab_type": "text"
      },
      "source": [
        "This part of the tutorial shows how you can load your own corpus for training your own model later on.\n",
        "\n",
        "For this tutorial, we assume that you're familiar with the [base types](/resources/docs/TUTORIAL_1_BASICS.md) of this\n",
        "library."
      ]
    },
    {
      "cell_type": "markdown",
      "metadata": {
        "id": "iothwiKW_CSa",
        "colab_type": "text"
      },
      "source": [
        "## Reading A Sequence Labeling Dataset\n",
        "\n",
        "Most sequence labeling datasets in NLP use some sort of column format in which each line is a word and each column is\n",
        "one level of linguistic annotation. See for instance this sentence:\n",
        "\n",
        "```console\n",
        "George N B-PER\n",
        "Washington N I-PER\n",
        "went V O\n",
        "to P O\n",
        "Washington N B-LOC\n",
        "```\n",
        "\n",
        "The first column is the word itself, the second coarse PoS tags, and the third BIO-annotated NER tags. To read such a \n",
        "dataset, define the column structure as a dictionary and use a helper method.\n",
        "\n"
      ]
    },
    {
      "cell_type": "code",
      "metadata": {
        "id": "o9OTrQwB_I7F",
        "colab_type": "code",
        "colab": {}
      },
      "source": [
        "from flair.data import TaggedCorpus\n",
        "'''\n",
        "from flair.data_fetcher import NLPTaskDataFetcher\n",
        "\n",
        "# define columns\n",
        "columns = {0: 'text', 1: 'pos', 2: 'ner'}\n",
        "\n",
        "# this is the folder in which train, test and dev files reside\n",
        "data_folder = '/path/to/data/folder'\n",
        "\n",
        "# retrieve corpus using column format, data folder and the names of the train, dev and test files\n",
        "corpus: TaggedCorpus = NLPTaskDataFetcher.load_column_corpus(data_folder, columns,\n",
        "                                                              train_file='train.txt',\n",
        "                                                              test_file='test.txt',\n",
        "                                                              dev_file='dev.txt')\n",
        "                                                              \n",
        "'''"
      ],
      "execution_count": 0,
      "outputs": []
    },
    {
      "cell_type": "markdown",
      "metadata": {
        "id": "TOLFx0yJ_NKh",
        "colab_type": "text"
      },
      "source": [
        "\n",
        "This gives you a `TaggedCorpus` object that contains the train, dev and test splits, each has a list of `Sentence`.\n",
        "So, to check how many sentences there are in the training split, do"
      ]
    },
    {
      "cell_type": "code",
      "metadata": {
        "id": "IYMPtOQU_W6A",
        "colab_type": "code",
        "colab": {}
      },
      "source": [
        "#len(corpus.train)"
      ],
      "execution_count": 0,
      "outputs": []
    },
    {
      "cell_type": "markdown",
      "metadata": {
        "id": "neQNcTTR_Z3U",
        "colab_type": "text"
      },
      "source": [
        "You can also access a sentence and check out annotations. Lets assume that the first sentence in the training split is\n",
        "the example sentence from above, then executing these commands"
      ]
    },
    {
      "cell_type": "code",
      "metadata": {
        "id": "S9MHsicM_csC",
        "colab_type": "code",
        "colab": {}
      },
      "source": [
        "#print(corpus.train[0].to_tagged_string('pos'))\n",
        "#print(corpus.train[0].to_tagged_string('ner'))\n"
      ],
      "execution_count": 0,
      "outputs": []
    },
    {
      "cell_type": "markdown",
      "metadata": {
        "id": "4i8QyC2Q_lZx",
        "colab_type": "text"
      },
      "source": [
        "will print the sentence with different layers of annotation:\n",
        "\n",
        "```console\n",
        "George <N> Washington <N> went <V> to <P> Washington <N>\n",
        "\n",
        "George <B-PER> Washington <I-PER> went to Washington <B-LOC> .\n",
        "```\n"
      ]
    },
    {
      "cell_type": "markdown",
      "metadata": {
        "id": "Ywze-7E4_qsa",
        "colab_type": "text"
      },
      "source": [
        "## Reading a Text Classification Dataset\n",
        "\n",
        "Our text classification data format is based on the \n",
        "[FastText format](https://fasttext.cc/docs/en/supervised-tutorial.html), in which each line in the file represents a \n",
        "text document. A document can have one or multiple labels that are defined at the beginning of the line starting with \n",
        "the prefix `__label__`. This looks like this:\n",
        "\n",
        "```bash\n",
        "__label__<label_1> <text>\n",
        "__label__<label_1> __label__<label_2> <text>\n",
        "```\n"
      ]
    },
    {
      "cell_type": "markdown",
      "metadata": {
        "id": "ADw5aOmV_zqb",
        "colab_type": "text"
      },
      "source": [
        "\n",
        "To create a `TaggedCorpus` for a text classification task, you need to have three files (train, dev, and test) in the \n",
        "above format located in one folder. This data folder structure could, for example, look like this for the IMDB task:\n",
        "```text\n",
        "/resources/tasks/imdb/train.txt\n",
        "/resources/tasks/imdb/dev.txt\n",
        "/resources/tasks/imdb/test.txt\n",
        "```\n",
        "If you now point the `NLPTaskDataFetcher` to this folder (`/resources/tasks/imdb`), it will create a `TaggedCorpus` out of \n",
        "the three different files. Thereby, each line in a file is converted to a `Sentence` object annotated with the labels.\n",
        "\n",
        "Attention: A text in a line can have multiple sentences. Thus, a `Sentence` object can actually consist of multiple\n",
        "sentences.\n"
      ]
    },
    {
      "cell_type": "code",
      "metadata": {
        "id": "mhwPQUso_3S_",
        "colab_type": "code",
        "colab": {}
      },
      "source": [
        "from flair.data_fetcher import NLPTaskDataFetcher\n",
        "from pathlib import Path\n",
        "\n",
        "# use your own data path\n",
        "data_folder = Path('/resources/tasks/imdb')\n",
        "\n",
        "# load corpus containing training, test and dev data\n",
        "corpus: TaggedCorpus = NLPTaskDataFetcher.load_classification_corpus(data_folder,\n",
        "                                                                     test_file='test.txt',\n",
        "                                                                     dev_file='dev.txt',\n",
        "                                                                     train_file='train.txt')"
      ],
      "execution_count": 0,
      "outputs": []
    },
    {
      "cell_type": "markdown",
      "metadata": {
        "id": "tVQkYqEY_8TR",
        "colab_type": "text"
      },
      "source": [
        "\n",
        "If you just want to read a single file, you can use \n",
        "`NLPTaskDataFetcher.read_text_classification_file('path/to/file.txt)`, which returns a list of `Sentence` objects."
      ]
    },
    {
      "cell_type": "markdown",
      "metadata": {
        "id": "9LG5zZ2yAAJC",
        "colab_type": "text"
      },
      "source": [
        "## Downloading A Dataset\n",
        "\n",
        "Flair also supports a couple of datasets out of the box.\n",
        "You can simple load your preferred dataset by calling, for example\n",
        "```python\n",
        "corpus = NLPTaskDataFetcher.load_corpus(NLPTask.UD_ENGLISH)\n",
        "```\n",
        "This line of code will download the UD_ENGLISH dataset and puts it into `~/.flair/datasets/ud_english`.\n",
        "The method returns a `TaggedCorpus` which can be directly used to train your model."
      ]
    },
    {
      "cell_type": "markdown",
      "metadata": {
        "id": "TqNmgznAAKxu",
        "colab_type": "text"
      },
      "source": [
        "\n",
        "The following datasets are supported:\n",
        "\n",
        "| `NLPTask` | `NLPTask` | `NLPTask` |\n",
        "|---|---|---|\n",
        "| [CONLL_2000](https://www.clips.uantwerpen.be/conll2000/chunking/) | [UD_DUTCH](https://github.com/UniversalDependencies/UD_Dutch-Alpino) | [UD_CROATIAN](https://github.com/UniversalDependencies/UD_Croatian-SET) |\n",
        "| [CONLL_03_DUTCH](https://www.clips.uantwerpen.be/conll2002/ner/) | [UD_FRENCH](https://github.com/UniversalDependencies/UD_French-GSD) | [UD_SERBIAN](https://github.com/UniversalDependencies/UD_Serbian-SET) |\n",
        "| [CONLL_03_SPANISH](https://www.clips.uantwerpen.be/conll2002/ner/) | [UD_ITALIAN](https://github.com/UniversalDependencies/UD_Italian-ISDT) | [UD_BULGARIAN](https://github.com/UniversalDependencies/UD_Bulgarian-BTB) |\n",
        "| [WNUT_17](https://noisy-text.github.io/2017/files/) | [UD_SPANISH](https://github.com/UniversalDependencies/UD_Spanish-GSD) | [UD_ARABIC](https://github.com/UniversalDependencies/UD_Arabic-PADT) |\n",
        "| [WIKINER_ENGLISH](https://github.com/dice-group/FOX/tree/master/input/Wikiner) | [UD_PORTUGUESE](https://github.com/UniversalDependencies/UD_Portuguese-Bosque) | [UD_HEBREW](https://github.com/UniversalDependencies/UD_Hebrew-HTB) |\n",
        "| [WIKINER_GERMAN](https://github.com/dice-group/FOX/tree/master/input/Wikiner) | [UD_ROMANIAN](https://github.com/UniversalDependencies/UD_Romanian-RRT) | [UD_TURKISH](https://github.com/UniversalDependencies/UD_Turkish-IMST) |\n",
        "| [WIKINER_DUTCH](https://github.com/dice-group/FOX/tree/master/input/Wikiner) | [UD_CATALAN](https://github.com/UniversalDependencies/UD_Catalan-AnCora) | [UD_PERSIAN](https://github.com/UniversalDependencies/UD_Persian-Seraji) |\n",
        "| [WIKINER_FRENCH](https://github.com/dice-group/FOX/tree/master/input/Wikiner) | [UD_POLISH](https://github.com/UniversalDependencies/UD_Polish-LFG) | [UD_RUSSIAN](https://github.com/UniversalDependencies/UD_Russian-SynTagRus) |\n",
        "| [WIKINER_ITALIAN](https://github.com/dice-group/FOX/tree/master/input/Wikiner) | [UD_CZECH](https://github.com/UniversalDependencies/UD_Czech-PDT) | [UD_HINDI](https://github.com/UniversalDependencies/UD_Hindi-HDTB) |\n",
        "| [WIKINER_SPANISH](https://github.com/dice-group/FOX/tree/master/input/Wikiner) | [UD_SLOVAK](https://github.com/UniversalDependencies/UD_Slovak-SNK) | [UD_INDONESIAN](https://github.com/UniversalDependencies/UD_Indonesian-GSD) |\n",
        "| [WIKINER_PORTUGUESE](https://github.com/dice-group/FOX/tree/master/input/Wikiner) | [UD_SWEDISH](https://github.com/UniversalDependencies/UD_Swedish-Talbanken) | [UD_JAPANESE](https://github.com/UniversalDependencies/UD_Japanese-GSD) |\n",
        "| [WIKINER_POLISH](https://github.com/dice-group/FOX/tree/master/input/Wikiner) | [UD_DANISH](https://github.com/UniversalDependencies/UD_Danish-DDT) | [UD_CHINESE](https://github.com/UniversalDependencies/UD_Chinese-GSD) |\n",
        "| [WIKINER_RUSSIAN](https://github.com/dice-group/FOX/tree/master/input/Wikiner) | [UD_NORWEGIAN](https://github.com/UniversalDependencies/UD_Norwegian-Bokmaal) | [UD_KOREAN](https://github.com/UniversalDependencies/UD_Korean-Kaist) |\n",
        "| [UD_ENGLISH](https://github.com/UniversalDependencies/UD_English-EWT) | [UD_FINNISH](https://github.com/UniversalDependencies/UD_Finnish-TDT) |  [UD_BASQUE](https://github.com/UniversalDependencies/UD_Basque-BDT) |\n",
        "| [UD_GERMAN](https://github.com/UniversalDependencies/UD_German-GSD) | [UD_SLOVENIAN](https://github.com/UniversalDependencies/UD_Slovenian-SSJ) |\n",
        "\n"
      ]
    },
    {
      "cell_type": "markdown",
      "metadata": {
        "id": "DME-wBsCAPka",
        "colab_type": "text"
      },
      "source": [
        "\n",
        "## The TaggedCorpus Object\n",
        "\n",
        "The `TaggedCorpus` represents your entire dataset. A `TaggedCorpus` consists of a list of `train` sentences,\n",
        "a list of `dev` sentences, and a list of `test` sentences.\n",
        "\n",
        "A `TaggedCorpus` contains a bunch of useful helper functions.\n",
        "For instance, you can downsample the data by calling `downsample()` and passing a ratio. So, if you normally get a \n",
        "corpus like this:\n",
        "\n"
      ]
    },
    {
      "cell_type": "code",
      "metadata": {
        "id": "rJv3EVxOAY1g",
        "colab_type": "code",
        "colab": {}
      },
      "source": [
        "original_corpus = NLPTaskDataFetcher.load_corpus(NLPTask.UD_ENGLISH)\n",
        "\n",
        "#then you can downsample the corpus, simply like this:\n",
        "\n",
        "downsampled_corpus = NLPTaskDataFetcher.load_corpus(NLPTask.UD_ENGLISH).downsample(0.1)\n",
        "\n",
        "#If you print both corpora, you see that the second one has been downsampled to 10% of the data.\n",
        "\n",
        "print(\"--- 1 Original ---\")\n",
        "print(original_corpus)\n",
        "\n",
        "print(\"--- 2 Downsampled ---\")\n",
        "print(downsampled_corpus)\n",
        "\n"
      ],
      "execution_count": 0,
      "outputs": []
    },
    {
      "cell_type": "markdown",
      "metadata": {
        "id": "0Pj2puWoAqT-",
        "colab_type": "text"
      },
      "source": [
        "This should print:\n",
        "\n",
        "```console\n",
        "--- 1 Original ---\n",
        "TaggedCorpus: 12543 train + 2002 dev + 2077 test sentences\n",
        "\n",
        "--- 2 Downsampled ---\n",
        "TaggedCorpus: 1255 train + 201 dev + 208 test sentences\n",
        "```\n",
        "\n"
      ]
    },
    {
      "cell_type": "code",
      "metadata": {
        "id": "oZ3K2ccjAt5J",
        "colab_type": "code",
        "colab": {}
      },
      "source": [
        "#For many learning task you need to create a target dictionary. Thus, the `TaggedCorpus` enables you to create your\n",
        "#tag or label dictionary, depending on the task you want to learn. Simple execute the following code snippet to do so:\n",
        "\n",
        "# create tag dictionary for a PoS task\n",
        "corpus = NLPTaskDataFetcher.load_corpus(NLPTask.UD_ENGLISH)\n",
        "print(corpus.make_tag_dictionary('upos'))\n",
        "\n",
        "# create tag dictionary for an NER task\n",
        "corpus = NLPTaskDataFetcher.load_corpus(NLPTask.CONLL_03_DUTCH)\n",
        "print(corpus.make_tag_dictionary('ner'))\n",
        "\n",
        "# create label dictionary for a text classification task\n",
        "corpus = NLPTaskDataFetcher.load_corpus(NLPTask.IMDB, base_path='path/to/data/folder')\n",
        "print(corpus.make_label_dictionary())"
      ],
      "execution_count": 0,
      "outputs": []
    },
    {
      "cell_type": "code",
      "metadata": {
        "id": "W6GKghocAp8j",
        "colab_type": "code",
        "colab": {}
      },
      "source": [
        "#Another useful function is `obtain_statistics()` which returns you a python dictionary with useful statistics about your\n",
        "#dataset. Using it, for example, on the IMDB dataset like this\n",
        "\n",
        "from flair.data_fetcher import NLPTaskDataFetcher, NLPTask\n",
        " \n",
        "corpus = NLPTaskDataFetcher.load_corpus(NLPTask.IMDB, base_path='path/to/data/folder')\n",
        "stats = corpus.obtain_statistics()\n",
        "print(stats)"
      ],
      "execution_count": 0,
      "outputs": []
    },
    {
      "cell_type": "markdown",
      "metadata": {
        "id": "9rb-r7xzBC9e",
        "colab_type": "text"
      },
      "source": [
        "outputs the following information\n",
        "\n",
        "```text\n",
        "{\n",
        "  'TRAIN': {\n",
        "    'dataset': 'TRAIN', \n",
        "    'total_number_of_documents': 25000, \n",
        "    'number_of_documents_per_class': {'POSITIVE': 12500, 'NEGATIVE': 12500}, \n",
        "    'number_of_tokens': {'total': 6868314, 'min': 10, 'max': 2786, 'avg': 274.73256}\n",
        "  }, \n",
        "  'TEST': {\n",
        "    'dataset': 'TEST', \n",
        "    'total_number_of_documents': 12500, \n",
        "    'number_of_documents_per_class': {'NEGATIVE': 6245, 'POSITIVE': 6255}, \n",
        "    'number_of_tokens': {'total': 3379510, 'min': 8, 'max': 2768, 'avg': 270.3608}\n",
        "  }, 'DEV': {\n",
        "    'dataset': 'DEV', \n",
        "    'total_number_of_documents': 12500, \n",
        "    'number_of_documents_per_class': {'POSITIVE': 6245, 'NEGATIVE': 6255}, \n",
        "    'number_of_tokens': {'total': 3334898, 'min': 7, 'max': 2574, 'avg': 266.79184}\n",
        "  }\n",
        "}\n",
        "```"
      ]
    },
    {
      "cell_type": "markdown",
      "metadata": {
        "id": "UiF-lttKBFZU",
        "colab_type": "text"
      },
      "source": [
        "## The MultiCorpus Object\n",
        "\n",
        "If you want to train multiple tasks at once, you can use the `MultiCorpus` object.\n",
        "To initiate the `MultiCorpus` you first need to create any number of `TaggedCorpus` objects. Afterwards, you can pass\n",
        "a list of `TaggedCorpus` to the `MultiCorpus` object.\n",
        "\n",
        "```text\n",
        "english_corpus = NLPTaskDataFetcher.load_corpus(NLPTask.UD_ENGLISH)\n",
        "german_corpus = NLPTaskDataFetcher.load_corpus(NLPTask.UD_GERMAN)\n",
        "dutch_corpus = NLPTaskDataFetcher.load_corpus(NLPTask.UD_DUTCH)\n",
        "\n",
        "multi_corpus = MultiCorpus([english_corpus, german_corpus, dutch_corpus])\n",
        "```\n",
        "\n",
        "The `MultiCorpus` object has the same interface as the `TaggedCorpus`.\n",
        "You can simple pass a `MultiCorpus` to a trainer instead of a `TaggedCorpus`, the trainer will not know the difference\n",
        "and training operates as usual.\n"
      ]
    },
    {
      "cell_type": "markdown",
      "metadata": {
        "id": "BaPRZddo-z74",
        "colab_type": "text"
      },
      "source": [
        "## Next\n",
        "\n",
        "You can now look into [training your own models](/resources/docs/TUTORIAL_7_TRAINING_A_MODEL.md).\n",
        "Drag and Drop\n",
        "The image will be downloaded by Fatkun"
      ]
    },
    {
      "cell_type": "markdown",
      "metadata": {
        "id": "dGXO010WBadQ",
        "colab_type": "text"
      },
      "source": [
        "\n",
        "\n",
        "---\n",
        "\n"
      ]
    },
    {
      "cell_type": "markdown",
      "metadata": {
        "id": "4mtiOsqyyd9l",
        "colab_type": "text"
      },
      "source": [
        "#7. Training your own Model"
      ]
    },
    {
      "cell_type": "markdown",
      "metadata": {
        "id": "Wa6yD33dDusf",
        "colab_type": "text"
      },
      "source": [
        "This part of the tutorial shows how you can train your own sequence labeling and text\n",
        "classification models using state-of-the-art word embeddings.\n",
        "\n",
        "For this tutorial, we assume that you're familiar with the [base types](/resources/docs/TUTORIAL_1_BASICS.md) of this\n",
        "library and how [word embeddings](/resources/docs/TUTORIAL_3_WORD_EMBEDDING.md) work (ideally, you also know how [flair embeddings](/resources/docs/TUTORIAL_4_ELMO_BERT_FLAIR_EMBEDDING.md) work). You should also know how to [load\n",
        "a corpus](/resources/docs/TUTORIAL_6_CORPUS.md).\n",
        "\n",
        "\n"
      ]
    },
    {
      "cell_type": "markdown",
      "metadata": {
        "id": "pK8FpjEZD1uL",
        "colab_type": "text"
      },
      "source": [
        "## Training a Sequence Labeling Model\n",
        "\n",
        "Here is example code for a small NER model trained over CoNLL-03 data, using simple GloVe embeddings. To run this code, you first need to obtain the CoNLL-03 English dataset (alternatively, use `NLPTaskDataFetcher.load_corpus(NLPTask.WNUT)` instead for a task with freely available data).\n",
        "\n",
        "In this example, we downsample the data to 10% of the original data:\n",
        "\n"
      ]
    },
    {
      "cell_type": "code",
      "metadata": {
        "id": "UMzBr8FGD-Ar",
        "colab_type": "code",
        "colab": {}
      },
      "source": [
        "from flair.data import TaggedCorpus\n",
        "from flair.data_fetcher import NLPTaskDataFetcher, NLPTask\n",
        "from flair.embeddings import TokenEmbeddings, WordEmbeddings, StackedEmbeddings\n",
        "from typing import List\n",
        "\n",
        "# 1. get the corpus\n",
        "corpus: TaggedCorpus = NLPTaskDataFetcher.load_corpus(NLPTask.CONLL_03).downsample(0.1)\n",
        "print(corpus)\n",
        "\n",
        "# 2. what tag do we want to predict?\n",
        "tag_type = 'ner'\n",
        "\n",
        "# 3. make the tag dictionary from the corpus\n",
        "tag_dictionary = corpus.make_tag_dictionary(tag_type=tag_type)\n",
        "print(tag_dictionary.idx2item)\n",
        "\n",
        "# 4. initialize embeddings\n",
        "embedding_types: List[TokenEmbeddings] = [\n",
        "\n",
        "    WordEmbeddings('glove'),\n",
        "\n",
        "    # comment in this line to use character embeddings\n",
        "    # CharacterEmbeddings(),\n",
        "\n",
        "    # comment in these lines to use flair embeddings\n",
        "    # FlairEmbeddings('news-forward'),\n",
        "    # FlairEmbeddings('news-backward'),\n",
        "]\n",
        "\n",
        "embeddings: StackedEmbeddings = StackedEmbeddings(embeddings=embedding_types)\n",
        "\n",
        "# 5. initialize sequence tagger\n",
        "from flair.models import SequenceTagger\n",
        "\n",
        "tagger: SequenceTagger = SequenceTagger(hidden_size=256,\n",
        "                                        embeddings=embeddings,\n",
        "                                        tag_dictionary=tag_dictionary,\n",
        "                                        tag_type=tag_type,\n",
        "                                        use_crf=True)\n",
        "\n",
        "# 6. initialize trainer\n",
        "from flair.trainers import ModelTrainer\n",
        "\n",
        "trainer: ModelTrainer = ModelTrainer(tagger, corpus)\n",
        "\n",
        "# 7. start training\n",
        "trainer.train('resources/taggers/example-ner',\n",
        "              learning_rate=0.1,\n",
        "              mini_batch_size=32,\n",
        "              max_epochs=150)\n",
        "\n",
        "# 8. plot training curves (optional)\n",
        "from flair.visual.training_curves import Plotter\n",
        "plotter = Plotter()\n",
        "plotter.plot_training_curves('resources/taggers/example-ner/loss.tsv')\n",
        "plotter.plot_weights('resources/taggers/example-ner/weights.txt')\n"
      ],
      "execution_count": 0,
      "outputs": []
    },
    {
      "cell_type": "markdown",
      "metadata": {
        "id": "EEk7mJiyEFAx",
        "colab_type": "text"
      },
      "source": [
        "Alternatively, try using a stacked embedding with FlairEmbeddings and GloVe, over the full data, for 150 epochs.\n",
        "This will give you the state-of-the-art accuracy we report in the paper. To see the full code to reproduce experiments,\n",
        "check [here](/resources/docs/EXPERIMENTS.md).\n",
        "\n",
        "Once the model is trained you can use it to predict the class of new sentences. Just call the `predict` method of the\n",
        "model.\n"
      ]
    },
    {
      "cell_type": "code",
      "metadata": {
        "id": "BmJil2J-EKSU",
        "colab_type": "code",
        "colab": {}
      },
      "source": [
        "# load the model you trained\n",
        "model = SequenceTagger.load_from_file('resources/taggers/example-ner/final-model.pt')\n",
        "\n",
        "# create example sentence\n",
        "sentence = Sentence('I love Berlin')\n",
        "\n",
        "# predict tags and print\n",
        "model.predict(sentence)\n",
        "\n",
        "print(sentence.to_tagged_string())\n",
        "#If the model works well, it will correctly tag 'Berlin' as a location in this example."
      ],
      "execution_count": 0,
      "outputs": []
    },
    {
      "cell_type": "markdown",
      "metadata": {
        "id": "6caDiXkuEOfY",
        "colab_type": "text"
      },
      "source": [
        "\n",
        "## Training a Text Classification Model\n",
        "\n",
        "Here is example code for training a text classifier over the AGNews corpus, using  a combination of simple GloVe\n",
        "embeddings and Flair embeddings. You need to download the AGNews first to run this code. \n",
        "The AGNews corpus can be downloaded [here](https://www.di.unipi.it/~gulli/AG_corpus_of_news_articles.html).\n",
        "\n",
        "In this example, we downsample the data to 10% of the original data.\n",
        "\n"
      ]
    },
    {
      "cell_type": "code",
      "metadata": {
        "id": "su4iApejEdOr",
        "colab_type": "code",
        "colab": {}
      },
      "source": [
        "from flair.data import TaggedCorpus\n",
        "from flair.data_fetcher import NLPTaskDataFetcher, NLPTask\n",
        "from flair.embeddings import WordEmbeddings, FlairEmbeddings, DocumentLSTMEmbeddings\n",
        "from flair.models import TextClassifier\n",
        "from flair.trainers import ModelTrainer\n",
        "\n",
        "\n",
        "# 1. get the corpus\n",
        "corpus: TaggedCorpus = NLPTaskDataFetcher.load_corpus(NLPTask.AG_NEWS, 'path/to/data/folder').downsample(0.1)\n",
        "\n",
        "# 2. create the label dictionary\n",
        "label_dict = corpus.make_label_dictionary()\n",
        "\n",
        "# 3. make a list of word embeddings\n",
        "word_embeddings = [WordEmbeddings('glove'),\n",
        "\n",
        "                   # comment in flair embeddings for state-of-the-art results \n",
        "                   # FlairEmbeddings('news-forward'),\n",
        "                   # FlairEmbeddings('news-backward'),\n",
        "                   ]\n",
        "\n",
        "# 4. init document embedding by passing list of word embeddings\n",
        "document_embeddings: DocumentLSTMEmbeddings = DocumentLSTMEmbeddings(word_embeddings,\n",
        "                                                                     hidden_size=512,\n",
        "                                                                     reproject_words=True,\n",
        "                                                                     reproject_words_dimension=256,\n",
        "                                                                     )\n",
        "\n",
        "# 5. create the text classifier\n",
        "classifier = TextClassifier(document_embeddings, label_dictionary=label_dict, multi_label=False)\n",
        "\n",
        "# 6. initialize the text classifier trainer\n",
        "trainer = ModelTrainer(classifier, corpus)\n",
        "\n",
        "# 7. start the training\n",
        "trainer.train('resources/taggers/ag_news',\n",
        "              learning_rate=0.1,\n",
        "              mini_batch_size=32,\n",
        "              anneal_factor=0.5,\n",
        "              patience=5,\n",
        "              max_epochs=150)\n",
        "\n",
        "# 8. plot training curves (optional)\n",
        "from flair.visual.training_curves import Plotter\n",
        "plotter = Plotter()\n",
        "plotter.plot_training_curves('resources/taggers/ag_news/loss.tsv')\n",
        "plotter.plot_weights('resources/taggers/ag_news/weights.txt')\n"
      ],
      "execution_count": 0,
      "outputs": []
    },
    {
      "cell_type": "code",
      "metadata": {
        "id": "mYvCdGD7Ejqe",
        "colab_type": "code",
        "colab": {}
      },
      "source": [
        "\n",
        "#Once the model is trained you can load it to predict the class of new sentences. Just call the `predict` method of the model.\n",
        "\n",
        "classifier = TextClassifier.load_from_file('resources/taggers/ag_news/final-model.pt')\n",
        "\n",
        "# create example sentence\n",
        "sentence = Sentence('France is the current world cup winner.')\n",
        "\n",
        "# predict tags and print\n",
        "classifier.predict(sentence)\n",
        "\n",
        "print(sentence.labels)\n"
      ],
      "execution_count": 0,
      "outputs": []
    },
    {
      "cell_type": "markdown",
      "metadata": {
        "id": "d59tnaEaEsTC",
        "colab_type": "text"
      },
      "source": [
        "## Multi-Dataset Training\n",
        "\n",
        "Now, let us train a single model that can PoS tag text in both English and German. To do this, we load both the English and German UD corpora and create a MultiCorpus object. We also use the new multilingual Flair embeddings for this task. \n",
        "\n",
        "All the rest is same as before, e.g.: "
      ]
    },
    {
      "cell_type": "code",
      "metadata": {
        "id": "MliaO3XWE10a",
        "colab_type": "code",
        "colab": {}
      },
      "source": [
        "from typing import List\n",
        "from flair.data import MultiCorpus\n",
        "from flair.data_fetcher import NLPTaskDataFetcher, NLPTask\n",
        "from flair.embeddings import FlairEmbeddings, TokenEmbeddings, StackedEmbeddings\n",
        "from flair.training_utils import EvaluationMetric\n",
        "\n",
        "\n",
        "# 1. get the corpora - English and German UD\n",
        "corpus: MultiCorpus = NLPTaskDataFetcher.load_corpora([NLPTask.UD_ENGLISH, NLPTask.UD_GERMAN]).downsample(0.1)\n",
        "\n",
        "# 2. what tag do we want to predict?\n",
        "tag_type = 'upos'\n",
        "\n",
        "# 3. make the tag dictionary from the corpus\n",
        "tag_dictionary = corpus.make_tag_dictionary(tag_type=tag_type)\n",
        "print(tag_dictionary.idx2item)\n",
        "\n",
        "# 4. initialize embeddings\n",
        "embedding_types: List[TokenEmbeddings] = [\n",
        "\n",
        "    # we use multilingual Flair embeddings in this task\n",
        "    FlairEmbeddings('multi-forward'),\n",
        "    FlairEmbeddings('multi-backward'),\n",
        "]\n",
        "\n",
        "embeddings: StackedEmbeddings = StackedEmbeddings(embeddings=embedding_types)\n",
        "\n",
        "# 5. initialize sequence tagger\n",
        "from flair.models import SequenceTagger\n",
        "\n",
        "tagger: SequenceTagger = SequenceTagger(hidden_size=256,\n",
        "                                        embeddings=embeddings,\n",
        "                                        tag_dictionary=tag_dictionary,\n",
        "                                        tag_type=tag_type,\n",
        "                                        use_crf=True)\n",
        "\n",
        "# 6. initialize trainer\n",
        "from flair.trainers import ModelTrainer\n",
        "\n",
        "trainer: ModelTrainer = ModelTrainer(tagger, corpus)\n",
        "\n",
        "# 7. start training\n",
        "trainer.train('resources/taggers/example-universal-pos',\n",
        "              learning_rate=0.1,\n",
        "              mini_batch_size=32,\n",
        "              max_epochs=150,\n",
        "              evaluation_metric=EvaluationMetric.MICRO_ACCURACY)\n"
      ],
      "execution_count": 0,
      "outputs": []
    },
    {
      "cell_type": "markdown",
      "metadata": {
        "id": "QfRcpLbkE48-",
        "colab_type": "text"
      },
      "source": [
        "Note that here we use the MICRO_ACCURACY evaluation metric instead of the default MICRO_F1_SCORE. This gives you a multilingual model. Try experimenting with more languages!"
      ]
    },
    {
      "cell_type": "markdown",
      "metadata": {
        "id": "gd9LPGgCE62V",
        "colab_type": "text"
      },
      "source": [
        "\n",
        "## Plotting Training Curves and Weights\n",
        "\n",
        "Flair includes a helper method to plot training curves and weights in the neural network.\n",
        "The `ModelTrainer` automatically generates a `loss.tsv` and a `weights.txt` file in the result folder.\n",
        "\n",
        "After training, simple point the plotter to these files:"
      ]
    },
    {
      "cell_type": "code",
      "metadata": {
        "id": "IbhqlU98E_AU",
        "colab_type": "code",
        "colab": {}
      },
      "source": [
        "from flair.visual.training_curves import Plotter\n",
        "plotter = Plotter()\n",
        "plotter.plot_training_curves('loss.tsv')\n",
        "plotter.plot_weights('weights.txt') #This generates PNG plots in the result folder."
      ],
      "execution_count": 0,
      "outputs": []
    },
    {
      "cell_type": "markdown",
      "metadata": {
        "id": "RKI7USf3FLLJ",
        "colab_type": "text"
      },
      "source": [
        "## Resuming Training\n",
        "\n",
        "If you want to stop the training at some point and resume it at a later point, you should train with the parameter\n",
        "`checkpoint` set to `True`.\n",
        "This will save the model plus training parameters after every epoch.\n",
        "Thus, you can load the model plus trainer at any later point and continue the training exactly there where you have\n",
        "left.\n",
        "\n",
        "The example code below shows how to train, stop, and continue training of a `SequenceTagger`.\n",
        "Same can be done for `TextClassifier`."
      ]
    },
    {
      "cell_type": "code",
      "metadata": {
        "id": "sIO4-Y0pFURs",
        "colab_type": "code",
        "colab": {}
      },
      "source": [
        "from flair.data import TaggedCorpus\n",
        "from flair.data_fetcher import NLPTaskDataFetcher, NLPTask\n",
        "from flair.embeddings import TokenEmbeddings, WordEmbeddings, StackedEmbeddings\n",
        "from typing import List\n",
        "\n",
        "# 1. get the corpus\n",
        "corpus: TaggedCorpus = NLPTaskDataFetcher.load_corpus(NLPTask.CONLL_03).downsample(0.1)\n",
        "\n",
        "# 2. what tag do we want to predict?\n",
        "tag_type = 'ner'\n",
        "\n",
        "# 3. make the tag dictionary from the corpus\n",
        "tag_dictionary = corpus.make_tag_dictionary(tag_type=tag_type)\n",
        "\n",
        "# 4. initialize embeddings\n",
        "embedding_types: List[TokenEmbeddings] = [\n",
        "    WordEmbeddings('glove')\n",
        "]\n",
        "\n",
        "embeddings: StackedEmbeddings = StackedEmbeddings(embeddings=embedding_types)\n",
        "\n",
        "# 5. initialize sequence tagger\n",
        "from flair.models import SequenceTagger\n",
        "\n",
        "tagger: SequenceTagger = SequenceTagger(hidden_size=256,\n",
        "                                        embeddings=embeddings,\n",
        "                                        tag_dictionary=tag_dictionary,\n",
        "                                        tag_type=tag_type,\n",
        "                                        use_crf=True)\n",
        "\n",
        "# 6. initialize trainer\n",
        "from flair.trainers import ModelTrainer\n",
        "from flair.training_utils import EvaluationMetric\n",
        "\n",
        "trainer: ModelTrainer = ModelTrainer(tagger, corpus)\n",
        "\n",
        "# 7. start training\n",
        "trainer.train('resources/taggers/example-ner',\n",
        "              EvaluationMetric.MICRO_F1_SCORE,\n",
        "              learning_rate=0.1,\n",
        "              mini_batch_size=32,\n",
        "              max_epochs=150,\n",
        "              checkpoint=True)\n",
        "\n",
        "# 8. stop training at any point\n",
        "\n",
        "# 9. continue trainer at later point\n",
        "from pathlib import Path\n",
        "\n",
        "trainer = ModelTrainer.load_from_checkpoint(Path('resources/taggers/example-ner/checkpoint.pt'), 'SequenceTagger', corpus)\n",
        "trainer.train('resources/taggers/example-ner',\n",
        "              EvaluationMetric.MICRO_F1_SCORE,\n",
        "              learning_rate=0.1,\n",
        "              mini_batch_size=32,\n",
        "              max_epochs=150,\n",
        "              checkpoint=True)\n"
      ],
      "execution_count": 0,
      "outputs": []
    },
    {
      "cell_type": "markdown",
      "metadata": {
        "id": "n68gQA5wBiNB",
        "colab_type": "text"
      },
      "source": [
        "## Scalability: Training on Large Data Sets\n",
        "\n",
        "The main thing to consider when using `FlairEmbeddings` (which you should) is that they are\n",
        "somewhat costly to generate for large training data sets. Depending on your setup, you can\n",
        "set options to optimize training time. There are three questions to ask:\n",
        "\n",
        "1. Do you have a GPU?\n",
        "\n",
        "`CharLMEmbeddings` are generated using Pytorch RNNs and are thus optimized for GPUs. If you have one,\n",
        "you can set large mini-batch sizes to make use of batching. If not, you may want to use smaller language models.\n",
        "For English, we package 'fast' variants of our embeddings, loadable like this: `FlairEmbeddings('news-forward-fast')`.\n",
        "\n",
        "2. Do embeddings for the entire dataset fit into memory?\n",
        "\n",
        "In the best-case scenario, all embeddings for the dataset fit into your regular memory, which greatly increases\n",
        "training speed. If this is not the case, you must set the flag `embeddings_in_memory=False` in the respective trainer\n",
        " (i.e. `ModelTrainer`) to\n",
        "avoid memory problems. With the flag, embeddings are either (a) recomputed at each epoch or (b)\n",
        "retrieved from disk if you choose to materialize to disk. \n",
        "\n",
        "3. Do you have a fast hard drive?\n",
        "\n",
        "If you have a fast hard drive, consider materializing the embeddings to disk. You can do this my instantiating FlairEmbeddings as follows: `FlairEmbeddings('news-forward-fast', use_cache=True)`. This can help if embeddings do not fit into memory. Also if you do not have a GPU and want to do repeat experiments on the same dataset, this helps because embeddings need only be computed once and will then always be retrieved from disk. \n",
        "\n",
        "\n"
      ]
    },
    {
      "cell_type": "markdown",
      "metadata": {
        "id": "TEq2bUx5FaQ8",
        "colab_type": "text"
      },
      "source": [
        "## Next\n",
        "\n",
        "You can now either look into [optimizing your model](/resources/docs/TUTORIAL_8_MODEL_OPTIMIZATION.md) or\n",
        "[training your own embeddings](/resources/docs/TUTORIAL_9_TRAINING_LM_EMBEDDINGS.md).\n",
        "Drag and Drop\n",
        "The image will be downloaded by Fatkun\n",
        "\n",
        "\n",
        "---\n",
        "\n"
      ]
    },
    {
      "cell_type": "markdown",
      "metadata": {
        "id": "RGCyj7DRyd7W",
        "colab_type": "text"
      },
      "source": [
        "#8. Optimizing our models"
      ]
    },
    {
      "cell_type": "markdown",
      "metadata": {
        "id": "our0fQHOFz_O",
        "colab_type": "text"
      },
      "source": [
        "This is part 8 of the tutorial, in which we look into how we can improve the quality of our model by selecting\n",
        "the right set of model and hyper parameters.\n",
        "\n"
      ]
    },
    {
      "cell_type": "markdown",
      "metadata": {
        "id": "10QNK5yLF0oh",
        "colab_type": "text"
      },
      "source": [
        "## Selecting Hyper Parameters\n",
        "\n",
        "Flair includes a wrapper for the well-known hyper parameter selection tool\n",
        "[hyperopt](https://github.com/hyperopt/hyperopt).\n",
        "\n",
        "First you need to load your corpus. If you want to load the [AGNews corpus](https://www.di.unipi.it/~gulli/AG_corpus_of_news_articles.html)\n",
        "used in the following example, you first need to download it and convert it into the correct format. Please\n",
        "check [tutorial 6](/resources/docs/TUTORIAL_6_CORPUS.md) for more details.\n"
      ]
    },
    {
      "cell_type": "code",
      "metadata": {
        "id": "aZBD_v_JF5T4",
        "colab_type": "code",
        "colab": {}
      },
      "source": [
        "from flair.data import TaggedCorpus\n",
        "from flair.data_fetcher import NLPTaskDataFetcher, NLPTask\n",
        "\n",
        "# load your corpus\n",
        "corpus: TaggedCorpus = NLPTaskDataFetcher.load_corpus(NLPTask.AG_NEWS, base_path='/resources/tasks/ag_news')"
      ],
      "execution_count": 0,
      "outputs": []
    },
    {
      "cell_type": "markdown",
      "metadata": {
        "id": "T8ieX-sJGBHL",
        "colab_type": "text"
      },
      "source": [
        "Second you need to define the search space of parameters.\n",
        "Therefore, you can use all\n",
        "[parameter expressions](https://github.com/hyperopt/hyperopt/wiki/FMin#21-parameter-expressions) defined by hyperopt.\n"
      ]
    },
    {
      "cell_type": "code",
      "metadata": {
        "id": "BznuGqKgF9Nu",
        "colab_type": "code",
        "colab": {}
      },
      "source": [
        "from hyperopt import hp\n",
        "from flair.hyperparameter.param_selection import SearchSpace, Parameter\n",
        "\n",
        "# define your search space\n",
        "search_space = SearchSpace()\n",
        "search_space.add(Parameter.EMBEDDINGS, hp.choice, options=[\n",
        "    [ WordEmbeddings('en') ], \n",
        "    [ CharLMEmbeddings('news-forward'), CharLMEmbeddings('news-backward') ]\n",
        "])\n",
        "search_space.add(Parameter.HIDDEN_SIZE, hp.choice, options=[32, 64, 128])\n",
        "search_space.add(Parameter.RNN_LAYERS, hp.choice, options=[1, 2])\n",
        "search_space.add(Parameter.DROPOUT, hp.uniform, low=0.0, high=0.5)\n",
        "search_space.add(Parameter.LEARNING_RATE, hp.choice, options=[0.05, 0.1, 0.15, 0.2])\n",
        "search_space.add(Parameter.MINI_BATCH_SIZE, hp.choice, options=[8, 16, 32])\n"
      ],
      "execution_count": 0,
      "outputs": []
    },
    {
      "cell_type": "markdown",
      "metadata": {
        "id": "PxlClGPcGGqI",
        "colab_type": "text"
      },
      "source": [
        "\n",
        "Attention: You should always add your embeddings to the search space (as shown above). If you don't want to test\n",
        "different kind of embeddings, simply pass just one embedding option to the search space, which will than be used in\n",
        "every test run. Here is an example:"
      ]
    },
    {
      "cell_type": "code",
      "metadata": {
        "id": "HSmAAop-GLD3",
        "colab_type": "code",
        "colab": {}
      },
      "source": [
        "search_space.add(Parameter.EMBEDDINGS, hp.choice, options=[\n",
        "    [ CharLMEmbeddings('news-forward'), CharLMEmbeddings('news-backward') ]\n",
        "])"
      ],
      "execution_count": 0,
      "outputs": []
    },
    {
      "cell_type": "markdown",
      "metadata": {
        "id": "A3lRzLctGOfT",
        "colab_type": "text"
      },
      "source": [
        "In the last step you have to create the actual parameter selector. \n",
        "Depending on the task you need either to define a `TextClassifierParamSelector` or a `SequenceTaggerParamSelector` and \n",
        "start the optimization.\n",
        "You can define the maximum number of evaluation runs hyperopt should perform (`max_evals`).\n",
        "A evaluation run performs the specified number of epochs (`max_epochs`). \n",
        "To overcome the issue of noisy evaluation scores, we take the average over the last three evaluation scores (either\n",
        "`dev_score` or `dev_loss`) from the evaluation run, which represents the final score and will be passed to hyperopt.\n",
        "Additionally, you can specify the number of runs per evaluation run (`training_runs`). \n",
        "If you specify more than one training run, one evaluation run will be executed the specified number of times.\n",
        "The final evaluation score will be the average over all those runs."
      ]
    },
    {
      "cell_type": "code",
      "metadata": {
        "id": "GEzeaxkZGSTe",
        "colab_type": "code",
        "colab": {}
      },
      "source": [
        "from flair.hyperparameter.param_selection import TextClassifierParamSelector, OptimizationValue\n",
        "\n",
        "# create the parameter selector\n",
        "param_selector = TextClassifierParamSelector(\n",
        "    corpus, \n",
        "    False, \n",
        "    'resources/results', \n",
        "    'lstm',\n",
        "    max_epochs=50, \n",
        "    training_runs=3,\n",
        "    optimization_value=OptimizationValue.DEV_SCORE\n",
        ")\n",
        "\n",
        "# start the optimization\n",
        "param_selector.optimize(search_space, max_evals=100)"
      ],
      "execution_count": 0,
      "outputs": []
    },
    {
      "cell_type": "markdown",
      "metadata": {
        "id": "udxpPXJlGXU3",
        "colab_type": "text"
      },
      "source": [
        "The parameter settings and the evaluation scores will be written to `param_selection.txt` in the result directory.\n",
        "While selecting the best parameter combination we do not store any model to disk. We also do not perform a test run\n",
        "during training, we just evaluate the model once after training on the test set for logging purpose."
      ]
    },
    {
      "cell_type": "markdown",
      "metadata": {
        "id": "3bsKsq1qGbHZ",
        "colab_type": "text"
      },
      "source": [
        "## Finding the best Learning Rate\n",
        "\n",
        "The learning rate is one of the most important hyper parameter and it fundamentally depends on the topology of the loss\n",
        "landscape via the architecture of your model and the training data it consumes. An optimal learning will improve your\n",
        "training speed and hopefully give more performant models. A simple technique described by Leslie Smith's\n",
        "[Cyclical Learning Rates for Training](https://arxiv.org/abs/1506.01186) paper is to train your model starting with a\n",
        "very low learning rate and increases the learning rate exponentially at every batch update of SGD. By plotting the loss\n",
        "with respect to the learning rate we will typically observe three distinct phases: for low learning rates the loss does\n",
        "not improve, an optimal learning rate range where the loss drops the steepest and the final phase where the loss\n",
        "explodes as the learning rate becomes too big. With such a plot, the optimal learning rate selection is as easy as\n",
        "picking the highest one from the optimal phase.\n",
        "\n",
        "In order to run such an experiment start with your initialized `ModelTrainer` and call `find_learning_rate()` with the\n",
        "`base_path` and the file name in which to records the learning rates and losses. Then plot the generated results via the\n",
        "`Plotter`'s `plot_learning_rate()` function and have a look at the `learning_rate.png` image to select the optimal\n",
        "learning rate:\n",
        "\n"
      ]
    },
    {
      "cell_type": "code",
      "metadata": {
        "id": "D9QYgFWUGh8D",
        "colab_type": "code",
        "colab": {}
      },
      "source": [
        "from flair.data import TaggedCorpus\n",
        "from flair.data_fetcher import NLPTaskDataFetcher, NLPTask\n",
        "from flair.embeddings import TokenEmbeddings, WordEmbeddings, StackedEmbeddings\n",
        "from flair.trainers import ModelTrainer\n",
        "from typing import List\n",
        "\n",
        "# 1. get the corpus\n",
        "corpus: TaggedCorpus = NLPTaskDataFetcher.load_corpus(NLPTask.CONLL_03).downsample(0.1)\n",
        "print(corpus)\n",
        "\n",
        "# 2. what tag do we want to predict?\n",
        "tag_type = 'ner'\n",
        "\n",
        "# 3. make the tag dictionary from the corpus\n",
        "tag_dictionary = corpus.make_tag_dictionary(tag_type=tag_type)\n",
        "print(tag_dictionary.idx2item)\n",
        "\n",
        "# 4. initialize embeddings\n",
        "embedding_types: List[TokenEmbeddings] = [\n",
        "    WordEmbeddings('glove'),\n",
        "]\n",
        "\n",
        "embeddings: StackedEmbeddings = StackedEmbeddings(embeddings=embedding_types)\n",
        "\n",
        "# 5. initialize sequence tagger\n",
        "from flair.models import SequenceTagger\n",
        "\n",
        "tagger: SequenceTagger = SequenceTagger(hidden_size=256,\n",
        "                                        embeddings=embeddings,\n",
        "                                        tag_dictionary=tag_dictionary,\n",
        "                                        tag_type=tag_type,\n",
        "                                        use_crf=True)\n",
        "\n",
        "# 6. initialize trainer\n",
        "trainer: ModelTrainer = ModelTrainer(tagger, corpus)\n",
        "\n",
        "# 7. find learning rate\n",
        "learning_rate_tsv = ModelTrainer.find_learning_rate('resources/taggers/example-ner',\n",
        "                                                    'learning_rate.tsv')\n",
        "\n",
        "# 8. plot the learning rate finder curve\n",
        "plotter = Plotter()\n",
        "plotter.plot_learning_rate(learning_rate_tsv)"
      ],
      "execution_count": 0,
      "outputs": []
    },
    {
      "cell_type": "markdown",
      "metadata": {
        "id": "nnRmSkKjG2og",
        "colab_type": "text"
      },
      "source": [
        "## Custom Optimizers\n",
        "\n",
        "You can now use any of PyTorch's optimizers for training when initializing a `ModelTrainer`. To give the optimizer any extra options just specify it as shown with the `weight_decay` example:\n"
      ]
    },
    {
      "cell_type": "code",
      "metadata": {
        "id": "CavBzN9aGoi7",
        "colab_type": "code",
        "colab": {}
      },
      "source": [
        "\n",
        "from torch.optim.adam import Adam\n",
        "\n",
        "trainer: ModelTrainer = ModelTrainer(tagger, corpus,\n",
        "                                     optimizer=Adam, weight_decay=1e-4)"
      ],
      "execution_count": 0,
      "outputs": []
    },
    {
      "cell_type": "markdown",
      "metadata": {
        "id": "FjKLBNL2FjkB",
        "colab_type": "text"
      },
      "source": [
        "### AdamW and SGDW\n",
        "\n",
        "Weight decay is typically used by optimization methods to reduce over-fitting and it essentially adds a weight\n",
        "regularizer to the loss function via the `weight_decay` parameter of the optimizer. The way it is implemented in PyTorch\n",
        "this factor is confounded with the `learning_rate` and is essentially implementing L2 regularization. In the paper from\n",
        "Ilya Loshchilov and Frank Hutter [Fixing Weight Decay Regularization in Adam](https://arxiv.org/abs/1711.05101) the\n",
        "authors suggest to actually do weight decay rather than L2 regularization and they call their method AdamW and SGDW for\n",
        "the corresponding Adam and SGD versions. Empirically the results via these optimizers are better than their\n",
        "corresponding L2 regularized versions. However as the learning rate and weight decay are decoupled in these methods,\n",
        "any learning rate scheduling has to change both these terms. Not to worry, we automatically switch \n",
        "schedulers that do this when these optimizers are used.\n",
        "\n",
        "To use these optimizers just create the `ModelTrainer` with `AdamW` or `SGDW` together with any extra options as shown:"
      ]
    },
    {
      "cell_type": "code",
      "metadata": {
        "id": "d_pgSMwLHBqg",
        "colab_type": "code",
        "colab": {}
      },
      "source": [
        "from flair.optim import SGDW\n",
        "\n",
        "trainer: ModelTrainer = ModelTrainer(tagger, corpus,\n",
        "                                     optimizer=SGDW, momentum=0.9)"
      ],
      "execution_count": 0,
      "outputs": []
    },
    {
      "cell_type": "markdown",
      "metadata": {
        "id": "OkKvqT8bHGUW",
        "colab_type": "text"
      },
      "source": [
        "\n",
        "## Next\n",
        "\n",
        "The last tutorial is about [training your own embeddings](/resources/docs/TUTORIAL_9_TRAINING_LM_EMBEDDINGS.md).\n",
        "Drag and Drop\n",
        "The image will be downloaded by Fatkun\n",
        "\n",
        "\n",
        "---\n",
        "\n"
      ]
    },
    {
      "cell_type": "markdown",
      "metadata": {
        "id": "Rj2fT7amzRQV",
        "colab_type": "text"
      },
      "source": [
        "#9. Training your own Flair Embeddings"
      ]
    },
    {
      "cell_type": "markdown",
      "metadata": {
        "id": "38zovM4HHOG6",
        "colab_type": "text"
      },
      "source": [
        "Flair Embeddings are the secret sauce in Flair, allowing us to achieve state-of-the-art accuracies across a\n",
        "range of NLP tasks.\n",
        "This tutorial shows you how to train your own Flair embeddings, which may come in handy if you want to apply Flair\n",
        "to new languages or domains."
      ]
    },
    {
      "cell_type": "markdown",
      "metadata": {
        "id": "evHcXeJrHQHs",
        "colab_type": "text"
      },
      "source": [
        "## Preparing a Text Corpus\n",
        "\n",
        "Language models are trained with plain text. In the case of character LMs, we train them to predict the next character in a sequence of characters.\n",
        "\n",
        "To train your own model, you first need to identify a suitably large corpus. In our experiments, we used corpora that have about 1 billion words.\n",
        "\n",
        "You need to split your corpus into train, validation and test portions.\n",
        "Our trainer class assumes that there is a folder for the corpus in which there is a 'test.txt' and a 'valid.txt' with test and validation data.\n",
        "\n",
        "Importantly, there is also a folder called 'train' that contains the training data in splits.\n",
        "For instance, the billion word corpus is split into 100 parts.\n",
        "\n",
        "The splits are necessary if all the data does not fit into memory, in which case the trainer randomly iterates through all splits."
      ]
    },
    {
      "cell_type": "markdown",
      "metadata": {
        "id": "8t4P0v_RHkt3",
        "colab_type": "text"
      },
      "source": [
        "\n",
        "So, the folder structure must look like this:\n",
        "\n",
        "```\n",
        "corpus/\n",
        "corpus/train/\n",
        "corpus/train/train_split_1\n",
        "corpus/train/train_split_2\n",
        "corpus/train/...\n",
        "corpus/train/train_split_X\n",
        "corpus/test.txt\n",
        "corpus/valid.txt\n",
        "```\n",
        "\n",
        "\n"
      ]
    },
    {
      "cell_type": "markdown",
      "metadata": {
        "id": "yT2UYAfSHmNZ",
        "colab_type": "text"
      },
      "source": [
        "## Training the Language Model\n",
        "\n",
        "Once you have this folder structure, simply point the `LanguageModelTrainer` class to it to start learning a model."
      ]
    },
    {
      "cell_type": "code",
      "metadata": {
        "id": "SrwW0__LHq6i",
        "colab_type": "code",
        "colab": {}
      },
      "source": [
        "from pathlib import Path\n",
        "\n",
        "from flair.data import Dictionary\n",
        "from flair.models import LanguageModel\n",
        "from flair.trainers.language_model_trainer import LanguageModelTrainer, TextCorpus\n",
        "\n",
        "# are you training a forward or backward LM?\n",
        "is_forward_lm = True\n",
        "\n",
        "# load the default character dictionary\n",
        "dictionary: Dictionary = Dictionary.load('chars')\n",
        "\n",
        "# get your corpus, process forward and at the character level\n",
        "corpus = TextCorpus(Path('/path/to/your/corpus'),\n",
        "                    dictionary,\n",
        "                    is_forward_lm,\n",
        "                    character_level=True)\n",
        "\n",
        "# instantiate your language model, set hidden size and number of layers\n",
        "language_model = LanguageModel(dictionary,\n",
        "                               is_forward_lm,\n",
        "                               hidden_size=128,\n",
        "                               nlayers=1)\n",
        "\n",
        "# train your language model\n",
        "trainer = LanguageModelTrainer(language_model, corpus)\n",
        "\n",
        "trainer.train('resources/taggers/language_model',\n",
        "              sequence_length=10,\n",
        "              mini_batch_size=10,\n",
        "              max_epochs=10)"
      ],
      "execution_count": 0,
      "outputs": []
    },
    {
      "cell_type": "markdown",
      "metadata": {
        "id": "cQJ2-rFDHySw",
        "colab_type": "text"
      },
      "source": [
        "The parameters in this script are very small. We got good results with a hidden size of 1024 or 2048, a sequence length\n",
        "of 250, and a mini-batch size of 100.\n",
        "Depending on your resources, you can try training large models, but beware that you need a very powerful GPU and a lot\n",
        "of time to train a model (we train for > 1 week)."
      ]
    },
    {
      "cell_type": "markdown",
      "metadata": {
        "id": "LP6REJjAH2Xv",
        "colab_type": "text"
      },
      "source": [
        "## Using the LM as Embeddings\n",
        "\n",
        "Once you have the LM trained, using it as embeddings is easy. Just load the model into the `CharLMEmbeddings` class and\n",
        "use as you would any other embedding in Flair:"
      ]
    },
    {
      "cell_type": "code",
      "metadata": {
        "id": "OkqEhkDXH53l",
        "colab_type": "code",
        "colab": {}
      },
      "source": [
        "sentence = Sentence('I love Berlin')\n",
        "\n",
        "# init embeddings from your trained LM\n",
        "char_lm_embeddings = FlairEmbeddings('resources/taggers/language_model/best-lm.pt')\n",
        "\n",
        "# embed sentence\n",
        "char_lm_embeddings.embed(sentence)\n",
        "\n",
        "#Done!"
      ],
      "execution_count": 0,
      "outputs": []
    },
    {
      "cell_type": "markdown",
      "metadata": {
        "id": "e4tWWhKsIF9x",
        "colab_type": "text"
      },
      "source": [
        "## Non-Latin Alphabets\n",
        "\n",
        "If you train embeddings for a language that uses a non-latin alphabet such as Arabic or Japanese, you need to create your own character dictionary first. You can do this with the following code snippet: "
      ]
    },
    {
      "cell_type": "code",
      "metadata": {
        "id": "aYWETXa_ILtC",
        "colab_type": "code",
        "colab": {}
      },
      "source": [
        "# make an empty character dictionary\n",
        "from flair.data import Dictionary\n",
        "char_dictionary: Dictionary = Dictionary()\n",
        "\n",
        "# counter object\n",
        "import collections\n",
        "counter = collections.Counter()\n",
        "\n",
        "processed = 0\n",
        "\n",
        "import glob\n",
        "files = glob.glob('/path/to/your/corpus/files/*.*')\n",
        "\n",
        "print(files)\n",
        "for file in files:\n",
        "    print(file)\n",
        "\n",
        "    with open(file, 'r', encoding='utf-8') as f:\n",
        "        tokens = 0\n",
        "        for line in f:\n",
        "\n",
        "            processed += 1            \n",
        "            chars = list(line)\n",
        "            tokens += len(chars)\n",
        "\n",
        "            # Add chars to the dictionary\n",
        "            counter.update(chars)\n",
        "\n",
        "            # comment this line in to speed things up (if the corpus is too large)\n",
        "            # if tokens > 50000000: break\n",
        "\n",
        "    # break\n",
        "\n",
        "total_count = 0\n",
        "for letter, count in counter.most_common():\n",
        "    total_count += count\n",
        "\n",
        "print(total_count)\n",
        "print(processed)\n",
        "\n",
        "sum = 0\n",
        "idx = 0\n",
        "for letter, count in counter.most_common():\n",
        "    sum += count\n",
        "    percentile = (sum / total_count)\n",
        "\n",
        "    # comment this line in to use only top X percentile of chars, otherwise filter later\n",
        "    # if percentile < 0.00001: break\n",
        "\n",
        "    char_dictionary.add_item(letter)\n",
        "    idx += 1\n",
        "    print('%d\\t%s\\t%7d\\t%7d\\t%f' % (idx, letter, count, sum, percentile))\n",
        "\n",
        "print(char_dictionary.item2idx)\n",
        "\n",
        "import pickle\n",
        "with open('/path/to/your_char_mappings', 'wb') as f:\n",
        "    mappings = {\n",
        "        'idx2item': char_dictionary.idx2item,\n",
        "        'item2idx': char_dictionary.item2idx\n",
        "    }\n",
        "    pickle.dump(mappings, f)"
      ],
      "execution_count": 0,
      "outputs": []
    },
    {
      "cell_type": "code",
      "metadata": {
        "id": "JcC1_kQEIRiD",
        "colab_type": "code",
        "colab": {}
      },
      "source": [
        "#You can then use this dictionary instead of the default one in your code for training the language model: \n",
        "import pickle\n",
        "dictionary = Dictionary.load_from_file('/path/to/your_char_mappings')"
      ],
      "execution_count": 0,
      "outputs": []
    },
    {
      "cell_type": "markdown",
      "metadata": {
        "id": "kY-h73PRIXju",
        "colab_type": "text"
      },
      "source": [
        "## Parameters\n",
        "\n",
        "You might to play around with some of the learning parameters in the `LanguageModelTrainer`.\n",
        "For instance, we generally find that an initial learning rate of 20, and an annealing factor of 4 is pretty good for most corpora.\n",
        "\n",
        "You might also want to modify the 'patience' value of the learning rate scheduler. We currently have it at 25, meaning that if the training loss does not improve for 25 splits, it decreases the learning rate."
      ]
    },
    {
      "cell_type": "markdown",
      "metadata": {
        "id": "5xznjbHnFp-B",
        "colab_type": "text"
      },
      "source": [
        "## Consider Contributing your LM\n",
        "\n",
        "If you train a good LM for a language or domain we don't yet have in Flair, consider contacting us! \n",
        "We would be happy to integrate more LMs into the library so that other people can use them!\n",
        "\n",
        "Drag and Drop\n",
        "The image will be downloaded by Fatkun\n",
        "\n",
        "\n",
        "---\n",
        "\n"
      ]
    },
    {
      "cell_type": "markdown",
      "metadata": {
        "id": "ei4eRodRIrt-",
        "colab_type": "text"
      },
      "source": [
        "## End of Flair Tutorials"
      ]
    },
    {
      "cell_type": "markdown",
      "metadata": {
        "id": "A6yRoTpnzX1I",
        "colab_type": "text"
      },
      "source": [
        "\n",
        "\n",
        "---\n",
        "\n"
      ]
    }
  ]
}